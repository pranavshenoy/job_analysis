{
 "cells": [
  {
   "cell_type": "code",
   "execution_count": 1,
   "metadata": {
    "collapsed": true
   },
   "outputs": [],
   "source": [
    "import nltk"
   ]
  },
  {
   "cell_type": "code",
   "execution_count": 2,
   "metadata": {
    "collapsed": true
   },
   "outputs": [],
   "source": [
    "aspect1=['learning','opportunity','skill','growth','career']\n",
    "aspect2=['salary','pay','hike','incentive','bonus','security','compensation','promotion']\n",
    "aspect3=['management','manager','team','leader','collegue','worker','supervisor']\n",
    "aspect4=['work-life balance','work-life balance','life','flexibility','timings','holiday']\n",
    "aspect5=['infrastructure','facility','snacks','gym']\n",
    "aspect6=['workplace','culture','motivate','environment','atmosphere','respect']\n",
    "#aspect7=[]             #general"
   ]
  },
  {
   "cell_type": "code",
   "execution_count": null,
   "metadata": {
    "collapsed": true
   },
   "outputs": [],
   "source": []
  }
 ],
 "metadata": {
  "kernelspec": {
   "display_name": "Python [default]",
   "language": "python",
   "name": "python2"
  },
  "language_info": {
   "codemirror_mode": {
    "name": "ipython",
    "version": 2
   },
   "file_extension": ".py",
   "mimetype": "text/x-python",
   "name": "python",
   "nbconvert_exporter": "python",
   "pygments_lexer": "ipython2",
   "version": "2.7.12"
  }
 },
 "nbformat": 4,
 "nbformat_minor": 1
}
