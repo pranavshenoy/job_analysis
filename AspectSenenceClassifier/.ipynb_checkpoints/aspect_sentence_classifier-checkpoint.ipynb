{
 "cells": [
  {
   "cell_type": "code",
   "execution_count": 53,
   "metadata": {
    "collapsed": true
   },
   "outputs": [],
   "source": [
    "import nltk\n",
    "from nltk.stem import PorterStemmer\n",
    "from textblob import TextBlob\n",
    "from nltk.corpus import wordnet as w,stopwords \n",
    "import json\n",
    "import numpy as np\n",
    "import os\n",
    "import re\n",
    "import gensim"
   ]
  },
  {
   "cell_type": "code",
   "execution_count": 55,
   "metadata": {
    "collapsed": false
   },
   "outputs": [],
   "source": [
    "#loading word2vec model\n",
    "model=gensim.models.Word2Vec.load('../Word2Vec_model/model')"
   ]
  },
  {
   "cell_type": "code",
   "execution_count": 151,
   "metadata": {
    "collapsed": false
   },
   "outputs": [],
   "source": [
    "#fetching aspects\n",
    "aspects={}\n",
    "for root, dirs, files in os.walk('../Aspects/'):\n",
    "        for name in files:\n",
    "            with open('../Aspects/'+name) as f:\n",
    "                aspects[name]=json.load(f) "
   ]
  },
  {
   "cell_type": "code",
   "execution_count": 84,
   "metadata": {
    "collapsed": true
   },
   "outputs": [],
   "source": [
    "#initialising porter stemmer\n",
    "ps=PorterStemmer()"
   ]
  },
  {
   "cell_type": "code",
   "execution_count": 16,
   "metadata": {
    "collapsed": false
   },
   "outputs": [],
   "source": [
    "#fetch all reviews\n",
    "data=[]\n",
    "for root, dirs, files in os.walk('../Reviews/'):\n",
    "    for name in dirs:                             #all review folders\n",
    "        with open('../Reviews/'+name+'/review.txt') as f:\n",
    "            data=data+json.load(f)\n",
    "            f.close()\n",
    "dataset=[]\n",
    "dataset=np.asarray(data)\n",
    "dataset=np.concatenate(dataset)               #contains all the reviews"
   ]
  },
  {
   "cell_type": "code",
   "execution_count": 108,
   "metadata": {
    "collapsed": true
   },
   "outputs": [],
   "source": [
    "def remove_stopwords(tokens):                                # for removing stopwords\n",
    "    stop=set(stopwords.words('english'))\n",
    "    stopwords_tokens=[token for token in tokens if token not in stop]\n",
    "    return stopwords_tokens"
   ]
  },
  {
   "cell_type": "code",
   "execution_count": 118,
   "metadata": {
    "collapsed": false
   },
   "outputs": [],
   "source": [
    "def analyse_aspect(tokens):            # analyses to which aspect a set of tokens of a sentence belong to\n",
    "    aspect_flags={}\n",
    "    for aspect_name in files:\n",
    "        aspect_flags[aspect_name]=0\n",
    "\n",
    "    for token in tokens:\n",
    "        temp_token=ps.stem(token)\n",
    "        for aspect_name in files:\n",
    "            for aspect in aspects[aspect_name]:\n",
    "                temp_aspect=ps.stem(aspect)\n",
    "                if(temp_token == temp_aspect):\n",
    "                    aspect_flags[aspect_name]=aspect_flags[aspect_name]+1\n",
    "    return aspect_flags"
   ]
  },
  {
   "cell_type": "code",
   "execution_count": 157,
   "metadata": {
    "collapsed": true
   },
   "outputs": [],
   "source": [
    "def analyse_sentiment(aspect_flags,sentence):    #analyses the sentiment and stores the sentence to the specified class\n",
    "    temp=TextBlob(sentence)\n",
    "    polarity=temp.sentiment[0]            \n",
    "    if(polarity>=0 and polarity<=0.25):\n",
    "        file_name='neg'\n",
    "    elif(polarity>0.25 and polarity<=0.45):\n",
    "        file_name='sli_neg'\n",
    "    elif(polarity>0.55 and polarity<=0.75):\n",
    "        file_name='sli_pos'\n",
    "    elif(polarity>0.75 and polarity<=1):\n",
    "        file_name='pos' \n",
    "    else :\n",
    "        file_name='neutral'\n",
    "    print 'sentence :'+ sentence\n",
    "    print 'polarity :'+ file_name\n",
    "    \n",
    "    gen_flag=0\n",
    "    for aspect_name in files:                 # for all aspect names\n",
    "        if(aspect_flags[aspect_name]>0):\n",
    "            print 'aspect name :' +aspect_name\n",
    "            gen_flag=1             # for general category\n",
    "            file_ptr=open('../Dataset/'+aspect_name+'/'+file_name,'r')\n",
    "            temp_data=json.load(file_ptr)\n",
    "            file_ptr.close()\n",
    "            file_ptr=open('../Dataset/'+aspect_name+'/'+file_name,'w')\n",
    "            temp_data.append(sentence)\n",
    "            json.dump(temp_data,file_ptr)\n",
    "            file_ptr.close() \n",
    "    \n",
    "    if(gen_flag==0):\n",
    "        print 'Aspect Name : general category'\n",
    "        file_ptr=open('../Dataset/Aspect7/'+file_name,'r')\n",
    "        temp_data=json.load(file_ptr)\n",
    "        file_ptr.close()\n",
    "        file_ptr=open('../Dataset/Aspect7/'+file_name,'w')\n",
    "        temp_data.append(sentence)\n",
    "        json.dump(temp_data,file_ptr)\n",
    "        file_ptr.close()     "
   ]
  },
  {
   "cell_type": "code",
   "execution_count": 111,
   "metadata": {
    "collapsed": false,
    "scrolled": false
   },
   "outputs": [],
   "source": [
    "def tokenize_sent(sentence):                         # for tokenizing single sentence\n",
    "    temp_tokens=nltk.word_tokenize(sentence)\n",
    "    sent_tokens=remove_stopwords(temp_tokens)         # to be reconsidered\n",
    "    aspect_flags=analyse_aspect(sent_tokens)\n",
    "    analyse_sentiment(aspect_flags,sentence)"
   ]
  },
  {
   "cell_type": "code",
   "execution_count": 112,
   "metadata": {
    "collapsed": true
   },
   "outputs": [],
   "source": [
    "def tokenize_review(review):                # for tokenizing single reviews\n",
    "    review=review.lower()\n",
    "    review=TextBlob(review)\n",
    "    review=str(review.correct())           #to be corrected\n",
    "    review=review.replace('.',',')        \n",
    "    sentences=re.split('and | but |, ',review)        #splitting criteria\n",
    "    for sentence in sentences:\n",
    "        tokenize_sent(sentence)"
   ]
  },
  {
   "cell_type": "code",
   "execution_count": 113,
   "metadata": {
    "collapsed": false
   },
   "outputs": [],
   "source": [
    "def tokenize_all(dataset):               # for tokenizing all the reviews\n",
    "    print dataset\n",
    "    for review in dataset:\n",
    "        tokenize_review(review)"
   ]
  },
  {
   "cell_type": "code",
   "execution_count": 153,
   "metadata": {
    "collapsed": false
   },
   "outputs": [
    {
     "name": "stdout",
     "output_type": "stream",
     "text": [
      "[ u' IBM is a dynamic organisation &amp; try to keep up pace with fast changing trends in industry. Employees are  provided platform &amp; space to express ideas freely '\n",
      " u' Best Company to work with. Learned a lot of technologies, Management is very friendly and workplace culture is the one which makes you comfortable. The most enjoyable part is to explore your knowledge in sevaral domains and technology. '\n",
      " u' There is a huge pool of talent in IBM but I would say one has to put right eggs in the right basket. People who carry specific skill should be optimally utilized given their skill set. '\n",
      " u' IBM is a vast organisation. So every project or assignment is as good as a company change. Some projects can turn out to be a very good learning experience, but some may not. Good thing is you can change your projects every 2 years. '\n",
      " u' Corporate culture Good place to work Management is not up to the mark Hardest part of the job is nothing new to learn and scope for my work Enjoyable part of job is trouble shooting an issue with different assumptions ']\n",
      "sentence : ism is a dynamic organisation &amp; try to keep up pace with fast changing tends in industry\n",
      "polarity :neg\n",
      "Aspect Name : general category\n",
      "sentence :employees are  provided platform &amp; space to express ideas freely \n",
      "polarity :sli_neg\n",
      "Aspect Name : general category\n",
      "sentence : best company to work with\n",
      "polarity :pos\n",
      "Aspect Name : general category\n",
      "sentence :learned a lot of technologies\n",
      "polarity :neg\n",
      "aspect name :Aspect1\n",
      "sentence :management is very friendly \n",
      "polarity :neutral\n",
      "aspect name :Aspect3\n",
      "sentence :workplace culture is the one which makes you comfortable\n",
      "polarity :sli_neg\n",
      "aspect name :Aspect6\n",
      "sentence :the most enjoyable part is to explore your knowledge in several domain \n",
      "polarity :sli_neg\n",
      "Aspect Name : general category\n",
      "sentence :technology\n",
      "polarity :neg\n",
      "Aspect Name : general category\n",
      "sentence :\n",
      "polarity :neg\n",
      "Aspect Name : general category\n",
      "sentence : there is a huge pool of talent in ism\n",
      "polarity :sli_neg\n",
      "Aspect Name : general category\n",
      "sentence :i would say one has to put right eggs in the right basket\n",
      "polarity :sli_neg\n",
      "Aspect Name : general category\n",
      "sentence :people who carry specific skill should be optimally utilized given their skill set\n",
      "polarity :neg\n",
      "aspect name :Aspect1\n",
      "sentence :\n",
      "polarity :neg\n",
      "Aspect Name : general category\n",
      "sentence : ism is a vast organisation\n",
      "polarity :neg\n",
      "Aspect Name : general category\n",
      "sentence :so every project or assignment is as good as a company change\n",
      "polarity :sli_pos\n",
      "Aspect Name : general category\n",
      "sentence :some projects can turn out to be a very good learning experience\n",
      "polarity :pos\n",
      "aspect name :Aspect1\n",
      "aspect name :Aspect6\n",
      "sentence :but some may not\n",
      "polarity :neg\n",
      "Aspect Name : general category\n",
      "sentence :good thing is you can change your projects every 2 years\n",
      "polarity :sli_pos\n",
      "Aspect Name : general category\n",
      "sentence :\n",
      "polarity :neg\n",
      "Aspect Name : general category\n",
      "sentence : corporate culture good place to work management is not up to the mark hardest part of the job is nothing new to learn \n",
      "polarity :sli_neg\n",
      "aspect name :Aspect1\n",
      "aspect name :Aspect3\n",
      "aspect name :Aspect6\n",
      "sentence :scope for my work enjoyable part of job is trouble shooting an issue with different assumptions \n",
      "polarity :neg\n",
      "Aspect Name : general category\n"
     ]
    }
   ],
   "source": [
    "tokenize_all(dataset[100:105])"
   ]
  },
  {
   "cell_type": "code",
   "execution_count": 154,
   "metadata": {
    "collapsed": false,
    "scrolled": true
   },
   "outputs": [],
   "source": [
    "#clear all files\n",
    "def clear_all():\n",
    "    temp_files=files\n",
    "    temp_files.append('Aspect7')\n",
    "    for file_name in files:\n",
    "        with open('../Dataset/'+file_name+'/pos','w') as f:\n",
    "            json.dump([],f)\n",
    "        with open('../Dataset/'+file_name+'/neg','w') as f:\n",
    "            json.dump([],f)\n",
    "        with open('../Dataset/'+file_name+'/sli_pos','w') as f:\n",
    "            json.dump([],f)\n",
    "        with open('../Dataset/'+file_name+'/sli_neg','w') as f:\n",
    "            json.dump([],f)\n",
    "        with open('../Dataset/'+file_name+'/neutral','w') as f:\n",
    "            json.dump([],f)        "
   ]
  },
  {
   "cell_type": "code",
   "execution_count": 155,
   "metadata": {
    "collapsed": false
   },
   "outputs": [],
   "source": [
    "clear_all()"
   ]
  },
  {
   "cell_type": "code",
   "execution_count": null,
   "metadata": {
    "collapsed": false
   },
   "outputs": [],
   "source": []
  },
  {
   "cell_type": "code",
   "execution_count": null,
   "metadata": {
    "collapsed": true
   },
   "outputs": [],
   "source": []
  }
 ],
 "metadata": {
  "anaconda-cloud": {},
  "kernelspec": {
   "display_name": "Python [default]",
   "language": "python",
   "name": "python2"
  },
  "language_info": {
   "codemirror_mode": {
    "name": "ipython",
    "version": 2
   },
   "file_extension": ".py",
   "mimetype": "text/x-python",
   "name": "python",
   "nbconvert_exporter": "python",
   "pygments_lexer": "ipython2",
   "version": "2.7.12"
  }
 },
 "nbformat": 4,
 "nbformat_minor": 1
}
