{
 "cells": [
  {
   "cell_type": "code",
   "execution_count": 1,
   "metadata": {
    "collapsed": false
   },
   "outputs": [],
   "source": [
    "import nltk\n",
    "import random\n",
    "import os\n",
    "import json\n",
    "import random\n",
    "from nltk.corpus import wordnet as wn\n",
    "import pickle\n",
    "from nltk.stem import  PorterStemmer"
   ]
  },
  {
   "cell_type": "code",
   "execution_count": 37,
   "metadata": {
    "collapsed": true
   },
   "outputs": [],
   "source": [
    "ps=PorterStemmer()"
   ]
  },
  {
   "cell_type": "code",
   "execution_count": 5,
   "metadata": {
    "collapsed": false
   },
   "outputs": [],
   "source": [
    "def load_dataset(directory):  \n",
    "    dataset=[]\n",
    "    for root, dirs, files in os.walk('../Dataset'):\n",
    "        for root_f, dirs_f, files_f in os.walk(os.path.join(root,directory)):\n",
    "            for each_file in files_f:\n",
    "                with open(os.path.join(root,directory)+'/'+each_file) as f:\n",
    "                    data_temp=json.load(f)    \n",
    "                dataset+=[sentence for sentence in data_temp]\n",
    "    return dataset"
   ]
  },
  {
   "cell_type": "markdown",
   "metadata": {},
   "source": [
    "#  Polarity Based Dataset Loading"
   ]
  },
  {
   "cell_type": "code",
   "execution_count": 7,
   "metadata": {
    "collapsed": false
   },
   "outputs": [
    {
     "name": "stdout",
     "output_type": "stream",
     "text": [
      "31480\n"
     ]
    }
   ],
   "source": [
    "data_1=load_dataset('Aspect1')\n",
    "print len(data_1)"
   ]
  },
  {
   "cell_type": "code",
   "execution_count": 8,
   "metadata": {
    "collapsed": false
   },
   "outputs": [
    {
     "name": "stdout",
     "output_type": "stream",
     "text": [
      "9848\n"
     ]
    }
   ],
   "source": [
    "data_2=load_dataset('Aspect2')\n",
    "print len(data_2)"
   ]
  },
  {
   "cell_type": "code",
   "execution_count": 9,
   "metadata": {
    "collapsed": false
   },
   "outputs": [
    {
     "name": "stdout",
     "output_type": "stream",
     "text": [
      "65716\n"
     ]
    }
   ],
   "source": [
    "data_3=load_dataset('Aspect3')\n",
    "print len(data_3)"
   ]
  },
  {
   "cell_type": "code",
   "execution_count": 10,
   "metadata": {
    "collapsed": false
   },
   "outputs": [
    {
     "name": "stdout",
     "output_type": "stream",
     "text": [
      "14186\n"
     ]
    }
   ],
   "source": [
    "data_4=load_dataset('Aspect4')\n",
    "print len(data_4)"
   ]
  },
  {
   "cell_type": "code",
   "execution_count": 11,
   "metadata": {
    "collapsed": false
   },
   "outputs": [
    {
     "name": "stdout",
     "output_type": "stream",
     "text": [
      "4307\n"
     ]
    }
   ],
   "source": [
    "data_5=load_dataset('Aspect5')\n",
    "print len(data_5)"
   ]
  },
  {
   "cell_type": "code",
   "execution_count": 12,
   "metadata": {
    "collapsed": false
   },
   "outputs": [
    {
     "name": "stdout",
     "output_type": "stream",
     "text": [
      "12251\n"
     ]
    }
   ],
   "source": [
    "data_6=load_dataset('Aspect6')\n",
    "print len(data_6)"
   ]
  },
  {
   "cell_type": "code",
   "execution_count": 13,
   "metadata": {
    "collapsed": false
   },
   "outputs": [
    {
     "name": "stdout",
     "output_type": "stream",
     "text": [
      "41856\n"
     ]
    }
   ],
   "source": [
    "data_7=load_dataset('Aspect7')\n",
    "print len(data_7)"
   ]
  },
  {
   "cell_type": "markdown",
   "metadata": {},
   "source": [
    "# Tokenizing"
   ]
  },
  {
   "cell_type": "code",
   "execution_count": 14,
   "metadata": {
    "collapsed": false
   },
   "outputs": [],
   "source": [
    "vocab_1=[word for sentence in data_1 for word in sentence.split()]"
   ]
  },
  {
   "cell_type": "code",
   "execution_count": 15,
   "metadata": {
    "collapsed": true
   },
   "outputs": [],
   "source": [
    "vocab_2=[word for sentence in data_2 for word in sentence.split()]"
   ]
  },
  {
   "cell_type": "code",
   "execution_count": 16,
   "metadata": {
    "collapsed": true
   },
   "outputs": [],
   "source": [
    "vocab_3=[word for sentence in data_3 for word in sentence.split()]"
   ]
  },
  {
   "cell_type": "code",
   "execution_count": 17,
   "metadata": {
    "collapsed": true
   },
   "outputs": [],
   "source": [
    "vocab_4=[word for sentence in data_4 for word in sentence.split()]"
   ]
  },
  {
   "cell_type": "code",
   "execution_count": 18,
   "metadata": {
    "collapsed": true
   },
   "outputs": [],
   "source": [
    "vocab_5=[word for sentence in data_5 for word in sentence.split()]"
   ]
  },
  {
   "cell_type": "code",
   "execution_count": 23,
   "metadata": {
    "collapsed": true
   },
   "outputs": [],
   "source": [
    "vocab_6=[word for sentence in data_6 for word in sentence.split()]"
   ]
  },
  {
   "cell_type": "code",
   "execution_count": 24,
   "metadata": {
    "collapsed": true
   },
   "outputs": [],
   "source": [
    "vocab_7=[word for sentence in data_7 for word in sentence.split()]"
   ]
  },
  {
   "cell_type": "code",
   "execution_count": 25,
   "metadata": {
    "collapsed": false
   },
   "outputs": [
    {
     "name": "stdout",
     "output_type": "stream",
     "text": [
      "Aspect1 : 172202\n",
      "Aspect2 : 49738\n",
      "Aspect3 : 338371\n",
      "Aspect4 : 86273\n",
      "Aspect5 : 25657\n",
      "Aspect6 : 63711\n",
      "Aspect7 : 171810\n"
     ]
    }
   ],
   "source": [
    "print 'Aspect1 : '+ str(len(vocab_1))\n",
    "print 'Aspect2 : '+ str(len(vocab_2))\n",
    "print 'Aspect3 : '+ str(len(vocab_3))\n",
    "print 'Aspect4 : '+ str(len(vocab_4))\n",
    "print 'Aspect5 : '+ str(len(vocab_5))                  \n",
    "print 'Aspect6 : '+ str(len(vocab_6))                  \n",
    "print 'Aspect7 : '+ str(len(vocab_7))                  "
   ]
  },
  {
   "cell_type": "code",
   "execution_count": 26,
   "metadata": {
    "collapsed": false
   },
   "outputs": [
    {
     "name": "stdout",
     "output_type": "stream",
     "text": [
      "Aspect1 : 6537\n",
      "Aspect2 : 4066\n",
      "Aspect3 : 8902\n",
      "Aspect4 : 5122\n",
      "Aspect5 : 3671\n",
      "Aspect6 : 4365\n",
      "Aspect7 : 7653\n"
     ]
    }
   ],
   "source": [
    "print 'Aspect1 : '+ str(len(set(vocab_1)))\n",
    "print 'Aspect2 : '+ str(len(set(vocab_2)))\n",
    "print 'Aspect3 : '+ str(len(set(vocab_3)))\n",
    "print 'Aspect4 : '+ str(len(set(vocab_4)))\n",
    "print 'Aspect5 : '+ str(len(set(vocab_5)))                  \n",
    "print 'Aspect6 : '+ str(len(set(vocab_6)))                  \n",
    "print 'Aspect7 : '+ str(len(set(vocab_7)))                  "
   ]
  },
  {
   "cell_type": "markdown",
   "metadata": {},
   "source": [
    "# Fetching Counts"
   ]
  },
  {
   "cell_type": "code",
   "execution_count": 30,
   "metadata": {
    "collapsed": false
   },
   "outputs": [],
   "source": [
    "counts_1=[(x,vocab_1.count(x)) for x in set(vocab_1)]\n",
    "counts_2=[(x,vocab_2.count(x)) for x in set(vocab_2)]\n",
    "counts_3=[(x,vocab_3.count(x)) for x in set(vocab_3)]\n",
    "counts_4=[(x,vocab_4.count(x)) for x in set(vocab_4)]\n",
    "counts_5=[(x,vocab_5.count(x)) for x in set(vocab_5)]\n",
    "counts_6=[(x,vocab_6.count(x)) for x in set(vocab_6)]\n",
    "counts_7=[(x,vocab_7.count(x)) for x in set(vocab_7)]"
   ]
  },
  {
   "cell_type": "code",
   "execution_count": 31,
   "metadata": {
    "collapsed": true
   },
   "outputs": [],
   "source": [
    "def count(pair):\n",
    "    return pair[1]"
   ]
  },
  {
   "cell_type": "code",
   "execution_count": 32,
   "metadata": {
    "collapsed": true
   },
   "outputs": [],
   "source": [
    "counts_1=sorted(counts_1,reverse=True,key=count)\n",
    "counts_2=sorted(counts_2,reverse=True,key=count)\n",
    "counts_3=sorted(counts_3,reverse=True,key=count)\n",
    "counts_4=sorted(counts_4,reverse=True,key=count)\n",
    "counts_5=sorted(counts_5,reverse=True,key=count)\n",
    "counts_6=sorted(counts_6,reverse=True,key=count)\n",
    "counts_7=sorted(counts_7,reverse=True,key=count)"
   ]
  },
  {
   "cell_type": "code",
   "execution_count": 33,
   "metadata": {
    "collapsed": false
   },
   "outputs": [],
   "source": [
    "with open('../Vocab_aspect/1','w') as f:\n",
    "    json.dump(counts_1,f)\n",
    "with open('../Vocab_aspect/2','w') as f:\n",
    "    json.dump(counts_2,f)\n",
    "with open('../Vocab_aspect/3','w') as f:\n",
    "    json.dump(counts_3,f)\n",
    "with open('../Vocab_aspect/4','w') as f:\n",
    "    json.dump(counts_4,f)\n",
    "with open('../Vocab_aspect/5','w') as f:\n",
    "    json.dump(counts_5,f)\n",
    "with open('../Vocab_aspect/6','w') as f:\n",
    "    json.dump(counts_6,f)\n",
    "with open('../Vocab_aspect/7','w') as f:\n",
    "    json.dump(counts_7,f)    "
   ]
  },
  {
   "cell_type": "markdown",
   "metadata": {
    "collapsed": false
   },
   "source": [
    "# Merging Count"
   ]
  },
  {
   "cell_type": "code",
   "execution_count": 35,
   "metadata": {
    "collapsed": false
   },
   "outputs": [],
   "source": [
    "final_vocab=[]\n",
    "with open('../Aspects/Aspect1') as f:\n",
    "    final_vocab.extend(json.load(f)) \n",
    "with open('../Aspects/Aspect2') as f:\n",
    "    final_vocab.extend(json.load(f))     \n",
    "with open('../Aspects/Aspect3') as f:\n",
    "    final_vocab.extend(json.load(f))        \n",
    "with open('../Aspects/Aspect4') as f:\n",
    "    final_vocab.extend(json.load(f))        \n",
    "with open('../Aspects/Aspect5') as f:\n",
    "    final_vocab.extend(json.load(f))        \n",
    "with open('../Aspects/Aspect6') as f:\n",
    "    final_vocab.extend(json.load(f))        "
   ]
  },
  {
   "cell_type": "code",
   "execution_count": 36,
   "metadata": {
    "collapsed": false
   },
   "outputs": [
    {
     "ename": "NameError",
     "evalue": "name 'ps' is not defined",
     "output_type": "error",
     "traceback": [
      "\u001b[0;31m---------------------------------------------------------------------------\u001b[0m",
      "\u001b[0;31mNameError\u001b[0m                                 Traceback (most recent call last)",
      "\u001b[0;32m<ipython-input-36-8c8e842390d1>\u001b[0m in \u001b[0;36m<module>\u001b[0;34m()\u001b[0m\n\u001b[0;32m----> 1\u001b[0;31m \u001b[0mfinal_vocab\u001b[0m\u001b[0;34m=\u001b[0m\u001b[0;34m[\u001b[0m\u001b[0mps\u001b[0m\u001b[0;34m.\u001b[0m\u001b[0mstem\u001b[0m\u001b[0;34m(\u001b[0m\u001b[0mword\u001b[0m\u001b[0;34m)\u001b[0m \u001b[0;32mfor\u001b[0m \u001b[0mword\u001b[0m \u001b[0;32min\u001b[0m \u001b[0mfinal_vocab\u001b[0m\u001b[0;34m]\u001b[0m\u001b[0;34m\u001b[0m\u001b[0m\n\u001b[0m",
      "\u001b[0;31mNameError\u001b[0m: name 'ps' is not defined"
     ]
    }
   ],
   "source": [
    "final_vocab=[ps.stem(word) for word in final_vocab]"
   ]
  },
  {
   "cell_type": "code",
   "execution_count": 28,
   "metadata": {
    "collapsed": false
   },
   "outputs": [
    {
     "data": {
      "text/plain": [
       "307"
      ]
     },
     "execution_count": 28,
     "metadata": {},
     "output_type": "execute_result"
    }
   ],
   "source": [
    "len(set(final_vocab))"
   ]
  },
  {
   "cell_type": "code",
   "execution_count": 31,
   "metadata": {
    "collapsed": false
   },
   "outputs": [],
   "source": [
    "final_vocab=list(set(final_vocab))"
   ]
  },
  {
   "cell_type": "code",
   "execution_count": 32,
   "metadata": {
    "collapsed": false
   },
   "outputs": [],
   "source": [
    "#with open('vocab','w') as f:\n",
    "#    json.dump(final_vocab,f)"
   ]
  },
  {
   "cell_type": "code",
   "execution_count": null,
   "metadata": {
    "collapsed": true
   },
   "outputs": [],
   "source": []
  }
 ],
 "metadata": {
  "anaconda-cloud": {},
  "kernelspec": {
   "display_name": "Python [default]",
   "language": "python",
   "name": "python2"
  },
  "language_info": {
   "codemirror_mode": {
    "name": "ipython",
    "version": 2
   },
   "file_extension": ".py",
   "mimetype": "text/x-python",
   "name": "python",
   "nbconvert_exporter": "python",
   "pygments_lexer": "ipython2",
   "version": "2.7.12"
  }
 },
 "nbformat": 4,
 "nbformat_minor": 1
}
