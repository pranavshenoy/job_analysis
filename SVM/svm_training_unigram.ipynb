{
 "cells": [
  {
   "cell_type": "code",
   "execution_count": 1,
   "metadata": {
    "collapsed": false
   },
   "outputs": [],
   "source": [
    "import nltk\n",
    "import random\n",
    "import os\n",
    "from sklearn.feature_extraction.text import CountVectorizer\n",
    "from sklearn import svm\n",
    "import json\n",
    "import pickle\n",
    "from sklearn.metrics import accuracy_score, f1_score"
   ]
  },
  {
   "cell_type": "code",
   "execution_count": 2,
   "metadata": {
    "collapsed": false
   },
   "outputs": [],
   "source": [
    "def load_dataset():  \n",
    "    dataset=[]\n",
    "    for root, dirs, files in os.walk('../Dataset'):\n",
    "        for directory in dirs:\n",
    "            for root_f, dirs_f, files_f in os.walk(os.path.join(root,directory)):\n",
    "                #files_f.remove('neutral')\n",
    "                for each_file in files_f:\n",
    "                    with open(os.path.join(root,directory)+'/'+each_file) as f:\n",
    "                        data_temp=json.load(f)    \n",
    "                    if(each_file == 'pos' or each_file == 'sli_pos'):\n",
    "                        dataset+=[(sentence,1) for sentence in data_temp]\n",
    "                    elif(each_file == 'neg' or each_file == 'sli_neg'):\n",
    "                        dataset+=[(sentence,0) for sentence in data_temp]    \n",
    "    return dataset"
   ]
  },
  {
   "cell_type": "code",
   "execution_count": 3,
   "metadata": {
    "collapsed": false
   },
   "outputs": [],
   "source": [
    "#execution\n",
    "labeled_data=load_dataset()    #loading labeled sentences\n",
    "random.shuffle(labeled_data)"
   ]
  },
  {
   "cell_type": "code",
   "execution_count": 4,
   "metadata": {
    "collapsed": true
   },
   "outputs": [],
   "source": [
    "#loading vocab\n",
    "with open('../NaiveBayes/vocab') as f:\n",
    "    vocab=json.load(f)"
   ]
  },
  {
   "cell_type": "code",
   "execution_count": 5,
   "metadata": {
    "collapsed": false
   },
   "outputs": [
    {
     "data": {
      "text/plain": [
       "307"
      ]
     },
     "execution_count": 5,
     "metadata": {},
     "output_type": "execute_result"
    }
   ],
   "source": [
    "len(vocab)"
   ]
  },
  {
   "cell_type": "code",
   "execution_count": 6,
   "metadata": {
    "collapsed": false
   },
   "outputs": [
    {
     "name": "stdout",
     "output_type": "stream",
     "text": [
      "(u'enjoyable part job seeing creativity action', 1)\n"
     ]
    }
   ],
   "source": [
    "print labeled_data[705]"
   ]
  },
  {
   "cell_type": "code",
   "execution_count": 7,
   "metadata": {
    "collapsed": false
   },
   "outputs": [
    {
     "name": "stdout",
     "output_type": "stream",
     "text": [
      "118577\n"
     ]
    }
   ],
   "source": [
    "print len(labeled_data)"
   ]
  },
  {
   "cell_type": "code",
   "execution_count": 8,
   "metadata": {
    "collapsed": false
   },
   "outputs": [],
   "source": [
    "vectorizer = CountVectorizer(vocabulary=vocab,min_df=1)\n",
    "corpus=[sentence for sentence,pol in labeled_data]\n",
    "features=vectorizer.fit_transform(corpus[:60000])\n",
    "labels=[label for sentence,label in labeled_data[:60000]]"
   ]
  },
  {
   "cell_type": "code",
   "execution_count": 9,
   "metadata": {
    "collapsed": false
   },
   "outputs": [],
   "source": [
    "classifier=svm.SVC(kernel='linear',probability=True)"
   ]
  },
  {
   "cell_type": "code",
   "execution_count": 10,
   "metadata": {
    "collapsed": false
   },
   "outputs": [],
   "source": [
    "classifier.fit(features,labels)\n",
    "with open('svc_unigram_model','w') as f:\n",
    "    pickle.dump(classifier,f) "
   ]
  },
  {
   "cell_type": "code",
   "execution_count": 11,
   "metadata": {
    "collapsed": false
   },
   "outputs": [],
   "source": [
    "#accuracy\n",
    "#with open('svc_unigram_model') as f:\n",
    "#    classifier=pickle.load(f)\n",
    "features_test=vectorizer.fit_transform(corpus[-10000:])\n",
    "predicted = classifier.predict(features_test)\n",
    "accuracy=accuracy_score(labels[-10000:],predicted)\n",
    "with open('accuracy_svc_unigram','w') as f:                #compute accuracy and store it\n",
    "    json.dump(accuracy,f) "
   ]
  },
  {
   "cell_type": "code",
   "execution_count": 12,
   "metadata": {
    "collapsed": false
   },
   "outputs": [
    {
     "name": "stdout",
     "output_type": "stream",
     "text": [
      "Accuracy : 0.7986\n"
     ]
    }
   ],
   "source": [
    "print 'Accuracy : '+ str(accuracy)    # accuracy for  linear = 79.65%"
   ]
  },
  {
   "cell_type": "code",
   "execution_count": 65,
   "metadata": {
    "collapsed": false
   },
   "outputs": [
    {
     "name": "stdout",
     "output_type": "stream",
     "text": [
      "sample :management system great\n"
     ]
    },
    {
     "name": "stderr",
     "output_type": "stream",
     "text": [
      "/home/pranav/anaconda2/lib/python2.7/site-packages/sklearn/utils/validation.py:386: DeprecationWarning: Passing 1d arrays as data is deprecated in 0.17 and willraise ValueError in 0.19. Reshape your data either using X.reshape(-1, 1) if your data has a single feature or X.reshape(1, -1) if it contains a single sample.\n",
      "  DeprecationWarning)\n"
     ]
    },
    {
     "data": {
      "text/plain": [
       "array([1])"
      ]
     },
     "execution_count": 65,
     "metadata": {},
     "output_type": "execute_result"
    }
   ],
   "source": [
    "#testing\n",
    "feature_test=[]\n",
    "print 'sample :'+corpus[434]\n",
    "# creating feature set\n",
    "for word in vocab: \n",
    "    if word in corpus[434]:\n",
    "        feature_test.append(1)\n",
    "    else:\n",
    "        feature_test.append(0)\n",
    "#predicting class        \n",
    "classifier.predict(feature_test)"
   ]
  },
  {
   "cell_type": "code",
   "execution_count": 80,
   "metadata": {
    "collapsed": false
   },
   "outputs": [
    {
     "data": {
      "text/plain": [
       "[(u'great place career growth working hours used hectic', 1),\n",
       " (u'great group team members', 1),\n",
       " (u'drop facility helpful people hard part irregular break management', 0),\n",
       " (u'help customers clean', 1),\n",
       " (u'great place work div profit center', 1),\n",
       " (u'great people', 1),\n",
       " (u'good place work one largest organizations world pro', 1),\n",
       " (u'human beings worth', 1),\n",
       " (u'effective troubleshooting customer data call routing issues assist', 1),\n",
       " (u'really enjoyed job co workers', 1),\n",
       " (u'one best companies far resources undeniably abundant', 1),\n",
       " (u'overly reactive management many cases', 1),\n",
       " (u'friendly environment', 1),\n",
       " (u'average day consisted stocking', 0),\n",
       " (u'sometimes high', 1),\n",
       " (u'awesome bunch', 1),\n",
       " (u'placing new merchandise', 1),\n",
       " (u'funny ones made time work fly', 1),\n",
       " (u'typical day work full fun', 1),\n",
       " (u'right morning evening great place work enjoyed every day', 1),\n",
       " (u'customer satisfaction responsible maintaining data integrity dedicated accounts',\n",
       "  1),\n",
       " (u'always willing listen', 1),\n",
       " (u'bad hours', 0),\n",
       " (u'projects interesting', 1),\n",
       " (u'fast paced job', 1),\n",
       " (u'typical day staffed', 0),\n",
       " (u'new existing requirements roadblocks discussed', 1),\n",
       " (u'one best environments productive team management looks top talent', 1),\n",
       " (u'customers always leaving smile', 1),\n",
       " (u'success tips day', 1),\n",
       " (u'achieve career goal work hard enough', 0),\n",
       " (u'good job', 1),\n",
       " (u'hard work', 0),\n",
       " (u'management easy get along', 1),\n",
       " (u'management good part', 1),\n",
       " (u'hardest part job long working hours handsome perks enjoyable part job working calling process',\n",
       "  1),\n",
       " (u'say one challenging', 1),\n",
       " (u'management good', 1),\n",
       " (u'typical day work started', 0),\n",
       " (u'enjoyable part job part black work one spot whole day', 1),\n",
       " (u'highly professional environment good management learned time management',\n",
       "  1),\n",
       " (u'services responsible handling cash', 1),\n",
       " (u'ore fine per', 1),\n",
       " (u'prioritize work check amp clear e mail sent customers outlook check account called day',\n",
       "  1),\n",
       " (u'great opportunities learn new technologies', 1),\n",
       " (u'somehow managing day time job learned lots innovative things job role company always motivate employees innovative thinking',\n",
       "  1),\n",
       " (u'extra time fun games finish work quickly', 1),\n",
       " (u'loved job unlimited overtime well working clean', 1),\n",
       " (u'everybody always great attitude', 1),\n",
       " (u'learning new things electronics field', 1),\n",
       " (u'excellent work culture', 1),\n",
       " (u'good company work', 1),\n",
       " (u'enjoyable time work transform cloud company', 1),\n",
       " (u'senior co workers provides adequate respect', 1),\n",
       " (u'good work life balance', 1),\n",
       " (u'family friendly would nice', 1),\n",
       " (u'slow making decisions', 0),\n",
       " (u'excellent people', 1),\n",
       " (u'brightest many resources learn', 1),\n",
       " (u'good office politics order survive', 1),\n",
       " (u'happy make customers satisfied ads', 1),\n",
       " (u'since first hired', 1),\n",
       " (u'amazing culture company big', 1),\n",
       " (u'work hazardous times', 1),\n",
       " (u'everything great accept salary', 1),\n",
       " (u'great salary', 1),\n",
       " (u'many locations', 1),\n",
       " (u'day one knew would love job', 1),\n",
       " (u'target great place start order build essential knowledge', 1),\n",
       " (u'higher management expects healthy', 1),\n",
       " (u'large presence federal marketplace', 1),\n",
       " (u'hardest part working team process making team stronger building best client relations',\n",
       "  1),\n",
       " (u'many many companies pay much amount effort involved work', 1),\n",
       " (u'apply new skills developed', 1),\n",
       " (u'good place learn new things', 1),\n",
       " (u'management offered good environment freshers indulge corporate world', 1),\n",
       " (u'fast paced environment', 1),\n",
       " (u'working environment good', 1),\n",
       " (u'great health care', 1),\n",
       " (u'enjoyed working', 1),\n",
       " (u'yet firm amp strict emphasizing haste amp accuracy around great experience',\n",
       "  1),\n",
       " (u'best platform develop talent leveraging strengths', 1),\n",
       " (u'also constant flow work everyday', 0),\n",
       " (u'high opportunity', 1),\n",
       " (u'either answer transfer person area caller helped better knowledge certain question',\n",
       "  1),\n",
       " (u'answer questions may ask hard change schedules hardest part deal rude costumers',\n",
       "  0),\n",
       " (u'please stay clear', 1),\n",
       " (u'loved working', 1),\n",
       " (u'first work place', 1),\n",
       " (u'fun working', 1),\n",
       " (u'higher ups asking several tasks', 1),\n",
       " (u'good ones leave', 1),\n",
       " (u'mess everything', 0),\n",
       " (u'must remain competitive attract great talent', 1),\n",
       " (u'learned much', 1),\n",
       " (u'work home option good vacation', 1),\n",
       " (u'co workers supportive seek support various teams input', 1),\n",
       " (u'making sure job right', 1),\n",
       " (u'good pay benefits', 1),\n",
       " (u'excellent projects', 1)]"
      ]
     },
     "execution_count": 80,
     "metadata": {},
     "output_type": "execute_result"
    }
   ],
   "source": [
    "labeled_data[:100]"
   ]
  },
  {
   "cell_type": "code",
   "execution_count": null,
   "metadata": {
    "collapsed": false
   },
   "outputs": [],
   "source": []
  },
  {
   "cell_type": "code",
   "execution_count": null,
   "metadata": {
    "collapsed": false
   },
   "outputs": [],
   "source": []
  },
  {
   "cell_type": "code",
   "execution_count": null,
   "metadata": {
    "collapsed": false
   },
   "outputs": [],
   "source": []
  },
  {
   "cell_type": "code",
   "execution_count": null,
   "metadata": {
    "collapsed": false
   },
   "outputs": [],
   "source": []
  },
  {
   "cell_type": "code",
   "execution_count": null,
   "metadata": {
    "collapsed": false
   },
   "outputs": [],
   "source": []
  },
  {
   "cell_type": "code",
   "execution_count": null,
   "metadata": {
    "collapsed": false
   },
   "outputs": [],
   "source": []
  },
  {
   "cell_type": "code",
   "execution_count": null,
   "metadata": {
    "collapsed": false
   },
   "outputs": [],
   "source": []
  },
  {
   "cell_type": "code",
   "execution_count": null,
   "metadata": {
    "collapsed": true
   },
   "outputs": [],
   "source": []
  }
 ],
 "metadata": {
  "anaconda-cloud": {},
  "kernelspec": {
   "display_name": "Python [default]",
   "language": "python",
   "name": "python2"
  },
  "language_info": {
   "codemirror_mode": {
    "name": "ipython",
    "version": 2
   },
   "file_extension": ".py",
   "mimetype": "text/x-python",
   "name": "python",
   "nbconvert_exporter": "python",
   "pygments_lexer": "ipython2",
   "version": "2.7.12"
  }
 },
 "nbformat": 4,
 "nbformat_minor": 1
}
