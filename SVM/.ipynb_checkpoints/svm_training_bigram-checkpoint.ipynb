{
 "cells": [
  {
   "cell_type": "code",
   "execution_count": 60,
   "metadata": {
    "collapsed": false
   },
   "outputs": [],
   "source": [
    "import nltk\n",
    "import random\n",
    "import os\n",
    "from sklearn import svm\n",
    "import json\n",
    "import pickle\n",
    "import numpy as np\n",
    "from sklearn.feature_extraction.text import CountVectorizer\n",
    "from sklearn.metrics import accuracy_score, f1_score"
   ]
  },
  {
   "cell_type": "code",
   "execution_count": 34,
   "metadata": {
    "collapsed": false
   },
   "outputs": [],
   "source": [
    "label_map={'neg':0 ,'sli_neg':1 ,'neutral':2 ,'sli_pos':3 ,'pos':4}"
   ]
  },
  {
   "cell_type": "code",
   "execution_count": 35,
   "metadata": {
    "collapsed": false
   },
   "outputs": [],
   "source": [
    "def load_dataset():  \n",
    "    dataset=[]\n",
    "    for root, dirs, files in os.walk('../Dataset'):\n",
    "        for directory in dirs:\n",
    "            for root_f, dirs_f, files_f in os.walk(os.path.join(root,directory)):\n",
    "                for each_file in files_f:\n",
    "                    with open(os.path.join(root,directory)+'/'+each_file) as f:\n",
    "                        data_temp=json.load(f)    \n",
    "                    dataset+=[(sentence,label_map[each_file]) for sentence in data_temp]\n",
    "    return dataset"
   ]
  },
  {
   "cell_type": "code",
   "execution_count": 36,
   "metadata": {
    "collapsed": false
   },
   "outputs": [],
   "source": [
    "#execution\n",
    "labeled_data=load_dataset()    #loading labeled sentences\n",
    "random.shuffle(labeled_data)\n",
    "with open('../NaiveBayes/vocab_bigram') as f:\n",
    "    vocab=json.load(f)    "
   ]
  },
  {
   "cell_type": "code",
   "execution_count": 37,
   "metadata": {
    "collapsed": false
   },
   "outputs": [
    {
     "name": "stdout",
     "output_type": "stream",
     "text": [
      "[(u'respons deliver system integr project standard best practic across tear possibl author', 3), (u'also keep product everi week witch manag keep keep product eventu fire', 2), (u'nice compani', 4), (u'readi help new person', 3), (u'awesom job', 4)]\n"
     ]
    }
   ],
   "source": [
    "#bigrams\n",
    "print labeled_data[:5]"
   ]
  },
  {
   "cell_type": "code",
   "execution_count": 38,
   "metadata": {
    "collapsed": false
   },
   "outputs": [
    {
     "name": "stdout",
     "output_type": "stream",
     "text": [
      "201378\n"
     ]
    }
   ],
   "source": [
    "print len(labeled_data)"
   ]
  },
  {
   "cell_type": "code",
   "execution_count": 39,
   "metadata": {
    "collapsed": false
   },
   "outputs": [
    {
     "name": "stdout",
     "output_type": "stream",
     "text": [
      "10863\n",
      "[u'team set', u'still get', u'work abl', u'logist team', u'good reput', u'year employ', u'time realli', u'quickli learn', u'custom experi', u'steep learn', u'perform well', u'drive sale', u'horribl work', u'languag easi', u'anywher els', u'time peopl', u'hard move', u'sinc start', u'realli smart', u'learn thing', u'work alway', u'lot challeng', u'offer great', u'import part', u'meet amp', u'style manag', u'friendli manner', u'job face', u'job fact', u'life properli', u'work field', u'proud inner', u'provid report', u'target good', u'learn best', u'day work', u'interest client', u'custom manag', u'fantast learn', u'though good', u'item anyth', u'posit allow', u'clean work', u'gave opportun', u'learn comput', u'six month', u'great like', u'larg tear', u'let us', u'given us', u'work bore', u'work form', u'work forc', u'also pay', u'lo due', u'month experi', u'time listen', u'kind environ', u'tide work', u'adventur brilliant', u'go life', u'learn intern', u'otherwis good', u'togeth achiev', u'good healthi', u'make money', u'low skill', u'live life', u'career improv', u'sometim take', u'balanc much', u'work deal', u'budget cut', u'day includ', u'challeng team', u'compani term', u'stretch hour', u'one career', u'variou client', u'experi differ', u'averag pay', u'manag new', u'system good', u'advanc hard', u'life integr', u'process associ', u'demand work', u'team good', u'togeth team', u'job may', u'later life', u'learn make', u'great mind', u'ti first', u'balanc choic', u'relat skill', u'opportun solv', u'anoth opportun', u'oracl best', u'friendli amp']\n"
     ]
    }
   ],
   "source": [
    "print len(vocab)\n",
    "print vocab[:100]"
   ]
  },
  {
   "cell_type": "code",
   "execution_count": 40,
   "metadata": {
    "collapsed": false
   },
   "outputs": [],
   "source": [
    "vectorizer = CountVectorizer(vocabulary=vocab,min_df=1,ngram_range=(2,2))\n",
    "corpus=[sentence for sentence,pol in labeled_data]\n",
    "features=vectorizer.fit_transform(corpus[:50000])\n",
    "labels=[label for sentence,label in labeled_data[:50000]]"
   ]
  },
  {
   "cell_type": "code",
   "execution_count": 53,
   "metadata": {
    "collapsed": false
   },
   "outputs": [],
   "source": [
    "classifier=svm.SVC()\n",
    "classifier.kernel='linear'"
   ]
  },
  {
   "cell_type": "code",
   "execution_count": 54,
   "metadata": {
    "collapsed": false
   },
   "outputs": [],
   "source": [
    "classifier.fit(features[:25000],labels[:25000])\n",
    "with open('svc_bigram_model','w') as f:\n",
    "    pickle.dump(classifier,f)"
   ]
  },
  {
   "cell_type": "code",
   "execution_count": 55,
   "metadata": {
    "collapsed": false
   },
   "outputs": [],
   "source": [
    "#accuracy\n",
    "predicted = classifier.predict(features[30000:35000])\n",
    "accuracy=accuracy_score(labels[30000:35000],predicted)\n",
    "#with open('acuracy_svc_unigram','w') as f:\n",
    "#    json.dump(accuracy,f) "
   ]
  },
  {
   "cell_type": "code",
   "execution_count": 61,
   "metadata": {
    "collapsed": false
   },
   "outputs": [],
   "source": [
    "accuracy_f1=f1_score(labels[30000:35000],predicted,average='macro')"
   ]
  },
  {
   "cell_type": "code",
   "execution_count": 62,
   "metadata": {
    "collapsed": false
   },
   "outputs": [
    {
     "data": {
      "text/plain": [
       "0.58391618223912833"
      ]
     },
     "execution_count": 62,
     "metadata": {},
     "output_type": "execute_result"
    }
   ],
   "source": [
    "accuracy_f1"
   ]
  },
  {
   "cell_type": "code",
   "execution_count": 56,
   "metadata": {
    "collapsed": false
   },
   "outputs": [
    {
     "data": {
      "text/plain": [
       "0.65259999999999996"
      ]
     },
     "execution_count": 56,
     "metadata": {},
     "output_type": "execute_result"
    }
   ],
   "source": [
    "accuracy"
   ]
  },
  {
   "cell_type": "code",
   "execution_count": 21,
   "metadata": {
    "collapsed": false
   },
   "outputs": [
    {
     "name": "stdout",
     "output_type": "stream",
     "text": [
      "neg: 0.585660\n",
      "sli_pos: 0.035267\n",
      "sli_neg: 0.230902\n",
      "neutral: 0.123239\n",
      "pos: 0.024931\n"
     ]
    }
   ],
   "source": [
    "dist = classifier.prob_classify(extract_features(sen.split()))\n",
    "for label in dist.samples():\n",
    "    print(\"%s: %f\" % (label, dist.prob(label)))"
   ]
  },
  {
   "cell_type": "code",
   "execution_count": 22,
   "metadata": {
    "collapsed": false
   },
   "outputs": [
    {
     "name": "stdout",
     "output_type": "stream",
     "text": [
      "neg: 0.585660\n",
      "sli_pos: 0.035267\n",
      "sli_neg: 0.230902\n",
      "neutral: 0.123239\n",
      "pos: 0.024931\n",
      "0.585660041903\n"
     ]
    }
   ],
   "source": [
    "polarity=0\n",
    "for label in dist.samples():\n",
    "    print(\"%s: %f\" % (label, dist.prob(label)))\n",
    "    polarity=max(polarity,dist.prob(label))\n",
    "print polarity"
   ]
  },
  {
   "cell_type": "code",
   "execution_count": null,
   "metadata": {
    "collapsed": true
   },
   "outputs": [],
   "source": []
  }
 ],
 "metadata": {
  "anaconda-cloud": {},
  "kernelspec": {
   "display_name": "Python [default]",
   "language": "python",
   "name": "python2"
  },
  "language_info": {
   "codemirror_mode": {
    "name": "ipython",
    "version": 2
   },
   "file_extension": ".py",
   "mimetype": "text/x-python",
   "name": "python",
   "nbconvert_exporter": "python",
   "pygments_lexer": "ipython2",
   "version": "2.7.12"
  }
 },
 "nbformat": 4,
 "nbformat_minor": 1
}
