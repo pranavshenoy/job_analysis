{
 "cells": [
  {
   "cell_type": "code",
   "execution_count": 44,
   "metadata": {
    "collapsed": true
   },
   "outputs": [],
   "source": [
    "from bs4 import BeautifulSoup\n",
    "import requests\n",
    "import os\n",
    "import numpy as np\n",
    "import json"
   ]
  },
  {
   "cell_type": "code",
   "execution_count": 45,
   "metadata": {
    "collapsed": true
   },
   "outputs": [],
   "source": [
    "def get_company_names():                           # returns list of all companies\n",
    "    with open('list_of_companies.json') as f:\n",
    "        data=json.load(f)\n",
    "    print 'List Of Companies: '\n",
    "    print data\n",
    "    return data  "
   ]
  },
  {
   "cell_type": "code",
   "execution_count": 46,
   "metadata": {
    "collapsed": true
   },
   "outputs": [],
   "source": [
    "def remove(list,tag,replacement):           #replace the tag with replacement ---for removing the tag\n",
    "    new_list=[]\n",
    "    for review in list:\n",
    "        temp=str(review).replace(tag,replacement)\n",
    "        new_list.append(temp)\n",
    "    return new_list  "
   ]
  },
  {
   "cell_type": "code",
   "execution_count": 47,
   "metadata": {
    "collapsed": true
   },
   "outputs": [],
   "source": [
    "def remove_tags(data,tags):\n",
    "    for tag in tags:\n",
    "        data=remove(data,tag,' ')\n",
    "    return data    "
   ]
  },
  {
   "cell_type": "code",
   "execution_count": 48,
   "metadata": {
    "collapsed": true
   },
   "outputs": [],
   "source": [
    "def get_count(page):                                  #returns total number of pages\n",
    "    t=page.find_all('div',attrs={'class':'cmp-note'})\n",
    "    count=remove(t[1],'<div class=\"cmp-note\">',' ')\n",
    "    count=remove(count,',','')\n",
    "    count=(int(count[0])/20)+1\n",
    "    return count"
   ]
  },
  {
   "cell_type": "code",
   "execution_count": 49,
   "metadata": {
    "collapsed": true
   },
   "outputs": [],
   "source": [
    "def fetch_page(url):                              #fetches current page with given url\n",
    "    page=requests.get(url).text\n",
    "    page=BeautifulSoup(page,'lxml')\n",
    "    return page"
   ]
  },
  {
   "cell_type": "code",
   "execution_count": 50,
   "metadata": {
    "collapsed": false
   },
   "outputs": [],
   "source": [
    "def get_pages(cmpy_name):                        #get total no. of pages and traverse  through each page\n",
    "    count=0\n",
    "    url='https://www.indeed.co.in/cmp/'+cmpy_name+'/reviews?fcountry=ALL&start='+str(count)\n",
    "    page=fetch_page(url)\n",
    "    f=open('../Reviews/'+cmpy_name+'/review.txt','a+')\n",
    "    total_page=get_count(page)\n",
    "    print cmpy_name+\"  company started scrapping\"\n",
    "    all_reviews=[]\n",
    "    try:\n",
    "        for i in range(0,total_page):\n",
    "            count=i*20\n",
    "            url='https://www.indeed.co.in/cmp/'+cmpy_name+'/reviews?fcountry=ALL&start='+str(count)\n",
    "            print url\n",
    "            page=fetch_page(url)\n",
    "            reviews=page.find_all('span',attrs={'class':'cmp-review-text'})\n",
    "            tags=['<span class=\"cmp-review-text\" itemprop=\"reviewBody\">','</span>','<br/>','<br>','\\xe2\\x80\\xa2']\n",
    "            reviews=remove_tags(reviews,tags)\n",
    "            all_reviews.append(reviews)\n",
    "            print \"one more page completed\"\n",
    "        json.dump(all_reviews,f)    \n",
    "        f.close() \n",
    "    except:\n",
    "        json.dump(all_reviews,f)    \n",
    "        f.close() "
   ]
  },
  {
   "cell_type": "code",
   "execution_count": 51,
   "metadata": {
    "collapsed": true
   },
   "outputs": [],
   "source": [
    "def get_company_review(cmpy_name):                  # all reviews of a company\n",
    "    location='../Reviews/'+cmpy_name\n",
    "    if not os.path.exists(location):\n",
    "        os.makedirs(location)\n",
    "    get_pages(cmpy_name)"
   ]
  },
  {
   "cell_type": "code",
   "execution_count": 52,
   "metadata": {
    "collapsed": false
   },
   "outputs": [],
   "source": [
    "def get_all_reviews():                               #store all company reviews  in a file\n",
    "    list=get_company_names()\n",
    "    list=list[1:15]              #  name of companies whose reviews need to be scrapped.\n",
    "    for l in list:\n",
    "        get_company_review(l)\n",
    "        print l+' scrapped successfully'"
   ]
  },
  {
   "cell_type": "code",
   "execution_count": null,
   "metadata": {
    "collapsed": false,
    "scrolled": true
   },
   "outputs": [
    {
     "name": "stdout",
     "output_type": "stream",
     "text": [
      "List Of Companies: \n",
      "[u'Best-Buy', u'accenture', u'IBM', u'google', u'apple', u'vmware', u'Tata-Consultancy-Services-(tcs)', u'Target', u'Cisco', u'Ey', u'oracle', u'Sony', u'Huwawei', u'Amazon.com', u'microsoft', u'Larsen-&-Toubro', u'dell', u'HP', u'Infosys', u'Deloitte', u'Bosch', u'Samsung']\n",
      "accenture  company started scrapping\n",
      "https://www.indeed.co.in/cmp/accenture/reviews?fcountry=ALL&start=0\n",
      "one more page completed\n",
      "https://www.indeed.co.in/cmp/accenture/reviews?fcountry=ALL&start=20\n",
      "one more page completed\n",
      "https://www.indeed.co.in/cmp/accenture/reviews?fcountry=ALL&start=40\n",
      "one more page completed\n",
      "https://www.indeed.co.in/cmp/accenture/reviews?fcountry=ALL&start=60\n",
      "one more page completed\n",
      "https://www.indeed.co.in/cmp/accenture/reviews?fcountry=ALL&start=80\n",
      "one more page completed\n",
      "https://www.indeed.co.in/cmp/accenture/reviews?fcountry=ALL&start=100\n",
      "one more page completed\n",
      "https://www.indeed.co.in/cmp/accenture/reviews?fcountry=ALL&start=120\n",
      "one more page completed\n",
      "https://www.indeed.co.in/cmp/accenture/reviews?fcountry=ALL&start=140\n",
      "one more page completed\n",
      "https://www.indeed.co.in/cmp/accenture/reviews?fcountry=ALL&start=160\n",
      "one more page completed\n",
      "https://www.indeed.co.in/cmp/accenture/reviews?fcountry=ALL&start=180\n",
      "one more page completed\n",
      "https://www.indeed.co.in/cmp/accenture/reviews?fcountry=ALL&start=200\n",
      "one more page completed\n",
      "https://www.indeed.co.in/cmp/accenture/reviews?fcountry=ALL&start=220\n",
      "one more page completed\n",
      "https://www.indeed.co.in/cmp/accenture/reviews?fcountry=ALL&start=240\n",
      "one more page completed\n",
      "https://www.indeed.co.in/cmp/accenture/reviews?fcountry=ALL&start=260\n",
      "one more page completed\n",
      "https://www.indeed.co.in/cmp/accenture/reviews?fcountry=ALL&start=280\n",
      "one more page completed\n",
      "https://www.indeed.co.in/cmp/accenture/reviews?fcountry=ALL&start=300\n",
      "one more page completed\n",
      "https://www.indeed.co.in/cmp/accenture/reviews?fcountry=ALL&start=320\n",
      "one more page completed\n",
      "https://www.indeed.co.in/cmp/accenture/reviews?fcountry=ALL&start=340\n"
     ]
    }
   ],
   "source": [
    "get_all_reviews()"
   ]
  },
  {
   "cell_type": "code",
   "execution_count": null,
   "metadata": {
    "collapsed": false
   },
   "outputs": [],
   "source": []
  },
  {
   "cell_type": "code",
   "execution_count": 14,
   "metadata": {
    "collapsed": false
   },
   "outputs": [],
   "source": []
  },
  {
   "cell_type": "code",
   "execution_count": null,
   "metadata": {
    "collapsed": false
   },
   "outputs": [],
   "source": []
  },
  {
   "cell_type": "code",
   "execution_count": null,
   "metadata": {
    "collapsed": true
   },
   "outputs": [],
   "source": []
  }
 ],
 "metadata": {
  "anaconda-cloud": {},
  "kernelspec": {
   "display_name": "Python [default]",
   "language": "python",
   "name": "python2"
  },
  "language_info": {
   "codemirror_mode": {
    "name": "ipython",
    "version": 2
   },
   "file_extension": ".py",
   "mimetype": "text/x-python",
   "name": "python",
   "nbconvert_exporter": "python",
   "pygments_lexer": "ipython2",
   "version": "2.7.12"
  }
 },
 "nbformat": 4,
 "nbformat_minor": 1
}
