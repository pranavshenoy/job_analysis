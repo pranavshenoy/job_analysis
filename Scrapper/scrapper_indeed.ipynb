{
 "cells": [
  {
   "cell_type": "code",
   "execution_count": 18,
   "metadata": {
    "collapsed": true
   },
   "outputs": [],
   "source": [
    "from bs4 import BeautifulSoup\n",
    "import requests\n",
    "import os\n",
    "import numpy as np"
   ]
  },
  {
   "cell_type": "code",
   "execution_count": 4,
   "metadata": {
    "collapsed": true
   },
   "outputs": [],
   "source": [
    "import json\n",
    "def get_company_names():                           # returns list of all companies\n",
    "    with open('list_of_companies.json') as f:\n",
    "        data=json.load(f)\n",
    "    return data    "
   ]
  },
  {
   "cell_type": "code",
   "execution_count": null,
   "metadata": {
    "collapsed": true
   },
   "outputs": [],
   "source": [
    "def get_pages(cmpy_name,f):\n",
    "    count=0\n",
    "    url='https://www.indeed.co.in/cmp/'+cmpy_name+'/reviews?fcountry=ALL&start='+count\n",
    "    page=requests.get(url).text\n",
    "    soup=BeautifulSoup(page)\n",
    "    t=soup.find_all('span',attrs={'class':'cmp-review-text'})\n",
    "        "
   ]
  },
  {
   "cell_type": "code",
   "execution_count": 28,
   "metadata": {
    "collapsed": true
   },
   "outputs": [],
   "source": [
    "def get_company_review(cmpy_name):                  # all reviews of a company\n",
    "    location='../Reviews/'+cmpy_name\n",
    "    if not os.path.exists(location):\n",
    "        os.makedirs(location)\n",
    "    location+='/review.txt'    \n",
    "    f=os.open(location,os.O_CREAT)\n",
    "    get_pages(cmpy_name,f)"
   ]
  },
  {
   "cell_type": "code",
   "execution_count": 29,
   "metadata": {
    "collapsed": false
   },
   "outputs": [],
   "source": [
    "def get_all_reviews():                               #store all company reviews  in a file\n",
    "    list=get_company_names()\n",
    "    for l in list:\n",
    "        get_company_review(l['name'])"
   ]
  },
  {
   "cell_type": "code",
   "execution_count": 30,
   "metadata": {
    "collapsed": false
   },
   "outputs": [],
   "source": [
    "get_company_review('accenture')"
   ]
  },
  {
   "cell_type": "code",
   "execution_count": null,
   "metadata": {
    "collapsed": true
   },
   "outputs": [],
   "source": []
  },
  {
   "cell_type": "code",
   "execution_count": null,
   "metadata": {
    "collapsed": true
   },
   "outputs": [],
   "source": []
  }
 ],
 "metadata": {
  "anaconda-cloud": {},
  "kernelspec": {
   "display_name": "Python [default]",
   "language": "python",
   "name": "python2"
  },
  "language_info": {
   "codemirror_mode": {
    "name": "ipython",
    "version": 2
   },
   "file_extension": ".py",
   "mimetype": "text/x-python",
   "name": "python",
   "nbconvert_exporter": "python",
   "pygments_lexer": "ipython2",
   "version": "2.7.12"
  }
 },
 "nbformat": 4,
 "nbformat_minor": 1
}
