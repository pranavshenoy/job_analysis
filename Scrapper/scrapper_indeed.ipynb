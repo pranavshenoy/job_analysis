{
 "cells": [
  {
   "cell_type": "code",
   "execution_count": 13,
   "metadata": {
    "collapsed": true
   },
   "outputs": [],
   "source": [
    "from bs4 import BeautifulSoup\n",
    "import requests\n",
    "import os\n",
    "import numpy as np\n",
    "import json"
   ]
  },
  {
   "cell_type": "code",
   "execution_count": 14,
   "metadata": {
    "collapsed": true
   },
   "outputs": [],
   "source": [
    "def get_company_names():                           # returns list of all companies\n",
    "    with open('list_of_companies.json') as f:\n",
    "        data=json.load(f)\n",
    "    return data    "
   ]
  },
  {
   "cell_type": "code",
   "execution_count": 15,
   "metadata": {
    "collapsed": true
   },
   "outputs": [],
   "source": [
    "def remove(list,tag,replacement):           #replace the tag with replacement ---for removing the tag\n",
    "    new_list=[]\n",
    "    for review in list:\n",
    "        temp=str(review).replace(tag,replacement)\n",
    "        new_list.append(temp)\n",
    "    return new_list  "
   ]
  },
  {
   "cell_type": "code",
   "execution_count": 16,
   "metadata": {
    "collapsed": true
   },
   "outputs": [],
   "source": [
    "#remove tags from the input data\n",
    "#tags=['<span class=\"cmp-review-text\" itemprop=\"reviewBody\">','</span>','<br/>','<br>']\n",
    "def remove_tags(data,tags):\n",
    "    for tag in tags:\n",
    "        data=remove(data,tag,' ')\n",
    "    return data    \n"
   ]
  },
  {
   "cell_type": "code",
   "execution_count": 17,
   "metadata": {
    "collapsed": true
   },
   "outputs": [],
   "source": [
    "def get_count(page):                                  #returns total number of pages\n",
    "    t=page.find_all('div',attrs={'class':'cmp-note'})\n",
    "    count=remove(t[1],'<div class=\"cmp-note\">',' ')\n",
    "    count=remove(count,',','')\n",
    "    count=(int(count[0])/20)+1\n",
    "    return count"
   ]
  },
  {
   "cell_type": "code",
   "execution_count": 18,
   "metadata": {
    "collapsed": true
   },
   "outputs": [],
   "source": [
    "def fetch_page(url):                              #fetches current page with given url\n",
    "    page=requests.get(url).text\n",
    "    page=BeautifulSoup(page,'lxml')\n",
    "    return page"
   ]
  },
  {
   "cell_type": "code",
   "execution_count": 25,
   "metadata": {
    "collapsed": false
   },
   "outputs": [],
   "source": [
    "def get_pages(cmpy_name):                        #get total no. of pages and traverse  through each page\n",
    "    count=0\n",
    "    url='https://www.indeed.co.in/cmp/'+cmpy_name+'/reviews?fcountry=ALL&start='+str(count)\n",
    "    page=fetch_page(url)\n",
    "    f=open('../Reviews/'+cmpy_name+'/review.txt','a+')\n",
    "    total_page=get_count(page)\n",
    "    for i in range(0,total_page):\n",
    "        count=count*20\n",
    "        url='https://www.indeed.co.in/cmp/'+cmpy_name+'/reviews?fcountry=ALL&start='+str(count)\n",
    "        page=fetch_page(url)\n",
    "        reviews=page.find_all('span',attrs={'class':'cmp-review-text'})\n",
    "        tags=['<span class=\"cmp-review-text\" itemprop=\"reviewBody\">','</span>','<br/>','<br>']\n",
    "        reviews=remove_tags(reviews,tags)\n",
    "        f.write(str(reviews))\n",
    "        print \"one more page completed\"\n",
    "    f.close()    "
   ]
  },
  {
   "cell_type": "code",
   "execution_count": 20,
   "metadata": {
    "collapsed": true
   },
   "outputs": [],
   "source": [
    "def get_company_review(cmpy_name):                  # all reviews of a company\n",
    "    location='../Reviews/'+cmpy_name\n",
    "    if not os.path.exists(location):\n",
    "        os.makedirs(location)\n",
    "    location+='/review.txt'    \n",
    "    f=os.open(location,os.O_CREAT)\n",
    "    get_pages(cmpy_name)"
   ]
  },
  {
   "cell_type": "code",
   "execution_count": 36,
   "metadata": {
    "collapsed": false
   },
   "outputs": [],
   "source": [
    "def get_all_reviews():                               #store all company reviews  in a file\n",
    "    list=get_company_names()\n",
    "    list=list[6:7]                #  name of companies whose reviews need to be scrapped.\n",
    "    for l in list:\n",
    "        get_company_review(l['name'])\n",
    "        print l['name']+'scrapped successfully'"
   ]
  },
  {
   "cell_type": "code",
   "execution_count": null,
   "metadata": {
    "collapsed": false,
    "scrolled": true
   },
   "outputs": [],
   "source": [
    "get_all_reviews()"
   ]
  },
  {
   "cell_type": "code",
   "execution_count": null,
   "metadata": {
    "collapsed": false
   },
   "outputs": [],
   "source": []
  },
  {
   "cell_type": "code",
   "execution_count": null,
   "metadata": {
    "collapsed": true
   },
   "outputs": [],
   "source": []
  }
 ],
 "metadata": {
  "anaconda-cloud": {},
  "kernelspec": {
   "display_name": "Python [default]",
   "language": "python",
   "name": "python2"
  },
  "language_info": {
   "codemirror_mode": {
    "name": "ipython",
    "version": 2
   },
   "file_extension": ".py",
   "mimetype": "text/x-python",
   "name": "python",
   "nbconvert_exporter": "python",
   "pygments_lexer": "ipython2",
   "version": "2.7.12"
  }
 },
 "nbformat": 4,
 "nbformat_minor": 1
}
