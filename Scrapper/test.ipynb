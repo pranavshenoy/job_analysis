{
 "cells": [
  {
   "cell_type": "code",
   "execution_count": 1,
   "metadata": {
    "collapsed": true
   },
   "outputs": [],
   "source": [
    "import numpy as np"
   ]
  },
  {
   "cell_type": "code",
   "execution_count": 7,
   "metadata": {
    "collapsed": false
   },
   "outputs": [],
   "source": [
    "x=[{\"name\": \"IBM\"},\n",
    "{\"name\": \"Best Buy\"},\n",
    "{\"name\": \"Deloitte\"},\n",
    "{\"name\": \"Home Depot\"},\n",
    "{\"name\": \"Hewlett-Packard\"},\n",
    "{\"name\": \"US Army\"},\n",
    "{\"name\": \"Bank of America\"},\n",
    "{\"name\": \"Ernst & Young Global\"},\n",
    "{\"name\": \"Intel Corporation\"},\n",
    "{\"name\": \"Starbucks\"},\n",
    "{\"name\": \"Macy's\"},\n",
    "{\"name\": \"Target\"},\n",
    "{\"name\": \"Cisco Systems\"},\n",
    "{\"name\": \"Oracle\"},\n",
    "{\"name\": \"KPMG\"},\n",
    "{\"name\": \"Microsoft\"},\n",
    "{\"name\": \"Apple\"},\n",
    "{\"name\": \"Walgreens\"},\n",
    "{\"name\": \"PricewaterhouseCoopers\"},\n",
    "{\"name\": \"Sears\"},\n",
    "{\"name\": \"Deloitte LLP\"},\n",
    "{\"name\": \"Accenture\"}]"
   ]
  },
  {
   "cell_type": "code",
   "execution_count": 14,
   "metadata": {
    "collapsed": false
   },
   "outputs": [],
   "source": [
    "import pickle\n",
    "\n",
    "with open('list.txt', 'wb') as fp:\n",
    "    pickle.dump(x, fp)"
   ]
  },
  {
   "cell_type": "code",
   "execution_count": 18,
   "metadata": {
    "collapsed": false,
    "scrolled": false
   },
   "outputs": [
    {
     "ename": "IndentationError",
     "evalue": "expected an indented block (<ipython-input-18-00838a614ea0>, line 6)",
     "output_type": "error",
     "traceback": [
      "\u001b[0;36m  File \u001b[0;32m\"<ipython-input-18-00838a614ea0>\"\u001b[0;36m, line \u001b[0;32m6\u001b[0m\n\u001b[0;31m    #print x[0]\u001b[0m\n\u001b[0m               ^\u001b[0m\n\u001b[0;31mIndentationError\u001b[0m\u001b[0;31m:\u001b[0m expected an indented block\n"
     ]
    }
   ],
   "source": [
    "import csv\n",
    "f=open('list.csv','r')\n",
    "data=csv.reader(f,delimiter=',')\n",
    "\n",
    "for x in data:\n",
    "    #print x[0]"
   ]
  },
  {
   "cell_type": "code",
   "execution_count": 32,
   "metadata": {
    "collapsed": false
   },
   "outputs": [],
   "source": [
    "s='{\"name\": \"IBM\"},{\"name\": \"Best Buy\"},{\"name\": \"Deloitte\"}'"
   ]
  },
  {
   "cell_type": "code",
   "execution_count": null,
   "metadata": {
    "collapsed": false
   },
   "outputs": [],
   "source": []
  },
  {
   "cell_type": "code",
   "execution_count": 38,
   "metadata": {
    "collapsed": false
   },
   "outputs": [],
   "source": [
    "s=np.array(\"[{'name':'pranav'},{'name':'pranav1'},{'name':'pranav'}]\")"
   ]
  },
  {
   "cell_type": "code",
   "execution_count": 42,
   "metadata": {
    "collapsed": false
   },
   "outputs": [],
   "source": [
    "x=s.tolist()"
   ]
  },
  {
   "cell_type": "code",
   "execution_count": 46,
   "metadata": {
    "collapsed": false
   },
   "outputs": [],
   "source": [
    "import csv\n",
    "reader=csv.DictReader(open('list.csv', 'rb'))"
   ]
  },
  {
   "cell_type": "code",
   "execution_count": 47,
   "metadata": {
    "collapsed": true
   },
   "outputs": [],
   "source": [
    "list=[]\n",
    "for line in reader:\n",
    "    list.append(line)"
   ]
  },
  {
   "cell_type": "code",
   "execution_count": 53,
   "metadata": {
    "collapsed": false
   },
   "outputs": [
    {
     "data": {
      "text/plain": [
       "{'': '', '{\"name\": \"IBM\"}': '{\"name\": \"Home Depot\"}'}"
      ]
     },
     "execution_count": 53,
     "metadata": {},
     "output_type": "execute_result"
    }
   ],
   "source": [
    "list[2]"
   ]
  },
  {
   "cell_type": "code",
   "execution_count": 66,
   "metadata": {
    "collapsed": false,
    "scrolled": true
   },
   "outputs": [
    {
     "data": {
      "text/plain": [
       "[{u'name': u'IBM'},\n",
       " {u'name': u'Best Buy'},\n",
       " {u'name': u'Deloitte'},\n",
       " {u'name': u'Home Depot'},\n",
       " {u'name': u'Hewlett-Packard'},\n",
       " {u'name': u'US Army'},\n",
       " {u'name': u'Bank of America'},\n",
       " {u'name': u'Ernst & Young Global'},\n",
       " {u'name': u'Intel Corporation'},\n",
       " {u'name': u'Starbucks'},\n",
       " {u'name': u\"Macy's\"},\n",
       " {u'name': u'Target'},\n",
       " {u'name': u'Cisco Systems'},\n",
       " {u'name': u'Oracle'},\n",
       " {u'name': u'KPMG'},\n",
       " {u'name': u'Microsoft'},\n",
       " {u'name': u'Apple'},\n",
       " {u'name': u'Walgreens'},\n",
       " {u'name': u'PricewaterhouseCoopers'},\n",
       " {u'name': u'Sears'},\n",
       " {u'name': u'Deloitte LLP'},\n",
       " {u'name': u'Accenture'}]"
      ]
     },
     "execution_count": 66,
     "metadata": {},
     "output_type": "execute_result"
    }
   ],
   "source": [
    "import json\n",
    "with open('list.json') as f:\n",
    "    data=json.load(f)\n",
    "data    "
   ]
  },
  {
   "cell_type": "code",
   "execution_count": 3,
   "metadata": {
    "collapsed": false
   },
   "outputs": [],
   "source": [
    "import os"
   ]
  },
  {
   "cell_type": "code",
   "execution_count": 6,
   "metadata": {
    "collapsed": false
   },
   "outputs": [],
   "source": [
    "if not os.path.exists('../Reviews/vmware'):\n",
    "    os.makedirs('../Reviews/vmware')"
   ]
  },
  {
   "cell_type": "code",
   "execution_count": 14,
   "metadata": {
    "collapsed": false
   },
   "outputs": [],
   "source": [
    "f=os.open('xx.txt',os.O_CREAT)"
   ]
  },
  {
   "cell_type": "code",
   "execution_count": 4,
   "metadata": {
    "collapsed": false
   },
   "outputs": [],
   "source": [
    "url='https://www.indeed.co.in/cmp/vmware/reviews?fcountry=ALL&start=0'"
   ]
  },
  {
   "cell_type": "code",
   "execution_count": 9,
   "metadata": {
    "collapsed": false
   },
   "outputs": [
    {
     "data": {
      "text/plain": [
       "<div class=\"cmp-note\">371</div>"
      ]
     },
     "execution_count": 9,
     "metadata": {},
     "output_type": "execute_result"
    }
   ],
   "source": [
    "from bs4 import BeautifulSoup\n",
    "import requests\n",
    "page=requests.get(url).text\n",
    "soup=BeautifulSoup(page,'lxml')\n",
    "t=soup.find_all('div',attrs={'class':'cmp-note'})\n",
    "t[1]        "
   ]
  },
  {
   "cell_type": "code",
   "execution_count": 10,
   "metadata": {
    "collapsed": false
   },
   "outputs": [],
   "source": [
    "def remove_tags(data,tags):\n",
    "    for tag in tags:\n",
    "        data=remove(data,tag,' ')\n",
    "    return data   "
   ]
  },
  {
   "cell_type": "code",
   "execution_count": 12,
   "metadata": {
    "collapsed": true
   },
   "outputs": [],
   "source": [
    "def remove(list,tag,replacement):           #list contains the input dataset\n",
    "    new_list=[]\n",
    "    for review in list:\n",
    "        temp=str(review).replace(tag,replacement)\n",
    "        new_list.append(temp)\n",
    "    return new_list  "
   ]
  },
  {
   "cell_type": "code",
   "execution_count": 13,
   "metadata": {
    "collapsed": false
   },
   "outputs": [],
   "source": [
    "x=remove_tags(t[1],'<div class=\"cmp-note\">')"
   ]
  },
  {
   "cell_type": "code",
   "execution_count": 1,
   "metadata": {
    "collapsed": false
   },
   "outputs": [],
   "source": [
    "from bs4 import BeautifulSoup\n",
    "import requests\n",
    "import os\n",
    "import numpy as np\n",
    "import json\n"
   ]
  },
  {
   "cell_type": "code",
   "execution_count": 5,
   "metadata": {
    "collapsed": true
   },
   "outputs": [],
   "source": [
    "def remove(list,tag,replacement):           #replace the tag with replacement ---for removing the tag\n",
    "    new_list=[]\n",
    "    for review in list:\n",
    "        temp=str(review).replace(tag,replacement)\n",
    "        new_list.append(temp)\n",
    "    return new_list  "
   ]
  },
  {
   "cell_type": "code",
   "execution_count": 6,
   "metadata": {
    "collapsed": true
   },
   "outputs": [],
   "source": [
    "#remove tags from the input data\n",
    "#tags=['<span class=\"cmp-review-text\" itemprop=\"reviewBody\">','</span>','<br/>','<br>']\n",
    "def remove_tags(data,tags):\n",
    "    for tag in tags:\n",
    "        data=remove(data,tag,' ')\n",
    "    return data    \n"
   ]
  },
  {
   "cell_type": "code",
   "execution_count": 11,
   "metadata": {
    "collapsed": false,
    "scrolled": false
   },
   "outputs": [
    {
     "name": "stdout",
     "output_type": "stream",
     "text": [
      "[[' Very fast paced organisation with great people to work. There are immense opportunities to learn from. Projects enable you to work in collaboration with many teams. Business transformation can be visible in acction. ', ' Good environment.Team work.Good management.Team members are very supportive.Good placement.we as the employee enjoy working with fun and with lot of effort ', ' Good Work, Advanced technology, good work life balance, good salary and hikes, healthy competition between colleagues, very submissive colleagues, good environment ', ' On a typical day at work, usually we started with a kickoff session and then continue with the divided task. We were following SCRUM methodology thus high team interaction was needed.  Its a very well organised fun organisation,which does a lot of positive opportunities to its employees. ', ' Exciting company to work for, incredibly challenging work and great peer group. Easy access to senior leadership and lots of networking opportunities for career advancement. ', ' Great Leadership team to start with, very supportive and approachable. Created a workspace culture where good balance between work and life could be established. Flexible &amp; accommodative with great events of fun as well as learning &amp; development.  Most importantly socially active, they conduct many service learning activities across the globe creating a sense of belonging. Stressing on education, children and planting trees.  Tremendous opportunities of learning and growth in your career ', ' The company is an arena for learning and growth.  However, if you are joining on a contract, your job security is nill.  A typical day at work can get overwhelming sometimes. ', ' good place to work,        nice management,             advance technology,                         good transport facilities,                 good co-workers, ', ' VMware providfes you a platform to work on one-off exciting new technologies and also provides arenas to show case your research skills. But Management here is more focused towards unrealistic buisness deadlines, which might hinder the research goals of an employee. Other than this perks and benefits are extemely good for an employee. ', ' Great infrastructure. Lot of workplace perks.  Nothing to learn in the time that i was working there.   No proper management.  Contractors are not considered in team catch ups ', ' The work culture is good with freedom &amp; trust(Generally - but few dprt do micro management) Decent benefits &amp; great environment. Certain support functions work like contact centers - so know your move. Favoritism is quite evident in certain Departments  There is lot of fun ,but no time to enjoy. Job security is good as long as the people manger is interactive. ', ' good to work. Flexible office timings. Good working environment. Good opportunity to learn new skill sets. Good work culture to work. good management. ', ' - A typical Tech company - Inovation and Cloud Experts - Good Growth internally - Free Courses and Employee development - Good management ', ' Good working environment with very supportive staff.Team spirit and friendly but disciplined environment is necessary for growth of any company.Learning activities are so scheduled that every team member get involvement in each program at least once. Specific Schedule are also made for making a team ready for a specific task , like launching a new venture or customer support center. ', ' Good Employer, Great place to be in, Awesome work culture, Super Facility to work in, Very small hierarchies and low opportunities for team level growth, Need to be placed in good team ', ' work experience is so good,,i have learned so many things working here..coworkers are very helpfull and timings are comfortable as per the persons needs.. ', ' Good work life balance. Nice learning opportunities. We get to work on latest technology and platforms which are in demand throughout the world ', ' awesome place to work. but has very immature managers on some verticals. its got great future and many employee benifits ', ' Vmware had a lot of team building activities. It was fun working. There is no words to express the work everyone does with the latest technology. Managers are fun loving and very knowledgeable ', ' Sr Technical Partner consultant for VMware. Responsible for developing &amp; enabling partner in India and SriLanka.  Develop a strong partner community with technical resource on VMware Product. Train and evangelize People on Virtualization by getting new partners recruited in the system that will help and driver business across the region.  Develop technical resource in the partner community who are capable to conduct POC, proper solution design and demonstrate VMware product suite. ', ' Always had a flexibility to work,Inspite of long working hours we had a facility to work from home as we were working during US time zone.  Steep learning curve and very complicated and huge systems,Lots of scope to learn, '], [' Very fast paced organisation with great people to work. There are immense opportunities to learn from. Projects enable you to work in collaboration with many teams. Business transformation can be visible in acction. ', ' Sr Technical Partner consultant for VMware. Responsible for developing &amp; enabling partner in India and SriLanka.  Develop a strong partner community with technical resource on VMware Product. Train and evangelize People on Virtualization by getting new partners recruited in the system that will help and driver business across the region.  Develop technical resource in the partner community who are capable to conduct POC, proper solution design and demonstrate VMware product suite. ', \" Resolve customer issues over phone, Email and chat Liaise with core product development teams to identify and resolve product failures/ Bugs. Work with Engineering team during Beta phase of the product to provide recommendations regarding product functionality, features and scope of improvement.  Learning curve at VMware is typically 90%. There is a learning in every activity of the day. The most challenging job that I have ever come across in my career. Learning includes VCD, vCAC{vCloud Automation}, VSA, VCNS suite apart from Core vCenter and ESXi products. Other learnings includes Time management &amp; handling extremely stressed out situations   Management is very poor. Most managers don't know to handle pressure. Micro monitoring. Management needs be more mature.  Coworkers are mature, understanding and supportive.Unfortunately Senior Eng and Escalation Engineers show too much attitude.  Handle Calls, Email, Log Analysis all at the same time. Typically job requires you to do multiple multi tasking.  Challenges Learning at the end of each day Trainings Access to immense resources Opportunity to learn &amp; master any Technology. \", ' Good Company with reasonable perks and salary but work life balance is hard to achieve. Currently lots of growth spurt in india so expanding fast. ', \" A typical day at work would include troubleshooting various issues that occur with VMware products for enterprise customers and partners. Learned about virtualization technology and its concept and learned about the working of VMware's core products, ESXI and Vcenter server. The management, in my opinion was the best thing about VMware. Operations were handled very well keeping in my mind the interests of all the employees. My co-workers were all very helpful, and supportive and were always there when you most needed them.  The hardest part of the job was to manage time, meet deadlines by the minute and try to keep all the customers happy. The most enjoyable part of the job was that there was always something new to learn every single day. \", ' - Empowered to set up the proposal management process - Coworkers were cooperative both in India and US - Setting up the process was quite a challenging and enjoyable task ', ' Vmware is a great software company and gives you opportunities to develop in your professional and personal front. The management is doing a lot to improve the facilities of the employees. Friendly and helpful co-workers ', ' Amazing place to work and learn many new things. Employee engagement is good and one can enjoy a decent work life balance ', ' Vmware had a lot of team building activities. It was fun working. There is no words to express the work everyone does with the latest technology. Managers are fun loving and very knowledgeable ', ' No growth.Compensation is good. Work life balance is good. ', ' Good place to work, challenging environment and opportunities to enhance our skills. The company can do better to help every employee grow within the organization. ', ' 1. Learnt CRM, ERP, Auotmation 2. More Visibility at Company 3. Co worker are so helpful 4. Got oppurtunity to work on many Tier 1 Projects. ', ' Fun place to work in where people are very helpful. Amazing work life balance. Working here involves you to keep up with new advancements in the industry. Giant in virtualization domain therefore adds a brand value. Interviews are very tough. ', ' Management is not that organised Learning has no boundary there Co-worker are very friendly &amp; jovial. Quarter end is the hardest part of the job. Work life balance is the best thing about this company ', ' Learning is good Good work culture Everyday is a new learning experience. Constantly in a different shift. Good atmosphere. ', ' ADP is very good company and have good work life balance. ADP is mainly into payroll business though it has many other domains such as Banking, HR etc. ', \" All the Engineers are given utmost liberty to use their own judgements when it comes to fixing customer's machines or even their company's environments.  We are the best team in VMware Globally, we have received many accolades and continue to do so.  We have a lot of fun everyday while learning and the Management is the best part. There is so much of learning on a day to day basis that we do not know how time goes by.  We have learnt Mac OS X, Linux, and much more to help us get through any kind of issues that we face on a given day at work.  This is one of the best places that I have worked in, and would love to see the response or match for VMware. \", ' Great place to work with good management. I would recommend this place to all. Nice work life balance. Every day here used to be fun and challenging. ', ' VMware is MNC company.. Its Good company to learn new things. And i learned many things in this company. Im a AV and Network engineer in this company . ', ' I would like to appreciate the opportunity provided by the company to be a part of the workforce and perform the assigned role in the financial Department (Account Receivables team) as a collections analyst for APAC. It was a challenging opportunity for me to prove myself in the role. I have learnt how to stream line and prioritize big value customers &amp; attend to the work needs of them to achieve bigger targets. Opportunity was given to work under high pressure environment. The management helped me gain more confidence in the work and also in self ability to achieve higher platform. The hardest part of the job was co-workers management and prioritising invoices &amp; sticking to the task of the planned schedule. The enjoyable part is when the company was able to recognize my efforts &amp; achievements and reward me with incentives, certificates and awards acknowledging my achievements. ', ' Good Experience, Awesome company, At times very political. Slow speed not at all fast paced if you consider startups. No common culture within company but good pay so people stay. ']]\n"
     ]
    }
   ],
   "source": [
    "all_reviews=[]\n",
    "url='https://www.indeed.co.in/cmp/vmware/reviews'\n",
    "page=requests.get(url).text\n",
    "page=BeautifulSoup(page,'lxml')\n",
    "reviews=page.find_all('span',attrs={'class':'cmp-review-text'})\n",
    "tags=['<span class=\"cmp-review-text\" itemprop=\"reviewBody\">','</span>','<br/>','<br>']\n",
    "reviews=remove_tags(reviews,tags)\n",
    "all_reviews.append(reviews)\n",
    "\n",
    "url='https://www.indeed.co.in/cmp/Vmware/reviews?start=20'\n",
    "page=requests.get(url).text\n",
    "page=BeautifulSoup(page,'lxml')\n",
    "reviews=page.find_all('span',attrs={'class':'cmp-review-text'})\n",
    "tags=['<span class=\"cmp-review-text\" itemprop=\"reviewBody\">','</span>','<br/>','<br>']\n",
    "reviews=remove_tags(reviews,tags)\n",
    "all_reviews.append(reviews)\n",
    "\n"
   ]
  },
  {
   "cell_type": "code",
   "execution_count": null,
   "metadata": {
    "collapsed": true
   },
   "outputs": [],
   "source": [
    "\\xe2\\x80\\xa2\\tOrac   \\xe2\\x80\\xa2\\t"
   ]
  },
  {
   "cell_type": "code",
   "execution_count": 22,
   "metadata": {
    "collapsed": false
   },
   "outputs": [
    {
     "name": "stdout",
     "output_type": "stream",
     "text": [
      "638721\n"
     ]
    },
    {
     "data": {
      "text/plain": [
       "127079"
      ]
     },
     "execution_count": 22,
     "metadata": {},
     "output_type": "execute_result"
    }
   ],
   "source": [
    "list=[]\n",
    "with open('list_of_companies.json') as f:\n",
    "        data=json.load(f)\n",
    "        \n",
    "for l in data:\n",
    "    list.append(l['name'])\n",
    "print len(list)\n",
    "list=set(list)      \n",
    "len(list)"
   ]
  },
  {
   "cell_type": "code",
   "execution_count": 23,
   "metadata": {
    "collapsed": true
   },
   "outputs": [],
   "source": [
    "def get_company_names():                           # returns list of all companies\n",
    "    with open('list_of_companies.json') as f:\n",
    "        data=json.load(f)\n",
    "    return data    "
   ]
  },
  {
   "cell_type": "code",
   "execution_count": 17,
   "metadata": {
    "collapsed": false
   },
   "outputs": [],
   "source": [
    "import json\n",
    "def get_company_names():                           # returns list of all companies\n",
    "    list_cmpy=[]\n",
    "    with open('list_of_companies.json') as f:\n",
    "        data=json.load(f)\n",
    "    for l in data:\n",
    "        list_cmpy.append(l['name'])\n",
    "    list_cmpy=set(list_cmpy)\n",
    "    return list_cmpy  "
   ]
  },
  {
   "cell_type": "code",
   "execution_count": 18,
   "metadata": {
    "collapsed": false
   },
   "outputs": [],
   "source": [
    "list=get_company_names()"
   ]
  },
  {
   "cell_type": "code",
   "execution_count": 19,
   "metadata": {
    "collapsed": false
   },
   "outputs": [
    {
     "data": {
      "text/plain": [
       "127079"
      ]
     },
     "execution_count": 19,
     "metadata": {},
     "output_type": "execute_result"
    }
   ],
   "source": [
    "len(list)"
   ]
  },
  {
   "cell_type": "code",
   "execution_count": 28,
   "metadata": {
    "collapsed": false
   },
   "outputs": [],
   "source": [
    "l=[\"IBM\",\n",
    "\"Best Buy\",\n",
    "\"Deloitte\",\n",
    "\"Home Depot\",\"Deloitste\",]"
   ]
  },
  {
   "cell_type": "code",
   "execution_count": 29,
   "metadata": {
    "collapsed": false
   },
   "outputs": [
    {
     "name": "stdout",
     "output_type": "stream",
     "text": [
      "set(['Deloitte', 'Deloitste', 'IBM', 'Best Buy', 'Home Depot'])\n"
     ]
    }
   ],
   "source": [
    "print set(l)"
   ]
  },
  {
   "cell_type": "code",
   "execution_count": null,
   "metadata": {
    "collapsed": true
   },
   "outputs": [],
   "source": []
  }
 ],
 "metadata": {
  "anaconda-cloud": {},
  "kernelspec": {
   "display_name": "Python [default]",
   "language": "python",
   "name": "python2"
  },
  "language_info": {
   "codemirror_mode": {
    "name": "ipython",
    "version": 2
   },
   "file_extension": ".py",
   "mimetype": "text/x-python",
   "name": "python",
   "nbconvert_exporter": "python",
   "pygments_lexer": "ipython2",
   "version": "2.7.12"
  }
 },
 "nbformat": 4,
 "nbformat_minor": 1
}
