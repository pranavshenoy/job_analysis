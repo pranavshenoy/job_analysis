{
 "cells": [
  {
   "cell_type": "code",
   "execution_count": 1,
   "metadata": {
    "collapsed": true
   },
   "outputs": [],
   "source": [
    "import numpy as np"
   ]
  },
  {
   "cell_type": "code",
   "execution_count": 7,
   "metadata": {
    "collapsed": false
   },
   "outputs": [],
   "source": [
    "x=[{\"name\": \"IBM\"},\n",
    "{\"name\": \"Best Buy\"},\n",
    "{\"name\": \"Deloitte\"},\n",
    "{\"name\": \"Home Depot\"},\n",
    "{\"name\": \"Hewlett-Packard\"},\n",
    "{\"name\": \"US Army\"},\n",
    "{\"name\": \"Bank of America\"},\n",
    "{\"name\": \"Ernst & Young Global\"},\n",
    "{\"name\": \"Intel Corporation\"},\n",
    "{\"name\": \"Starbucks\"},\n",
    "{\"name\": \"Macy's\"},\n",
    "{\"name\": \"Target\"},\n",
    "{\"name\": \"Cisco Systems\"},\n",
    "{\"name\": \"Oracle\"},\n",
    "{\"name\": \"KPMG\"},\n",
    "{\"name\": \"Microsoft\"},\n",
    "{\"name\": \"Apple\"},\n",
    "{\"name\": \"Walgreens\"},\n",
    "{\"name\": \"PricewaterhouseCoopers\"},\n",
    "{\"name\": \"Sears\"},\n",
    "{\"name\": \"Deloitte LLP\"},\n",
    "{\"name\": \"Accenture\"}]"
   ]
  },
  {
   "cell_type": "code",
   "execution_count": 14,
   "metadata": {
    "collapsed": false
   },
   "outputs": [],
   "source": [
    "import pickle\n",
    "\n",
    "with open('list.txt', 'wb') as fp:\n",
    "    pickle.dump(x, fp)"
   ]
  },
  {
   "cell_type": "code",
   "execution_count": 18,
   "metadata": {
    "collapsed": false,
    "scrolled": false
   },
   "outputs": [
    {
     "ename": "IndentationError",
     "evalue": "expected an indented block (<ipython-input-18-00838a614ea0>, line 6)",
     "output_type": "error",
     "traceback": [
      "\u001b[0;36m  File \u001b[0;32m\"<ipython-input-18-00838a614ea0>\"\u001b[0;36m, line \u001b[0;32m6\u001b[0m\n\u001b[0;31m    #print x[0]\u001b[0m\n\u001b[0m               ^\u001b[0m\n\u001b[0;31mIndentationError\u001b[0m\u001b[0;31m:\u001b[0m expected an indented block\n"
     ]
    }
   ],
   "source": [
    "import csv\n",
    "f=open('list.csv','r')\n",
    "data=csv.reader(f,delimiter=',')\n",
    "\n",
    "for x in data:\n",
    "    #print x[0]"
   ]
  },
  {
   "cell_type": "code",
   "execution_count": 32,
   "metadata": {
    "collapsed": false
   },
   "outputs": [],
   "source": [
    "s='{\"name\": \"IBM\"},{\"name\": \"Best Buy\"},{\"name\": \"Deloitte\"}'"
   ]
  },
  {
   "cell_type": "code",
   "execution_count": null,
   "metadata": {
    "collapsed": false
   },
   "outputs": [],
   "source": []
  },
  {
   "cell_type": "code",
   "execution_count": 38,
   "metadata": {
    "collapsed": false
   },
   "outputs": [],
   "source": [
    "s=np.array(\"[{'name':'pranav'},{'name':'pranav1'},{'name':'pranav'}]\")"
   ]
  },
  {
   "cell_type": "code",
   "execution_count": 42,
   "metadata": {
    "collapsed": false
   },
   "outputs": [],
   "source": [
    "x=s.tolist()"
   ]
  },
  {
   "cell_type": "code",
   "execution_count": 46,
   "metadata": {
    "collapsed": false
   },
   "outputs": [],
   "source": [
    "import csv\n",
    "reader=csv.DictReader(open('list.csv', 'rb'))"
   ]
  },
  {
   "cell_type": "code",
   "execution_count": 47,
   "metadata": {
    "collapsed": true
   },
   "outputs": [],
   "source": [
    "list=[]\n",
    "for line in reader:\n",
    "    list.append(line)"
   ]
  },
  {
   "cell_type": "code",
   "execution_count": 53,
   "metadata": {
    "collapsed": false
   },
   "outputs": [
    {
     "data": {
      "text/plain": [
       "{'': '', '{\"name\": \"IBM\"}': '{\"name\": \"Home Depot\"}'}"
      ]
     },
     "execution_count": 53,
     "metadata": {},
     "output_type": "execute_result"
    }
   ],
   "source": [
    "list[2]"
   ]
  },
  {
   "cell_type": "code",
   "execution_count": 66,
   "metadata": {
    "collapsed": false,
    "scrolled": true
   },
   "outputs": [
    {
     "data": {
      "text/plain": [
       "[{u'name': u'IBM'},\n",
       " {u'name': u'Best Buy'},\n",
       " {u'name': u'Deloitte'},\n",
       " {u'name': u'Home Depot'},\n",
       " {u'name': u'Hewlett-Packard'},\n",
       " {u'name': u'US Army'},\n",
       " {u'name': u'Bank of America'},\n",
       " {u'name': u'Ernst & Young Global'},\n",
       " {u'name': u'Intel Corporation'},\n",
       " {u'name': u'Starbucks'},\n",
       " {u'name': u\"Macy's\"},\n",
       " {u'name': u'Target'},\n",
       " {u'name': u'Cisco Systems'},\n",
       " {u'name': u'Oracle'},\n",
       " {u'name': u'KPMG'},\n",
       " {u'name': u'Microsoft'},\n",
       " {u'name': u'Apple'},\n",
       " {u'name': u'Walgreens'},\n",
       " {u'name': u'PricewaterhouseCoopers'},\n",
       " {u'name': u'Sears'},\n",
       " {u'name': u'Deloitte LLP'},\n",
       " {u'name': u'Accenture'}]"
      ]
     },
     "execution_count": 66,
     "metadata": {},
     "output_type": "execute_result"
    }
   ],
   "source": [
    "import json\n",
    "with open('list.json') as f:\n",
    "    data=json.load(f)\n",
    "data    "
   ]
  },
  {
   "cell_type": "code",
   "execution_count": 3,
   "metadata": {
    "collapsed": false
   },
   "outputs": [],
   "source": [
    "import os"
   ]
  },
  {
   "cell_type": "code",
   "execution_count": 6,
   "metadata": {
    "collapsed": false
   },
   "outputs": [],
   "source": [
    "if not os.path.exists('../Reviews/vmware'):\n",
    "    os.makedirs('../Reviews/vmware')"
   ]
  },
  {
   "cell_type": "code",
   "execution_count": 14,
   "metadata": {
    "collapsed": false
   },
   "outputs": [],
   "source": [
    "f=os.open('xx.txt',os.O_CREAT)"
   ]
  },
  {
   "cell_type": "code",
   "execution_count": 17,
   "metadata": {
    "collapsed": false
   },
   "outputs": [],
   "source": [
    "url='https://www.indeed.co.in/cmp/vmware/reviews?fcountry=ALL&start=0'"
   ]
  },
  {
   "cell_type": "code",
   "execution_count": 20,
   "metadata": {
    "collapsed": false
   },
   "outputs": [],
   "source": [
    "from bs4 import BeautifulSoup\n",
    "import requests\n",
    "page=requests.get(url).text\n",
    "soup=BeautifulSoup(page,'lxml')\n",
    "t=soup.find_all('div',attrs={'class':'cmp-note'})\n",
    "        "
   ]
  },
  {
   "cell_type": "code",
   "execution_count": 25,
   "metadata": {
    "collapsed": false
   },
   "outputs": [
    {
     "data": {
      "text/plain": [
       "<div class=\"cmp-note\">371</div>"
      ]
     },
     "execution_count": 25,
     "metadata": {},
     "output_type": "execute_result"
    }
   ],
   "source": [
    "t[1]"
   ]
  },
  {
   "cell_type": "code",
   "execution_count": null,
   "metadata": {
    "collapsed": true
   },
   "outputs": [],
   "source": []
  }
 ],
 "metadata": {
  "anaconda-cloud": {},
  "kernelspec": {
   "display_name": "Python [default]",
   "language": "python",
   "name": "python2"
  },
  "language_info": {
   "codemirror_mode": {
    "name": "ipython",
    "version": 2
   },
   "file_extension": ".py",
   "mimetype": "text/x-python",
   "name": "python",
   "nbconvert_exporter": "python",
   "pygments_lexer": "ipython2",
   "version": "2.7.12"
  }
 },
 "nbformat": 4,
 "nbformat_minor": 1
}
