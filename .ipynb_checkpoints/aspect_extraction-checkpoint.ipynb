{
 "cells": [
  {
   "cell_type": "code",
   "execution_count": 1,
   "metadata": {
    "collapsed": true
   },
   "outputs": [],
   "source": [
    "import json\n",
    "import os\n",
    "import nltk\n",
    "import numpy as np"
   ]
  },
  {
   "cell_type": "code",
   "execution_count": 2,
   "metadata": {
    "collapsed": false
   },
   "outputs": [],
   "source": [
    "all_reviews=[]\n",
    "data=[]\n",
    "for root, dirs, files in os.walk('Reviews/'):\n",
    "    for name in dirs:                             #all review folders\n",
    "        with open('Reviews/'+name+'/review.txt') as f:\n",
    "            data=data+json.load(f)\n",
    "            f.close()\n",
    "dataset=[]\n",
    "dataset=np.asarray(data)\n",
    "dataset=np.concatenate(dataset)               #contains all the reviews"
   ]
  },
  {
   "cell_type": "code",
   "execution_count": null,
   "metadata": {
    "collapsed": false,
    "scrolled": true
   },
   "outputs": [],
   "source": [
    "#tokenizing\n",
    "tokens=[]\n",
    "for review in dataset:\n",
    "    tokens=tokens+nltk.word_tokenize(review)"
   ]
  },
  {
   "cell_type": "code",
   "execution_count": 5,
   "metadata": {
    "collapsed": false
   },
   "outputs": [
    {
     "data": {
      "text/plain": [
       "140625"
      ]
     },
     "execution_count": 5,
     "metadata": {},
     "output_type": "execute_result"
    }
   ],
   "source": [
    "len(tokens)"
   ]
  },
  {
   "cell_type": "code",
   "execution_count": 25,
   "metadata": {
    "collapsed": false
   },
   "outputs": [],
   "source": [
    "#pos tagging\n",
    "tags=[]\n",
    "tags=nltk.pos_tag(tokens)"
   ]
  },
  {
   "cell_type": "code",
   "execution_count": 27,
   "metadata": {
    "collapsed": false
   },
   "outputs": [
    {
     "data": {
      "text/plain": [
       "(u'Standard', 'NNP')"
      ]
     },
     "execution_count": 27,
     "metadata": {},
     "output_type": "execute_result"
    }
   ],
   "source": [
    "len(tags)"
   ]
  },
  {
   "cell_type": "code",
   "execution_count": 28,
   "metadata": {
    "collapsed": false
   },
   "outputs": [],
   "source": [
    "nouns=[]\n",
    "for (a,b) in tags:\n",
    "    if(b=='NN' or b=='NP' or b=='NNP'):\n",
    "        nouns.append(a)\n",
    "aspects=[]\n",
    "[aspects.append((x,nouns.count(x))) for x in set(nouns)]\n",
    "aspects=sorted(aspects,key=lambda x:x[1],reverse=True)"
   ]
  },
  {
   "cell_type": "code",
   "execution_count": 29,
   "metadata": {
    "collapsed": false
   },
   "outputs": [
    {
     "data": {
      "text/plain": [
       "[(u'work', 4590),\n",
       " (u'place', 2852),\n",
       " (u'company', 2289),\n",
       " (u'Deloitte', 1946),\n",
       " (u'culture', 1941),\n",
       " (u'balance', 1711),\n",
       " (u'life', 1695),\n",
       " (u'EY', 1525),\n",
       " (u'management', 1525),\n",
       " (u'career', 1223),\n",
       " (u'team', 1128),\n",
       " (u'day', 933),\n",
       " (u'lot', 932),\n",
       " (u'part', 912),\n",
       " (u'job', 869),\n",
       " (u'time', 751),\n",
       " (u'environment', 746),\n",
       " (u'Work', 733),\n",
       " (u'start', 633),\n",
       " (u'Management', 587),\n",
       " (u'employee', 581),\n",
       " (u'technology', 564),\n",
       " (u'firm', 548),\n",
       " (u'amp', 522),\n",
       " (u'learning', 516),\n",
       " (u'experience', 473),\n",
       " (u'analysis', 466),\n",
       " (u'client', 461),\n",
       " (u'pressure', 458),\n",
       " (u'season', 457),\n",
       " (u'compensation', 451),\n",
       " (u'platform', 443),\n",
       " (u'MBA', 442),\n",
       " (u'growth', 375),\n",
       " (u'exposure', 372),\n",
       " (u'need', 369),\n",
       " (u'side', 367),\n",
       " (u'risk', 364),\n",
       " (u'Good', 358),\n",
       " (u'market', 355),\n",
       " (u'industry', 353),\n",
       " (u'fun', 349),\n",
       " (u'knowledge', 345),\n",
       " (u'everyone', 340),\n",
       " (u'process', 312),\n",
       " (u'office', 303),\n",
       " (u'Company', 302),\n",
       " (u'workplace', 293),\n",
       " (u'Great', 291),\n",
       " (u'consultant', 285),\n",
       " (u'i', 283),\n",
       " (u'profile', 276),\n",
       " (u'HR', 276),\n",
       " (u'Service', 271),\n",
       " (u'group', 269),\n",
       " (u'Place', 260),\n",
       " (u'trend', 255),\n",
       " (u'salary', 250),\n",
       " (u'offshore', 248),\n",
       " (u'organization', 242),\n",
       " (u'Nice', 241),\n",
       " (u'audit', 235),\n",
       " (u'scope', 231),\n",
       " (u'something', 230),\n",
       " (u'security', 230),\n",
       " (u'brand', 228),\n",
       " (u'person', 226),\n",
       " (u'Client', 221),\n",
       " (u'preparation', 220),\n",
       " (u'Less', 218),\n",
       " (u'Standard', 211),\n",
       " (u'Industry', 211),\n",
       " (u'evolving', 211),\n",
       " (u'doubt', 211),\n",
       " (u'Latest', 211),\n",
       " (u'fit', 211),\n",
       " (u'National', 211),\n",
       " (u'approach', 211),\n",
       " (u'respect', 211),\n",
       " (u'you.They', 211),\n",
       " (u'peer', 207),\n",
       " (u'year', 199),\n",
       " (u'training', 198),\n",
       " (u'Ernst', 189),\n",
       " (u'Young', 189),\n",
       " (u'Lot', 184),\n",
       " (u'basis', 179),\n",
       " (u'month', 176),\n",
       " (u'Salary', 172),\n",
       " (u'flow', 172),\n",
       " (u'India', 171),\n",
       " (u'Job', 171),\n",
       " (u'grow', 169),\n",
       " (u'world', 169),\n",
       " (u'end', 168),\n",
       " (u'Tax', 166),\n",
       " (u'skill', 166),\n",
       " (u'Associate', 158),\n",
       " (u'learn', 157),\n",
       " (u'business', 154)]"
      ]
     },
     "execution_count": 29,
     "metadata": {},
     "output_type": "execute_result"
    }
   ],
   "source": [
    "aspects[:100]"
   ]
  },
  {
   "cell_type": "code",
   "execution_count": null,
   "metadata": {
    "collapsed": false
   },
   "outputs": [],
   "source": []
  },
  {
   "cell_type": "code",
   "execution_count": null,
   "metadata": {
    "collapsed": false
   },
   "outputs": [],
   "source": []
  },
  {
   "cell_type": "code",
   "execution_count": null,
   "metadata": {
    "collapsed": false
   },
   "outputs": [],
   "source": []
  },
  {
   "cell_type": "code",
   "execution_count": null,
   "metadata": {
    "collapsed": false
   },
   "outputs": [],
   "source": []
  },
  {
   "cell_type": "code",
   "execution_count": null,
   "metadata": {
    "collapsed": false
   },
   "outputs": [],
   "source": []
  },
  {
   "cell_type": "code",
   "execution_count": null,
   "metadata": {
    "collapsed": false
   },
   "outputs": [],
   "source": []
  },
  {
   "cell_type": "code",
   "execution_count": null,
   "metadata": {
    "collapsed": false
   },
   "outputs": [],
   "source": [
    "\n"
   ]
  },
  {
   "cell_type": "code",
   "execution_count": null,
   "metadata": {
    "collapsed": false
   },
   "outputs": [],
   "source": []
  },
  {
   "cell_type": "code",
   "execution_count": null,
   "metadata": {
    "collapsed": false
   },
   "outputs": [],
   "source": []
  },
  {
   "cell_type": "code",
   "execution_count": null,
   "metadata": {
    "collapsed": false
   },
   "outputs": [],
   "source": []
  },
  {
   "cell_type": "code",
   "execution_count": null,
   "metadata": {
    "collapsed": false
   },
   "outputs": [],
   "source": []
  },
  {
   "cell_type": "code",
   "execution_count": null,
   "metadata": {
    "collapsed": true
   },
   "outputs": [],
   "source": []
  }
 ],
 "metadata": {
  "anaconda-cloud": {},
  "kernelspec": {
   "display_name": "Python [default]",
   "language": "python",
   "name": "python2"
  },
  "language_info": {
   "codemirror_mode": {
    "name": "ipython",
    "version": 2
   },
   "file_extension": ".py",
   "mimetype": "text/x-python",
   "name": "python",
   "nbconvert_exporter": "python",
   "pygments_lexer": "ipython2",
   "version": "2.7.12"
  }
 },
 "nbformat": 4,
 "nbformat_minor": 1
}
