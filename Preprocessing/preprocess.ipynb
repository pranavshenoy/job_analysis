{
 "cells": [
  {
   "cell_type": "code",
   "execution_count": 82,
   "metadata": {
    "collapsed": false
   },
   "outputs": [],
   "source": [
    "import nltk\n",
    "import random\n",
    "import os\n",
    "import json\n",
    "from nltk.stem import  PorterStemmer\n",
    "from nltk.corpus import stopwords\n",
    "import enchant\n",
    "from nltk.tokenize import RegexpTokenizer"
   ]
  },
  {
   "cell_type": "code",
   "execution_count": 83,
   "metadata": {
    "collapsed": true
   },
   "outputs": [],
   "source": [
    "#initialising dictionary, tokenizer, stemmer\n",
    "dictionary = enchant.Dict(\"en_US\")\n",
    "tokenizer=RegexpTokenizer('[a-zA-Z]+')\n",
    "ps=PorterStemmer()\n",
    "all_stopwords=stopwords.words('english')+['ism','amazon']"
   ]
  },
  {
   "cell_type": "code",
   "execution_count": 84,
   "metadata": {
    "collapsed": true
   },
   "outputs": [],
   "source": [
    "def preprocess_dataset():  \n",
    "    dataset=[]\n",
    "    for root, dirs, files in os.walk('../Dataset'):\n",
    "        for directory in dirs:\n",
    "            print directory\n",
    "            for root_f, dirs_f, files_f in os.walk(os.path.join(root,directory)):\n",
    "                for each_file in files_f:\n",
    "                    with open(os.path.join(root,directory)+'/'+each_file) as f:\n",
    "                        data_temp=json.load(f)\n",
    "                    dataset=preprocess(data_temp)  \n",
    "                    with open(os.path.join(root,directory)+'/'+each_file,'w') as f:\n",
    "                        json.dump(dataset,f)\n",
    "                    print each_file+' completed'    "
   ]
  },
  {
   "cell_type": "code",
   "execution_count": 88,
   "metadata": {
    "collapsed": false
   },
   "outputs": [],
   "source": [
    "def preprocess(data):\n",
    "    dataset=[]\n",
    "    for sentence in data:\n",
    "        #print 'sentence'\n",
    "        #print sentence\n",
    "        temp=tokenizer.tokenize(sentence)\n",
    "        #print 'tokenizer'\n",
    "        #print temp\n",
    "        remove_stopword=[word for word in temp if word not in all_stopwords]    # removing stopwords\n",
    "        #print 'stopwords'\n",
    "        #print remove_stopword\n",
    "        #only_english=[ps.stem(word) for word in remove_stopword if dictionary.check(word)== True]  # remove non-english words\n",
    "        only_english=[ps.stem(word) for word in remove_stopword if dictionary.check(word)== True]  # remove non-english words\n",
    "        #print 'removed all non-english words'\n",
    "        #print only_english\n",
    "        if(len(only_english)>1):                  #appends only if length of list >1\n",
    "            dataset.append(' '.join(only_english))\n",
    "    return dataset    "
   ]
  },
  {
   "cell_type": "code",
   "execution_count": 89,
   "metadata": {
    "collapsed": false
   },
   "outputs": [
    {
     "name": "stdout",
     "output_type": "stream",
     "text": [
      "Aspect7\n",
      "sli_pos completed\n",
      "neutral completed\n",
      "pos completed\n",
      "neg completed\n",
      "sli_neg completed\n",
      "Aspect1\n",
      "sli_pos completed\n",
      "neutral completed\n",
      "pos completed\n",
      "neg completed\n",
      "sli_neg completed\n",
      "Aspect4\n",
      "sli_pos completed\n",
      "neutral completed\n",
      "pos completed\n",
      "neg completed\n",
      "sli_neg completed\n",
      "Aspect5\n",
      "sli_pos completed\n",
      "neutral completed\n",
      "pos completed\n",
      "neg completed\n",
      "sli_neg completed\n",
      "Aspect3\n",
      "sli_pos completed\n",
      "neutral completed\n",
      "pos completed\n",
      "neg completed\n",
      "sli_neg completed\n",
      "Aspect6\n",
      "sli_pos completed\n",
      "neutral completed\n",
      "pos completed\n",
      "neg completed\n",
      "sli_neg completed\n",
      "Aspect2\n",
      "sli_pos completed\n",
      "neutral completed\n",
      "pos completed\n",
      "neg completed\n",
      "sli_neg completed\n"
     ]
    }
   ],
   "source": [
    "dataset=preprocess_dataset()"
   ]
  },
  {
   "cell_type": "code",
   "execution_count": null,
   "metadata": {
    "collapsed": false
   },
   "outputs": [],
   "source": [
    "#for testing preprocess()\n",
    "#sample=preprocess(dataset[196000:200000])"
   ]
  },
  {
   "cell_type": "code",
   "execution_count": null,
   "metadata": {
    "collapsed": true
   },
   "outputs": [],
   "source": []
  },
  {
   "cell_type": "code",
   "execution_count": null,
   "metadata": {
    "collapsed": false,
    "scrolled": true
   },
   "outputs": [],
   "source": []
  },
  {
   "cell_type": "code",
   "execution_count": null,
   "metadata": {
    "collapsed": false
   },
   "outputs": [],
   "source": []
  },
  {
   "cell_type": "code",
   "execution_count": null,
   "metadata": {
    "collapsed": false,
    "scrolled": true
   },
   "outputs": [],
   "source": []
  },
  {
   "cell_type": "code",
   "execution_count": null,
   "metadata": {
    "collapsed": false
   },
   "outputs": [],
   "source": []
  },
  {
   "cell_type": "code",
   "execution_count": null,
   "metadata": {
    "collapsed": false
   },
   "outputs": [],
   "source": []
  },
  {
   "cell_type": "code",
   "execution_count": null,
   "metadata": {
    "collapsed": true
   },
   "outputs": [],
   "source": []
  },
  {
   "cell_type": "code",
   "execution_count": null,
   "metadata": {
    "collapsed": false
   },
   "outputs": [],
   "source": []
  },
  {
   "cell_type": "code",
   "execution_count": null,
   "metadata": {
    "collapsed": false
   },
   "outputs": [],
   "source": []
  },
  {
   "cell_type": "code",
   "execution_count": null,
   "metadata": {
    "collapsed": false
   },
   "outputs": [],
   "source": []
  },
  {
   "cell_type": "code",
   "execution_count": null,
   "metadata": {
    "collapsed": false
   },
   "outputs": [],
   "source": []
  },
  {
   "cell_type": "code",
   "execution_count": null,
   "metadata": {
    "collapsed": false
   },
   "outputs": [],
   "source": []
  },
  {
   "cell_type": "code",
   "execution_count": null,
   "metadata": {
    "collapsed": true
   },
   "outputs": [],
   "source": []
  }
 ],
 "metadata": {
  "anaconda-cloud": {},
  "kernelspec": {
   "display_name": "Python [default]",
   "language": "python",
   "name": "python2"
  },
  "language_info": {
   "codemirror_mode": {
    "name": "ipython",
    "version": 2
   },
   "file_extension": ".py",
   "mimetype": "text/x-python",
   "name": "python",
   "nbconvert_exporter": "python",
   "pygments_lexer": "ipython2",
   "version": "2.7.12"
  }
 },
 "nbformat": 4,
 "nbformat_minor": 1
}
