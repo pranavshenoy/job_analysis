{
 "cells": [
  {
   "cell_type": "code",
   "execution_count": 6,
   "metadata": {
    "collapsed": false
   },
   "outputs": [],
   "source": [
    "import nltk\n",
    "import random\n",
    "import os\n",
    "import json\n",
    "import random\n",
    "from nltk.corpus import wordnet as wn\n",
    "import pickle"
   ]
  },
  {
   "cell_type": "code",
   "execution_count": 9,
   "metadata": {
    "collapsed": true
   },
   "outputs": [],
   "source": [
    "def load_dataset(file_name):  \n",
    "    dataset=[]\n",
    "    for root, dirs, files in os.walk('../Dataset_new'):\n",
    "        for directory in dirs:\n",
    "            #for root_f, dirs_f, files_f in os.walk(os.path.join(root,directory)):\n",
    "            #    for each_file in files_f:\n",
    "            with open(os.path.join(root,directory)+'/'+file_name) as f:\n",
    "                data_temp=json.load(f)    \n",
    "            dataset+=[sentence for sentence in data_temp]\n",
    "    return dataset"
   ]
  },
  {
   "cell_type": "code",
   "execution_count": 36,
   "metadata": {
    "collapsed": false
   },
   "outputs": [
    {
     "name": "stdout",
     "output_type": "stream",
     "text": [
      "21336\n"
     ]
    }
   ],
   "source": [
    "data_pos=load_dataset('pos')\n",
    "print len(data_pos)"
   ]
  },
  {
   "cell_type": "code",
   "execution_count": 37,
   "metadata": {
    "collapsed": false
   },
   "outputs": [
    {
     "name": "stdout",
     "output_type": "stream",
     "text": [
      "34628\n"
     ]
    }
   ],
   "source": [
    "data_sli_pos=load_dataset('sli_pos')\n",
    "print len(data_sli_pos)"
   ]
  },
  {
   "cell_type": "code",
   "execution_count": 38,
   "metadata": {
    "collapsed": false
   },
   "outputs": [
    {
     "name": "stdout",
     "output_type": "stream",
     "text": [
      "8434\n"
     ]
    }
   ],
   "source": [
    "data_sli_neg=load_dataset('sli_neg')\n",
    "print len(data_sli_neg)"
   ]
  },
  {
   "cell_type": "code",
   "execution_count": 40,
   "metadata": {
    "collapsed": false
   },
   "outputs": [
    {
     "name": "stdout",
     "output_type": "stream",
     "text": [
      "71160\n"
     ]
    }
   ],
   "source": [
    "data_neutral=load_dataset('neutral')\n",
    "print len(data_neutral)"
   ]
  },
  {
   "cell_type": "code",
   "execution_count": 41,
   "metadata": {
    "collapsed": false
   },
   "outputs": [
    {
     "name": "stdout",
     "output_type": "stream",
     "text": [
      "2107\n"
     ]
    }
   ],
   "source": [
    "data_neg=load_dataset('neg')\n",
    "print len(data_neg)"
   ]
  },
  {
   "cell_type": "code",
   "execution_count": 15,
   "metadata": {
    "collapsed": false
   },
   "outputs": [],
   "source": [
    "vocab_pos=[word for sentence in data_pos for word in sentence.split()]"
   ]
  },
  {
   "cell_type": "code",
   "execution_count": 16,
   "metadata": {
    "collapsed": true
   },
   "outputs": [],
   "source": [
    "vocab_neg=[word for sentence in data_neg for word in sentence.split()]"
   ]
  },
  {
   "cell_type": "code",
   "execution_count": 17,
   "metadata": {
    "collapsed": true
   },
   "outputs": [],
   "source": [
    "vocab_sli_pos=[word for sentence in data_sli_pos for word in sentence.split()]"
   ]
  },
  {
   "cell_type": "code",
   "execution_count": 18,
   "metadata": {
    "collapsed": true
   },
   "outputs": [],
   "source": [
    "vocab_neutral=[word for sentence in data_neutral for word in sentence.split()]"
   ]
  },
  {
   "cell_type": "code",
   "execution_count": 19,
   "metadata": {
    "collapsed": true
   },
   "outputs": [],
   "source": [
    "vocab_sli_neg=[word for sentence in data_sli_neg for word in sentence.split()]"
   ]
  },
  {
   "cell_type": "code",
   "execution_count": 21,
   "metadata": {
    "collapsed": false
   },
   "outputs": [
    {
     "name": "stdout",
     "output_type": "stream",
     "text": [
      "pos : 92251\n",
      "neg : 9220\n",
      "sli_pos : 182097\n",
      "sli_neg : 43797\n",
      "neutral : 290058\n"
     ]
    }
   ],
   "source": [
    "print 'pos : '+ str(len(vocab_pos))\n",
    "print 'neg : '+ str(len(vocab_neg))\n",
    "print 'sli_pos : '+ str(len(vocab_sli_pos))\n",
    "print 'sli_neg : '+ str(len(vocab_sli_neg))\n",
    "print 'neutral : '+ str(len(vocab_neutral))                  "
   ]
  },
  {
   "cell_type": "code",
   "execution_count": 22,
   "metadata": {
    "collapsed": false
   },
   "outputs": [
    {
     "name": "stdout",
     "output_type": "stream",
     "text": [
      "pos : 4016\n",
      "neg : 1800\n",
      "sli_pos : 7185\n",
      "sli_neg : 4347\n",
      "neutral : 11085\n"
     ]
    }
   ],
   "source": [
    "print 'pos : '+ str(len(set(vocab_pos)))\n",
    "print 'neg : '+ str(len(set(vocab_neg)))\n",
    "print 'sli_pos : '+ str(len(set(vocab_sli_pos)))\n",
    "print 'sli_neg : '+ str(len(set(vocab_sli_neg)))\n",
    "print 'neutral : '+ str(len(set(vocab_neutral)))                  "
   ]
  },
  {
   "cell_type": "code",
   "execution_count": 49,
   "metadata": {
    "collapsed": false
   },
   "outputs": [],
   "source": [
    "counts_pos=[(x,vocab_pos.count(x)) for x in set(vocab_pos)]\n",
    "counts_neg=[(x,vocab_neg.count(x)) for x in set(vocab_neg)]\n",
    "counts_neutral=[(x,vocab_neutral.count(x)) for x in set(vocab_neutral)]\n",
    "counts_sli_pos=[(x,vocab_sli_pos.count(x)) for x in set(vocab_sli_pos)]\n",
    "counts_sli_neg=[(x,vocab_sli_neg.count(x)) for x in set(vocab_sli_neg)]"
   ]
  },
  {
   "cell_type": "code",
   "execution_count": 47,
   "metadata": {
    "collapsed": false
   },
   "outputs": [],
   "source": [
    "#only for displaying\n",
    "set_vocab_pos=set(vocab_pos)\n",
    "set_vocab_neg=set(vocab_neg)\n",
    "set_vocab_neutral=set(vocab_neutral)\n",
    "set_vocab_sli_pos=set(vocab_sli_pos)\n",
    "set_vocab_sli_neg=set(vocab_sli_neg)"
   ]
  },
  {
   "cell_type": "code",
   "execution_count": 32,
   "metadata": {
    "collapsed": true
   },
   "outputs": [],
   "source": [
    "def count(pair):\n",
    "    return pair[1]"
   ]
  },
  {
   "cell_type": "code",
   "execution_count": 64,
   "metadata": {
    "collapsed": true
   },
   "outputs": [],
   "source": [
    "counts_pos=sorted(counts_pos,reverse=True,key=count)\n",
    "counts_neg=sorted(counts_neg,reverse=True,key=count)\n",
    "counts_neutral=sorted(counts_neutral,reverse=True,key=count)\n",
    "counts_sli_pos=sorted(counts_sli_pos,reverse=True,key=count)\n",
    "counts_sli_neg=sorted(counts_sli_neg,reverse=True,key=count)"
   ]
  },
  {
   "cell_type": "code",
   "execution_count": 65,
   "metadata": {
    "collapsed": false
   },
   "outputs": [],
   "source": [
    "with open('../Vocab/pos','w') as f:\n",
    "    json.dump(counts_pos,f)\n",
    "with open('../Vocab/neg','w') as f:\n",
    "    json.dump(counts_neg,f)\n",
    "with open('../Vocab/sli_pos','w') as f:\n",
    "    json.dump(counts_sli_pos,f)\n",
    "with open('../Vocab/sli_neg','w') as f:\n",
    "    json.dump(counts_sli_neg,f)       \n",
    "with open('../Vocab/neutral','w') as f:\n",
    "    json.dump(counts_neutral,f)    "
   ]
  },
  {
   "cell_type": "code",
   "execution_count": 68,
   "metadata": {
    "collapsed": false
   },
   "outputs": [],
   "source": [
    "with open('../Vocab/pos') as f:\n",
    "    sample=json.load(f)"
   ]
  },
  {
   "cell_type": "code",
   "execution_count": null,
   "metadata": {
    "collapsed": true
   },
   "outputs": [],
   "source": []
  },
  {
   "cell_type": "code",
   "execution_count": 24,
   "metadata": {
    "collapsed": false
   },
   "outputs": [],
   "source": [
    "def tags(tag):\n",
    "    if tag.startswith('J'):\n",
    "        return wn.ADJ\n",
    "    elif tag.startswith('N'):\n",
    "        return wn.NOUN\n",
    "    elif tag.startswith('R'):\n",
    "        return wn.ADV\n",
    "    elif tag.startswith('V'):\n",
    "        return wn.VERB\n",
    "    return None\n",
    "    "
   ]
  },
  {
   "cell_type": "code",
   "execution_count": 30,
   "metadata": {
    "collapsed": false
   },
   "outputs": [
    {
     "data": {
      "text/plain": [
       "-0.7"
      ]
     },
     "execution_count": 30,
     "metadata": {},
     "output_type": "execute_result"
    }
   ],
   "source": [
    "round(-0.65,1)"
   ]
  },
  {
   "cell_type": "code",
   "execution_count": null,
   "metadata": {
    "collapsed": true
   },
   "outputs": [],
   "source": []
  }
 ],
 "metadata": {
  "anaconda-cloud": {},
  "kernelspec": {
   "display_name": "Python [default]",
   "language": "python",
   "name": "python2"
  },
  "language_info": {
   "codemirror_mode": {
    "name": "ipython",
    "version": 2
   },
   "file_extension": ".py",
   "mimetype": "text/x-python",
   "name": "python",
   "nbconvert_exporter": "python",
   "pygments_lexer": "ipython2",
   "version": "2.7.12"
  }
 },
 "nbformat": 4,
 "nbformat_minor": 1
}
