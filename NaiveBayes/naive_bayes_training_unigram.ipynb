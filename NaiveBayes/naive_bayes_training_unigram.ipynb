{
 "cells": [
  {
   "cell_type": "code",
   "execution_count": 1,
   "metadata": {
    "collapsed": false
   },
   "outputs": [],
   "source": [
    "import nltk\n",
    "import random\n",
    "import os\n",
    "import json\n",
    "from nltk.stem import  PorterStemmer\n",
    "import random\n",
    "import pickle"
   ]
  },
  {
   "cell_type": "code",
   "execution_count": null,
   "metadata": {
    "collapsed": true
   },
   "outputs": [],
   "source": []
  },
  {
   "cell_type": "code",
   "execution_count": 2,
   "metadata": {
    "collapsed": false
   },
   "outputs": [],
   "source": [
    "def load_dataset():  \n",
    "    dataset=[]\n",
    "    for root, dirs, files in os.walk('../Dataset'):\n",
    "        for directory in dirs:\n",
    "            for root_f, dirs_f, files_f in os.walk(os.path.join(root,directory)):\n",
    "                files_f.remove('neutral')\n",
    "                for each_file in files_f:\n",
    "                    with open(os.path.join(root,directory)+'/'+each_file) as f:\n",
    "                        data_temp=json.load(f)    \n",
    "                    if(each_file == 'pos' or each_file == 'sli_pos'):\n",
    "                        dataset+=[(sentence,'pos') for sentence in data_temp]\n",
    "                    elif(each_file == 'neg' or each_file == 'sli_neg'):\n",
    "                        dataset+=[(sentence,'neg') for sentence in data_temp]\n",
    "    return dataset"
   ]
  },
  {
   "cell_type": "code",
   "execution_count": 3,
   "metadata": {
    "collapsed": false
   },
   "outputs": [],
   "source": [
    "def to_unigram(data):\n",
    "    dataset=[]\n",
    "    dataset+=[([items for items in sentence.split()],polarity) for sentence,polarity in data]    \n",
    "    return dataset    "
   ]
  },
  {
   "cell_type": "code",
   "execution_count": 4,
   "metadata": {
    "collapsed": false
   },
   "outputs": [],
   "source": [
    "#execution\n",
    "labeled_data=load_dataset()    #loading labeled sentences\n",
    "random.shuffle(labeled_data)\n",
    "labeled_data=to_unigram(labeled_data)    #converting to unigram"
   ]
  },
  {
   "cell_type": "code",
   "execution_count": 5,
   "metadata": {
    "collapsed": true
   },
   "outputs": [],
   "source": [
    "#loading vocab\n",
    "with open('vocab') as f:\n",
    "    vocab=json.load(f)"
   ]
  },
  {
   "cell_type": "code",
   "execution_count": 8,
   "metadata": {
    "collapsed": false
   },
   "outputs": [
    {
     "name": "stdout",
     "output_type": "stream",
     "text": [
      "([u'work', u'culture', u'good', u'timings', u'required', u'log'], 'pos')\n"
     ]
    }
   ],
   "source": [
    "print labeled_data[1500]"
   ]
  },
  {
   "cell_type": "code",
   "execution_count": 9,
   "metadata": {
    "collapsed": false
   },
   "outputs": [
    {
     "name": "stdout",
     "output_type": "stream",
     "text": [
      "118577\n"
     ]
    }
   ],
   "source": [
    "print len(labeled_data)"
   ]
  },
  {
   "cell_type": "code",
   "execution_count": 12,
   "metadata": {
    "collapsed": false
   },
   "outputs": [
    {
     "name": "stdout",
     "output_type": "stream",
     "text": [
      "Length Of Vocab : 307\n"
     ]
    }
   ],
   "source": [
    "print 'Length Of Vocab : ' + str(len(vocab))"
   ]
  },
  {
   "cell_type": "code",
   "execution_count": 15,
   "metadata": {
    "collapsed": false
   },
   "outputs": [
    {
     "data": {
      "text/plain": [
       "[u'ridicul',\n",
       " u'lack',\n",
       " u'poorli',\n",
       " u'bright',\n",
       " u'unorgan',\n",
       " u'abil',\n",
       " u'rough',\n",
       " u'hate',\n",
       " u'enthusiast',\n",
       " u'slow']"
      ]
     },
     "execution_count": 15,
     "metadata": {},
     "output_type": "execute_result"
    }
   ],
   "source": [
    "vocab[:10]"
   ]
  },
  {
   "cell_type": "code",
   "execution_count": 16,
   "metadata": {
    "collapsed": true
   },
   "outputs": [],
   "source": [
    "def extract_features(document):       #features are bag of words. document is a list of words of a sentence \n",
    "    features = {}\n",
    "    document= [ps.stem(word) for word in document]\n",
    "    for word in vocab:\n",
    "        features['contains(%s)' % word] = (word in document)\n",
    "    return features        "
   ]
  },
  {
   "cell_type": "code",
   "execution_count": 17,
   "metadata": {
    "collapsed": false
   },
   "outputs": [],
   "source": [
    "train_test = nltk.classify.apply_features(extract_features, labeled_data)"
   ]
  },
  {
   "cell_type": "code",
   "execution_count": 18,
   "metadata": {
    "collapsed": false
   },
   "outputs": [],
   "source": [
    "#dividing into training and test data\n",
    "train_set=train_test[:-10000]\n",
    "test_set=train_test[-10000:]"
   ]
  },
  {
   "cell_type": "code",
   "execution_count": 19,
   "metadata": {
    "collapsed": false
   },
   "outputs": [
    {
     "name": "stdout",
     "output_type": "stream",
     "text": [
      "([u'enjoyed', u'able', u'work', u'people'], 'pos')\n"
     ]
    },
    {
     "ename": "NameError",
     "evalue": "global name 'ps' is not defined",
     "output_type": "error",
     "traceback": [
      "\u001b[0;31m---------------------------------------------------------------------------\u001b[0m",
      "\u001b[0;31mNameError\u001b[0m                                 Traceback (most recent call last)",
      "\u001b[0;32m<ipython-input-19-dee32fa3c7b7>\u001b[0m in \u001b[0;36m<module>\u001b[0;34m()\u001b[0m\n\u001b[1;32m      1\u001b[0m \u001b[0;32mprint\u001b[0m \u001b[0mlabeled_data\u001b[0m\u001b[0;34m[\u001b[0m\u001b[0;36m10\u001b[0m\u001b[0;34m]\u001b[0m\u001b[0;34m\u001b[0m\u001b[0m\n\u001b[0;32m----> 2\u001b[0;31m \u001b[0mtrain_set\u001b[0m\u001b[0;34m[\u001b[0m\u001b[0;36m10\u001b[0m\u001b[0;34m]\u001b[0m\u001b[0;34m\u001b[0m\u001b[0m\n\u001b[0m",
      "\u001b[0;32m/home/pranav/anaconda2/lib/python2.7/site-packages/nltk/collections.pyc\u001b[0m in \u001b[0;36m__getitem__\u001b[0;34m(self, index)\u001b[0m\n\u001b[1;32m    447\u001b[0m                 \u001b[0;32mreturn\u001b[0m \u001b[0mself\u001b[0m\u001b[0;34m.\u001b[0m\u001b[0m_cache\u001b[0m\u001b[0;34m[\u001b[0m\u001b[0mindex\u001b[0m\u001b[0;34m]\u001b[0m\u001b[0;34m\u001b[0m\u001b[0m\n\u001b[1;32m    448\u001b[0m             \u001b[0;31m# Calculate the value\u001b[0m\u001b[0;34m\u001b[0m\u001b[0;34m\u001b[0m\u001b[0m\n\u001b[0;32m--> 449\u001b[0;31m             \u001b[0;32mtry\u001b[0m\u001b[0;34m:\u001b[0m \u001b[0mval\u001b[0m \u001b[0;34m=\u001b[0m \u001b[0mnext\u001b[0m\u001b[0;34m(\u001b[0m\u001b[0mself\u001b[0m\u001b[0;34m.\u001b[0m\u001b[0miterate_from\u001b[0m\u001b[0;34m(\u001b[0m\u001b[0mindex\u001b[0m\u001b[0;34m)\u001b[0m\u001b[0;34m)\u001b[0m\u001b[0;34m\u001b[0m\u001b[0m\n\u001b[0m\u001b[1;32m    450\u001b[0m             \u001b[0;32mexcept\u001b[0m \u001b[0mStopIteration\u001b[0m\u001b[0;34m:\u001b[0m\u001b[0;34m\u001b[0m\u001b[0m\n\u001b[1;32m    451\u001b[0m                 \u001b[0;32mraise\u001b[0m \u001b[0mIndexError\u001b[0m\u001b[0;34m(\u001b[0m\u001b[0;34m'index out of range'\u001b[0m\u001b[0;34m)\u001b[0m\u001b[0;34m\u001b[0m\u001b[0m\n",
      "\u001b[0;32m/home/pranav/anaconda2/lib/python2.7/site-packages/nltk/collections.pyc\u001b[0m in \u001b[0;36miterate_from\u001b[0;34m(self, index)\u001b[0m\n\u001b[1;32m    404\u001b[0m         \u001b[0;32melif\u001b[0m \u001b[0mlen\u001b[0m\u001b[0;34m(\u001b[0m\u001b[0mself\u001b[0m\u001b[0;34m.\u001b[0m\u001b[0m_lists\u001b[0m\u001b[0;34m)\u001b[0m \u001b[0;34m==\u001b[0m \u001b[0;36m1\u001b[0m\u001b[0;34m:\u001b[0m\u001b[0;34m\u001b[0m\u001b[0m\n\u001b[1;32m    405\u001b[0m             \u001b[0;32mwhile\u001b[0m \u001b[0mTrue\u001b[0m\u001b[0;34m:\u001b[0m\u001b[0;34m\u001b[0m\u001b[0m\n\u001b[0;32m--> 406\u001b[0;31m                 \u001b[0;32mtry\u001b[0m\u001b[0;34m:\u001b[0m \u001b[0;32myield\u001b[0m \u001b[0mself\u001b[0m\u001b[0;34m.\u001b[0m\u001b[0m_func\u001b[0m\u001b[0;34m(\u001b[0m\u001b[0mself\u001b[0m\u001b[0;34m.\u001b[0m\u001b[0m_lists\u001b[0m\u001b[0;34m[\u001b[0m\u001b[0;36m0\u001b[0m\u001b[0;34m]\u001b[0m\u001b[0;34m[\u001b[0m\u001b[0mindex\u001b[0m\u001b[0;34m]\u001b[0m\u001b[0;34m)\u001b[0m\u001b[0;34m\u001b[0m\u001b[0m\n\u001b[0m\u001b[1;32m    407\u001b[0m                 \u001b[0;32mexcept\u001b[0m \u001b[0mIndexError\u001b[0m\u001b[0;34m:\u001b[0m \u001b[0;32mreturn\u001b[0m\u001b[0;34m\u001b[0m\u001b[0m\n\u001b[1;32m    408\u001b[0m                 \u001b[0mindex\u001b[0m \u001b[0;34m+=\u001b[0m \u001b[0;36m1\u001b[0m\u001b[0;34m\u001b[0m\u001b[0m\n",
      "\u001b[0;32m/home/pranav/anaconda2/lib/python2.7/site-packages/nltk/classify/util.pyc\u001b[0m in \u001b[0;36mlazy_func\u001b[0;34m(labeled_token)\u001b[0m\n\u001b[1;32m     63\u001b[0m     \u001b[0;32mif\u001b[0m \u001b[0mlabeled\u001b[0m\u001b[0;34m:\u001b[0m\u001b[0;34m\u001b[0m\u001b[0m\n\u001b[1;32m     64\u001b[0m         \u001b[0;32mdef\u001b[0m \u001b[0mlazy_func\u001b[0m\u001b[0;34m(\u001b[0m\u001b[0mlabeled_token\u001b[0m\u001b[0;34m)\u001b[0m\u001b[0;34m:\u001b[0m\u001b[0;34m\u001b[0m\u001b[0m\n\u001b[0;32m---> 65\u001b[0;31m             \u001b[0;32mreturn\u001b[0m \u001b[0;34m(\u001b[0m\u001b[0mfeature_func\u001b[0m\u001b[0;34m(\u001b[0m\u001b[0mlabeled_token\u001b[0m\u001b[0;34m[\u001b[0m\u001b[0;36m0\u001b[0m\u001b[0;34m]\u001b[0m\u001b[0;34m)\u001b[0m\u001b[0;34m,\u001b[0m \u001b[0mlabeled_token\u001b[0m\u001b[0;34m[\u001b[0m\u001b[0;36m1\u001b[0m\u001b[0;34m]\u001b[0m\u001b[0;34m)\u001b[0m\u001b[0;34m\u001b[0m\u001b[0m\n\u001b[0m\u001b[1;32m     66\u001b[0m         \u001b[0;32mreturn\u001b[0m \u001b[0mLazyMap\u001b[0m\u001b[0;34m(\u001b[0m\u001b[0mlazy_func\u001b[0m\u001b[0;34m,\u001b[0m \u001b[0mtoks\u001b[0m\u001b[0;34m)\u001b[0m\u001b[0;34m\u001b[0m\u001b[0m\n\u001b[1;32m     67\u001b[0m     \u001b[0;32melse\u001b[0m\u001b[0;34m:\u001b[0m\u001b[0;34m\u001b[0m\u001b[0m\n",
      "\u001b[0;32m<ipython-input-16-3a4d2a69241a>\u001b[0m in \u001b[0;36mextract_features\u001b[0;34m(document)\u001b[0m\n\u001b[1;32m      1\u001b[0m \u001b[0;32mdef\u001b[0m \u001b[0mextract_features\u001b[0m\u001b[0;34m(\u001b[0m\u001b[0mdocument\u001b[0m\u001b[0;34m)\u001b[0m\u001b[0;34m:\u001b[0m       \u001b[0;31m#features are bag of words. document is a list of words of a sentence\u001b[0m\u001b[0;34m\u001b[0m\u001b[0m\n\u001b[1;32m      2\u001b[0m     \u001b[0mfeatures\u001b[0m \u001b[0;34m=\u001b[0m \u001b[0;34m{\u001b[0m\u001b[0;34m}\u001b[0m\u001b[0;34m\u001b[0m\u001b[0m\n\u001b[0;32m----> 3\u001b[0;31m     \u001b[0mdocument\u001b[0m\u001b[0;34m=\u001b[0m \u001b[0;34m[\u001b[0m\u001b[0mps\u001b[0m\u001b[0;34m.\u001b[0m\u001b[0mstem\u001b[0m\u001b[0;34m(\u001b[0m\u001b[0mword\u001b[0m\u001b[0;34m)\u001b[0m \u001b[0;32mfor\u001b[0m \u001b[0mword\u001b[0m \u001b[0;32min\u001b[0m \u001b[0mdocument\u001b[0m\u001b[0;34m]\u001b[0m\u001b[0;34m\u001b[0m\u001b[0m\n\u001b[0m\u001b[1;32m      4\u001b[0m     \u001b[0;32mfor\u001b[0m \u001b[0mword\u001b[0m \u001b[0;32min\u001b[0m \u001b[0mvocab\u001b[0m\u001b[0;34m:\u001b[0m\u001b[0;34m\u001b[0m\u001b[0m\n\u001b[1;32m      5\u001b[0m         \u001b[0mfeatures\u001b[0m\u001b[0;34m[\u001b[0m\u001b[0;34m'contains(%s)'\u001b[0m \u001b[0;34m%\u001b[0m \u001b[0mword\u001b[0m\u001b[0;34m]\u001b[0m \u001b[0;34m=\u001b[0m \u001b[0;34m(\u001b[0m\u001b[0mword\u001b[0m \u001b[0;32min\u001b[0m \u001b[0mdocument\u001b[0m\u001b[0;34m)\u001b[0m\u001b[0;34m\u001b[0m\u001b[0m\n",
      "\u001b[0;31mNameError\u001b[0m: global name 'ps' is not defined"
     ]
    }
   ],
   "source": [
    "print labeled_data[10] \n",
    "train_set[10]"
   ]
  },
  {
   "cell_type": "code",
   "execution_count": 28,
   "metadata": {
    "collapsed": false
   },
   "outputs": [],
   "source": [
    "classifier = nltk.NaiveBayesClassifier.train(train_set)\n",
    "with open('senti_naive_bayes_unigram_model','w') as f:\n",
    "    pickle.dump(classifier,f)"
   ]
  },
  {
   "cell_type": "code",
   "execution_count": 29,
   "metadata": {
    "collapsed": false
   },
   "outputs": [],
   "source": [
    "#with open('naive_bayes_unigram_model') as f:\n",
    "#    classifier=pickle.load(f)\n",
    "accuracy=nltk.classify.accuracy(classifier, test_set)\n",
    "with open('senti_accuracy_unigram_model','w') as f:\n",
    "    json.dump(accuracy,f)"
   ]
  },
  {
   "cell_type": "code",
   "execution_count": 31,
   "metadata": {
    "collapsed": false,
    "scrolled": false
   },
   "outputs": [
    {
     "name": "stdout",
     "output_type": "stream",
     "text": [
      "Most Informative Features\n",
      "       contains(horribl) = True              neg : pos    =   1923.5 : 1.0\n",
      "       contains(terribl) = True              neg : neutra =   1643.1 : 1.0\n",
      "          contains(bore) = True              neg : pos    =   1415.9 : 1.0\n",
      "           contains(bad) = True              neg : pos    =   1253.5 : 1.0\n",
      "      contains(unfortun) = True              neg : pos    =    643.6 : 1.0\n",
      "          contains(hard) = True           sli_ne : pos    =    592.1 : 1.0\n",
      "         contains(great) = True              pos : neg    =    533.6 : 1.0\n",
      "         contains(littl) = True           sli_ne : pos    =    505.3 : 1.0\n",
      "      contains(everyday) = True           sli_ne : pos    =    491.6 : 1.0\n",
      "          contains(sick) = True              neg : pos    =    448.0 : 1.0\n",
      "           contains(due) = True           sli_ne : pos    =    447.6 : 1.0\n",
      "         contains(heavi) = True           sli_ne : pos    =    384.5 : 1.0\n",
      "         contains(angri) = True              neg : sli_po =    369.6 : 1.0\n",
      "         contains(typic) = True           sli_ne : pos    =    361.4 : 1.0\n",
      "        contains(tediou) = True              neg : neutra =    342.5 : 1.0\n",
      "          contains(poor) = True              neg : pos    =    295.4 : 1.0\n",
      "          contains(hate) = True              neg : sli_po =    269.8 : 1.0\n",
      "        contains(unfair) = True              neg : sli_po =    221.1 : 1.0\n",
      "          contains(best) = True              pos : neutra =    219.4 : 1.0\n",
      "          contains(good) = True              pos : neg    =    216.1 : 1.0\n",
      "      contains(scenario) = True           sli_po : pos    =    200.7 : 1.0\n",
      "          contains(lift) = True           sli_ne : pos    =    186.2 : 1.0\n",
      "       contains(destroy) = True           sli_ne : pos    =    184.8 : 1.0\n",
      "        contains(random) = True              neg : pos    =    180.2 : 1.0\n",
      "         contains(crazi) = True              neg : sli_po =    180.1 : 1.0\n",
      "          contains(slow) = True           sli_ne : pos    =    174.7 : 1.0\n",
      "         contains(badli) = True              neg : sli_po =    174.6 : 1.0\n",
      "        contains(imposs) = True              neg : sli_po =    173.4 : 1.0\n",
      "        contains(nearli) = True              neg : pos    =    172.9 : 1.0\n",
      "          contains(less) = True           sli_ne : pos    =    170.1 : 1.0\n",
      "         contains(worst) = True              neg : neutra =    165.3 : 1.0\n",
      "         contains(happi) = True              pos : neutra =    162.1 : 1.0\n",
      "        contains(awesom) = True              pos : neutra =    158.7 : 1.0\n",
      "       contains(tiresom) = True              neg : sli_po =    158.4 : 1.0\n",
      "        contains(decent) = True           sli_po : pos    =    154.1 : 1.0\n",
      "          contains(amaz) = True              pos : neutra =    153.1 : 1.0\n",
      "          contains(fail) = True              neg : sli_po =    151.9 : 1.0\n",
      "         contains(dirti) = True              neg : sli_po =    150.3 : 1.0\n",
      "          contains(acut) = True              pos : sli_po =    146.9 : 1.0\n",
      "        contains(center) = True           sli_ne : pos    =    143.5 : 1.0\n",
      "         contains(faint) = True              neg : pos    =    143.4 : 1.0\n",
      "        contains(afraid) = True              neg : sli_po =    142.2 : 1.0\n",
      "         contains(miser) = True              neg : neutra =    141.8 : 1.0\n",
      "        contains(poorli) = True           sli_ne : sli_po =    141.5 : 1.0\n",
      "          contains(wide) = True           sli_ne : pos    =    140.6 : 1.0\n",
      "          contains(cold) = True              neg : sli_po =    136.7 : 1.0\n",
      "          contains(late) = True           sli_ne : pos    =    134.3 : 1.0\n",
      "       contains(depress) = True              neg : sli_po =    125.9 : 1.0\n",
      "           contains(sad) = True              neg : sli_po =    123.0 : 1.0\n",
      "        contains(danger) = True              neg : sli_po =    117.8 : 1.0\n",
      "       contains(perfect) = True              pos : sli_ne =    115.3 : 1.0\n",
      "        contains(capabl) = True           sli_ne : pos    =    113.1 : 1.0\n",
      "       contains(complic) = True              neg : pos    =    112.5 : 1.0\n",
      "        contains(troubl) = True           sli_ne : pos    =    109.2 : 1.0\n",
      "          contains(fair) = True              pos : neutra =    107.8 : 1.0\n",
      "         contains(annoy) = True              neg : neutra =    107.2 : 1.0\n",
      "        contains(stupid) = True              neg : sli_po =    102.7 : 1.0\n",
      "        contains(wonder) = True              pos : sli_ne =     98.7 : 1.0\n",
      "         contains(wrong) = True              neg : neutra =     97.0 : 1.0\n",
      "        contains(casual) = True              neg : sli_po =     96.4 : 1.0\n",
      "        contains(desper) = True              neg : sli_po =     90.2 : 1.0\n",
      "         contains(spent) = True           sli_ne : pos    =     89.5 : 1.0\n",
      "           contains(neg) = True           sli_ne : pos    =     88.0 : 1.0\n",
      "        contains(higher) = True           sli_po : pos    =     87.3 : 1.0\n",
      "       contains(fantast) = True           sli_po : neutra =     85.7 : 1.0\n",
      "          contains(love) = True              pos : neg    =     83.2 : 1.0\n",
      "       contains(useless) = True              neg : sli_po =     81.8 : 1.0\n",
      "         contains(enjoy) = True           sli_po : neutra =     78.2 : 1.0\n",
      "         contains(weird) = True              neg : sli_po =     77.2 : 1.0\n",
      "        contains(seriou) = True           sli_ne : pos    =     76.9 : 1.0\n",
      "     contains(difficult) = True              neg : sli_po =     75.8 : 1.0\n",
      "       contains(exhaust) = True           sli_ne : sli_po =     73.7 : 1.0\n",
      "        contains(latest) = True           sli_po : sli_ne =     73.2 : 1.0\n",
      "         contains(shoot) = True           sli_ne : pos    =     72.9 : 1.0\n",
      "        contains(invalu) = True           neutra : pos    =     72.9 : 1.0\n",
      "       contains(complex) = True           sli_ne : pos    =     72.0 : 1.0\n",
      "         contains(remot) = True           sli_ne : pos    =     71.7 : 1.0\n",
      "        contains(variou) = True           neutra : pos    =     71.2 : 1.0\n",
      "           contains(cut) = True              neg : pos    =     70.3 : 1.0\n",
      "          contains(nice) = True              pos : neutra =     69.5 : 1.0\n",
      "         contains(excel) = True              pos : neutra =     69.3 : 1.0\n",
      "        contains(outsid) = True           neutra : pos    =     67.8 : 1.0\n",
      "        contains(invent) = True           sli_po : neutra =     66.1 : 1.0\n",
      "      contains(careless) = True              neg : sli_po =     65.8 : 1.0\n",
      "         contains(silli) = True              neg : neutra =     65.7 : 1.0\n",
      "        contains(strong) = True              pos : neutra =     65.1 : 1.0\n",
      "         contains(readi) = True           sli_po : pos    =     63.8 : 1.0\n",
      "          contains(rare) = True           sli_po : pos    =     63.7 : 1.0\n",
      "          contains(okay) = True           sli_po : sli_ne =     61.0 : 1.0\n",
      "    contains(disappoint) = True              neg : sli_po =     60.9 : 1.0\n",
      "           contains(edg) = True              neg : pos    =     58.0 : 1.0\n",
      "         contains(proud) = True              pos : neutra =     57.7 : 1.0\n",
      "       contains(multipl) = True           neutra : pos    =     57.3 : 1.0\n",
      "       contains(traffic) = True              neg : pos    =     55.2 : 1.0\n",
      "           contains(add) = True              neg : pos    =     55.2 : 1.0\n",
      "        contains(enough) = True           sli_po : pos    =     55.1 : 1.0\n",
      "          contains(fast) = True           sli_po : neg    =     54.8 : 1.0\n",
      "         contains(sever) = True           neutra : pos    =     52.8 : 1.0\n",
      "          contains(free) = True           sli_po : neutra =     52.4 : 1.0\n",
      "        contains(mainli) = True           sli_po : pos    =     52.2 : 1.0\n",
      "         contains(blind) = True              neg : neutra =     51.9 : 1.0\n",
      "         contains(fault) = True              neg : neutra =     51.9 : 1.0\n",
      "        contains(winter) = True              neg : neutra =     51.9 : 1.0\n",
      "          contains(mere) = True              neg : sli_po =     50.5 : 1.0\n",
      "        contains(brutal) = True              neg : sli_po =     50.5 : 1.0\n",
      "          contains(fine) = True           sli_po : sli_ne =     49.0 : 1.0\n",
      "          contains(left) = True           sli_ne : pos    =     48.9 : 1.0\n",
      "           contains(ill) = True              neg : sli_po =     48.0 : 1.0\n",
      "         contains(short) = True           neutra : pos    =     47.8 : 1.0\n",
      "      contains(disorgan) = True              neg : pos    =     47.8 : 1.0\n",
      "       contains(societi) = True              neg : pos    =     47.8 : 1.0\n",
      "      contains(independ) = True           sli_po : pos    =     47.4 : 1.0\n",
      "         contains(insan) = True              neg : neutra =     47.3 : 1.0\n",
      "          contains(firm) = True           sli_ne : pos    =     47.1 : 1.0\n",
      "      contains(needless) = True              neg : sli_ne =     46.7 : 1.0\n",
      "       contains(disgust) = True              neg : sli_po =     46.3 : 1.0\n",
      "           contains(ten) = True           sli_ne : pos    =     46.0 : 1.0\n",
      "        contains(second) = True           neutra : pos    =     45.7 : 1.0\n",
      "     contains(uncomfort) = True              neg : neutra =     45.0 : 1.0\n",
      "         contains(uniqu) = True           sli_po : sli_ne =     44.5 : 1.0\n",
      "      contains(honestli) = True              pos : neutra =     43.6 : 1.0\n",
      "        contains(critic) = True           neutra : pos    =     43.2 : 1.0\n",
      "          contains(rude) = True           sli_ne : neutra =     43.1 : 1.0\n",
      "        contains(broken) = True           sli_ne : neutra =     42.8 : 1.0\n",
      "      contains(interest) = True           sli_po : neg    =     42.4 : 1.0\n",
      "        contains(averag) = True           sli_ne : pos    =     42.1 : 1.0\n",
      "         contains(whole) = True           sli_po : pos    =     41.9 : 1.0\n",
      "        contains(behind) = True           sli_ne : sli_po =     41.5 : 1.0\n",
      "       contains(consist) = True           sli_ne : neg    =     40.9 : 1.0\n",
      "          contains(dull) = True           sli_ne : pos    =     40.4 : 1.0\n",
      "         contains(extra) = True           neutra : pos    =     40.2 : 1.0\n",
      "        contains(excess) = True           sli_ne : sli_po =     38.9 : 1.0\n",
      "        contains(differ) = True           neutra : pos    =     38.7 : 1.0\n",
      "         contains(usual) = True           sli_ne : pos    =     38.3 : 1.0\n",
      "         contains(black) = True           sli_ne : neutra =     38.0 : 1.0\n",
      "       contains(tremend) = True           sli_po : pos    =     37.1 : 1.0\n",
      "          contains(past) = True           sli_ne : neg    =     37.0 : 1.0\n",
      "          contains(yeah) = True              neg : sli_po =     36.6 : 1.0\n",
      "        contains(mirror) = True              neg : sli_po =     36.6 : 1.0\n",
      "       contains(someday) = True              neg : sli_po =     36.6 : 1.0\n",
      "      contains(pleasant) = True              pos : neutra =     36.5 : 1.0\n",
      "          contains(sure) = True           sli_po : neg    =     36.5 : 1.0\n",
      "        contains(slowli) = True           sli_ne : sli_po =     36.1 : 1.0\n",
      "        contains(redund) = True           sli_ne : pos    =     36.1 : 1.0\n",
      "         contains(solid) = True           neutra : pos    =     35.8 : 1.0\n",
      "      contains(frustrat) = True              neg : pos    =     34.3 : 1.0\n",
      "          contains(easi) = True           sli_po : neutra =     33.1 : 1.0\n",
      "         contains(illeg) = True              neg : sli_ne =     32.9 : 1.0\n",
      "           contains(top) = True           sli_po : sli_ne =     32.4 : 1.0\n",
      "       contains(current) = True           neutra : pos    =     31.4 : 1.0\n",
      "        contains(easili) = True           sli_po : neutra =     29.2 : 1.0\n",
      "       contains(insecur) = True              neg : sli_po =     28.4 : 1.0\n",
      "           contains(win) = True              pos : neutra =     21.6 : 1.0\n",
      "       contains(corrupt) = True              neg : neutra =     16.3 : 1.0\n",
      "       contains(displac) = True              neg : neutra =     10.4 : 1.0\n",
      "         contains(entir) = True           neutra : neg    =      2.5 : 1.0\n",
      "          contains(good) = False             neg : pos    =      1.5 : 1.0\n",
      "         contains(great) = False             neg : pos    =      1.4 : 1.0\n",
      "          contains(hard) = False             pos : sli_ne =      1.2 : 1.0\n",
      "           contains(bad) = False             pos : neg    =      1.2 : 1.0\n",
      "     contains(difficult) = False             pos : neg    =      1.2 : 1.0\n",
      "         contains(enjoy) = False             neg : sli_po =      1.1 : 1.0\n",
      "         contains(typic) = False             pos : sli_ne =      1.1 : 1.0\n",
      "          contains(best) = False          neutra : pos    =      1.1 : 1.0\n",
      "         contains(worst) = False          sli_po : neg    =      1.1 : 1.0\n",
      "          contains(nice) = False          neutra : pos    =      1.1 : 1.0\n",
      "       contains(horribl) = False             pos : neg    =      1.1 : 1.0\n",
      "       contains(terribl) = False             pos : neg    =      1.1 : 1.0\n",
      "         contains(excel) = False             neg : pos    =      1.0 : 1.0\n",
      "          contains(bore) = False             pos : neg    =      1.0 : 1.0\n",
      "         contains(wrong) = False             pos : neg    =      1.0 : 1.0\n",
      "         contains(littl) = False             pos : sli_ne =      1.0 : 1.0\n",
      "        contains(capabl) = False             neg : sli_ne =      1.0 : 1.0\n",
      "           contains(due) = False             pos : sli_ne =      1.0 : 1.0\n",
      "          contains(fast) = False             neg : sli_po =      1.0 : 1.0\n",
      "          contains(less) = False             pos : sli_ne =      1.0 : 1.0\n",
      "        contains(differ) = False             pos : neutra =      1.0 : 1.0\n",
      "          contains(love) = False             neg : pos    =      1.0 : 1.0\n",
      "          contains(poor) = False             pos : neg    =      1.0 : 1.0\n",
      "      contains(everyday) = False             pos : sli_ne =      1.0 : 1.0\n",
      "          contains(amaz) = False          sli_ne : pos    =      1.0 : 1.0\n",
      "           contains(cut) = False             pos : neg    =      1.0 : 1.0\n",
      "        contains(wonder) = False          sli_ne : pos    =      1.0 : 1.0\n",
      "          contains(slow) = False             pos : sli_ne =      1.0 : 1.0\n",
      "          contains(sick) = False             pos : neg    =      1.0 : 1.0\n",
      "        contains(awesom) = False          sli_ne : pos    =      1.0 : 1.0\n",
      "          contains(fail) = False             pos : neg    =      1.0 : 1.0\n",
      "        contains(imposs) = False             pos : neg    =      1.0 : 1.0\n",
      "      contains(unfortun) = False             pos : neg    =      1.0 : 1.0\n",
      "        contains(strong) = False             neg : pos    =      1.0 : 1.0\n",
      "          contains(acut) = False          neutra : pos    =      1.0 : 1.0\n",
      "          contains(hate) = False             pos : neg    =      1.0 : 1.0\n",
      "         contains(usual) = False             pos : sli_ne =      1.0 : 1.0\n",
      "          contains(easi) = False             neg : sli_po =      1.0 : 1.0\n",
      "        contains(center) = False             pos : sli_ne =      1.0 : 1.0\n",
      "         contains(happi) = False          neutra : pos    =      1.0 : 1.0\n",
      "         contains(crazi) = False             pos : neg    =      1.0 : 1.0\n",
      "        contains(unfair) = False             pos : neg    =      1.0 : 1.0\n",
      "      contains(interest) = False             neg : sli_po =      1.0 : 1.0\n",
      "         contains(miser) = False          sli_po : neg    =      1.0 : 1.0\n",
      "       contains(consist) = False             neg : sli_ne =      1.0 : 1.0\n",
      "           contains(edg) = False             pos : neg    =      1.0 : 1.0\n",
      "          contains(past) = False             pos : sli_ne =      1.0 : 1.0\n",
      "           contains(sad) = False             pos : neg    =      1.0 : 1.0\n",
      "          contains(late) = False             pos : sli_ne =      1.0 : 1.0\n",
      "          contains(sure) = False             neg : sli_po =      1.0 : 1.0\n",
      "          contains(free) = False             neg : sli_po =      1.0 : 1.0\n",
      "         contains(heavi) = False             pos : sli_ne =      1.0 : 1.0\n",
      "          contains(cold) = False             pos : neg    =      1.0 : 1.0\n",
      "        contains(tediou) = False             pos : neg    =      1.0 : 1.0\n",
      "         contains(whole) = False             neg : sli_po =      1.0 : 1.0\n",
      "        contains(averag) = False             pos : sli_ne =      1.0 : 1.0\n",
      "         contains(angri) = False             pos : neg    =      1.0 : 1.0\n",
      "        contains(casual) = False             pos : neg    =      1.0 : 1.0\n",
      "          contains(firm) = False             neg : sli_ne =      1.0 : 1.0\n",
      "           contains(top) = False          sli_ne : sli_po =      1.0 : 1.0\n",
      "         contains(spent) = False             pos : sli_ne =      1.0 : 1.0\n",
      "           contains(neg) = False             pos : sli_ne =      1.0 : 1.0\n",
      "          contains(rude) = False             pos : sli_ne =      1.0 : 1.0\n",
      "         contains(remot) = False             pos : sli_ne =      1.0 : 1.0\n",
      "        contains(variou) = False             pos : neutra =      1.0 : 1.0\n",
      "        contains(decent) = False             pos : sli_po =      1.0 : 1.0\n",
      "           contains(ill) = False             pos : neg    =      1.0 : 1.0\n",
      "       contains(perfect) = False          sli_ne : pos    =      1.0 : 1.0\n",
      "    contains(disappoint) = False             pos : neg    =      1.0 : 1.0\n",
      "          contains(wide) = False             pos : sli_ne =      1.0 : 1.0\n",
      "        contains(stupid) = False             pos : neg    =      1.0 : 1.0\n",
      "       contains(complex) = False             pos : sli_ne =      1.0 : 1.0\n",
      "        contains(behind) = False             pos : sli_ne =      1.0 : 1.0\n",
      "      contains(frustrat) = False             pos : neg    =      1.0 : 1.0\n",
      "       contains(multipl) = False             pos : neutra =      1.0 : 1.0\n",
      "        contains(higher) = False             pos : sli_po =      1.0 : 1.0\n",
      "      contains(scenario) = False             pos : sli_po =      1.0 : 1.0\n",
      "        contains(enough) = False             pos : sli_po =      1.0 : 1.0\n",
      "          contains(fair) = False          neutra : pos    =      1.0 : 1.0\n",
      "       contains(complic) = False             pos : neg    =      1.0 : 1.0\n",
      "          contains(lift) = False             pos : sli_ne =      1.0 : 1.0\n",
      "       contains(destroy) = False             pos : sli_ne =      1.0 : 1.0\n",
      "        contains(troubl) = False             pos : sli_ne =      1.0 : 1.0\n",
      "        contains(random) = False             pos : neg    =      1.0 : 1.0\n",
      "       contains(useless) = False             pos : neg    =      1.0 : 1.0\n",
      "        contains(nearli) = False             pos : neg    =      1.0 : 1.0\n",
      "         contains(short) = False             pos : neutra =      1.0 : 1.0\n",
      "         contains(badli) = False             pos : neg    =      1.0 : 1.0\n",
      "         contains(sever) = False             pos : neutra =      1.0 : 1.0\n",
      "        contains(latest) = False          sli_ne : sli_po =      1.0 : 1.0\n",
      "         contains(insan) = False          sli_po : neg    =      1.0 : 1.0\n",
      "       contains(fantast) = False          neutra : sli_po =      1.0 : 1.0\n",
      "         contains(readi) = False             pos : sli_po =      1.0 : 1.0\n",
      "         contains(faint) = False          sli_po : neg    =      1.0 : 1.0\n",
      "       contains(tiresom) = False             pos : neg    =      1.0 : 1.0\n",
      "     contains(uncomfort) = False             pos : neg    =      1.0 : 1.0\n",
      "        contains(desper) = False             pos : neg    =      1.0 : 1.0\n",
      "         contains(dirti) = False             pos : neg    =      1.0 : 1.0\n",
      "        contains(afraid) = False             pos : neg    =      1.0 : 1.0\n",
      "        contains(poorli) = False             pos : sli_ne =      1.0 : 1.0\n",
      "          contains(okay) = False          sli_ne : sli_po =      1.0 : 1.0\n",
      "        contains(seriou) = False             pos : sli_ne =      1.0 : 1.0\n",
      "        contains(invalu) = False          sli_ne : neutra =      1.0 : 1.0\n",
      "         contains(annoy) = False             pos : neg    =      1.0 : 1.0\n",
      "       contains(depress) = False             pos : neg    =      1.0 : 1.0\n",
      "      contains(pleasant) = False          neutra : pos    =      1.0 : 1.0\n",
      "       contains(current) = False             pos : neutra =      1.0 : 1.0\n",
      "        contains(outsid) = False             pos : neutra =      1.0 : 1.0\n",
      "       contains(exhaust) = False             pos : sli_ne =      1.0 : 1.0\n",
      "        contains(brutal) = False             pos : neg    =      1.0 : 1.0\n",
      "          contains(mere) = False             pos : neg    =      1.0 : 1.0\n",
      "        contains(danger) = False             pos : neg    =      1.0 : 1.0\n",
      "          contains(fine) = False          sli_ne : sli_po =      1.0 : 1.0\n",
      "         contains(proud) = False          neutra : pos    =      1.0 : 1.0\n",
      "         contains(entir) = False             pos : neutra =      1.0 : 1.0\n",
      "      contains(needless) = False          sli_po : neg    =      1.0 : 1.0\n",
      "      contains(careless) = False             pos : neg    =      1.0 : 1.0\n",
      "         contains(uniqu) = False          sli_ne : sli_po =      1.0 : 1.0\n",
      "         contains(extra) = False             pos : neutra =      1.0 : 1.0\n",
      "        contains(easili) = False          neutra : sli_po =      1.0 : 1.0\n",
      "          contains(left) = False             pos : sli_ne =      1.0 : 1.0\n",
      "        contains(broken) = False          sli_po : sli_ne =      1.0 : 1.0\n",
      "         contains(shoot) = False             pos : sli_ne =      1.0 : 1.0\n",
      "        contains(critic) = False             pos : neutra =      1.0 : 1.0\n",
      "         contains(silli) = False          sli_po : neg    =      1.0 : 1.0\n",
      "         contains(illeg) = False          sli_po : neg    =      1.0 : 1.0\n",
      "         contains(weird) = False             pos : neg    =      1.0 : 1.0\n",
      "       contains(disgust) = False             pos : neg    =      1.0 : 1.0\n",
      "        contains(invent) = False          neutra : sli_po =      1.0 : 1.0\n",
      "          contains(rare) = False             pos : sli_po =      1.0 : 1.0\n",
      "       contains(tremend) = False             pos : sli_po =      1.0 : 1.0\n",
      "        contains(excess) = False             pos : sli_ne =      1.0 : 1.0\n",
      "         contains(blind) = False             pos : neg    =      1.0 : 1.0\n",
      "       contains(someday) = False          sli_ne : neg    =      1.0 : 1.0\n",
      "        contains(slowli) = False             pos : sli_ne =      1.0 : 1.0\n",
      "       contains(traffic) = False             pos : neg    =      1.0 : 1.0\n",
      "           contains(add) = False             pos : neg    =      1.0 : 1.0\n",
      "         contains(fault) = False          neutra : neg    =      1.0 : 1.0\n",
      "        contains(winter) = False          neutra : neg    =      1.0 : 1.0\n",
      "        contains(mainli) = False             pos : sli_po =      1.0 : 1.0\n",
      "       contains(societi) = False             pos : neg    =      1.0 : 1.0\n",
      "      contains(disorgan) = False             pos : neg    =      1.0 : 1.0\n",
      "      contains(independ) = False             pos : sli_po =      1.0 : 1.0\n",
      "      contains(honestli) = False          neutra : pos    =      1.0 : 1.0\n",
      "           contains(ten) = False             pos : sli_ne =      1.0 : 1.0\n",
      "        contains(second) = False             pos : neutra =      1.0 : 1.0\n",
      "       contains(corrupt) = False          sli_po : neg    =      1.0 : 1.0\n",
      "         contains(black) = False             pos : sli_ne =      1.0 : 1.0\n",
      "          contains(dull) = False             pos : sli_ne =      1.0 : 1.0\n",
      "           contains(win) = False          neutra : pos    =      1.0 : 1.0\n",
      "        contains(redund) = False             pos : sli_ne =      1.0 : 1.0\n",
      "         contains(solid) = False             pos : neutra =      1.0 : 1.0\n",
      "       contains(displac) = False          sli_po : neg    =      1.0 : 1.0\n",
      "        contains(mirror) = False          sli_ne : neg    =      1.0 : 1.0\n",
      "          contains(yeah) = False          sli_po : neg    =      1.0 : 1.0\n",
      "       contains(insecur) = False          neutra : neg    =      1.0 : 1.0\n"
     ]
    }
   ],
   "source": [
    "x=classifier.show_most_informative_features(500)"
   ]
  },
  {
   "cell_type": "code",
   "execution_count": 25,
   "metadata": {
    "collapsed": false,
    "scrolled": true
   },
   "outputs": [
    {
     "data": {
      "text/plain": [
       "'neg'"
      ]
     },
     "execution_count": 25,
     "metadata": {},
     "output_type": "execute_result"
    }
   ],
   "source": [
    "classifier.classify(test_set[0][0])"
   ]
  },
  {
   "cell_type": "code",
   "execution_count": 22,
   "metadata": {
    "collapsed": false
   },
   "outputs": [
    {
     "name": "stdout",
     "output_type": "stream",
     "text": [
      "neg: 0.585660\n",
      "sli_pos: 0.035267\n",
      "sli_neg: 0.230902\n",
      "neutral: 0.123239\n",
      "pos: 0.024931\n",
      "0.585660041903\n"
     ]
    }
   ],
   "source": [
    "polarity=0\n",
    "for label in dist.samples():\n",
    "    print(\"%s: %f\" % (label, dist.prob(label)))\n",
    "    polarity=max(polarity,dist.prob(label))\n",
    "print polarity"
   ]
  },
  {
   "cell_type": "code",
   "execution_count": null,
   "metadata": {
    "collapsed": true
   },
   "outputs": [],
   "source": []
  },
  {
   "cell_type": "code",
   "execution_count": null,
   "metadata": {
    "collapsed": true
   },
   "outputs": [],
   "source": []
  },
  {
   "cell_type": "code",
   "execution_count": null,
   "metadata": {
    "collapsed": false
   },
   "outputs": [],
   "source": []
  },
  {
   "cell_type": "code",
   "execution_count": null,
   "metadata": {
    "collapsed": false
   },
   "outputs": [],
   "source": []
  },
  {
   "cell_type": "code",
   "execution_count": null,
   "metadata": {
    "collapsed": false
   },
   "outputs": [],
   "source": []
  },
  {
   "cell_type": "code",
   "execution_count": null,
   "metadata": {
    "collapsed": false
   },
   "outputs": [],
   "source": []
  },
  {
   "cell_type": "code",
   "execution_count": null,
   "metadata": {
    "collapsed": true
   },
   "outputs": [],
   "source": []
  }
 ],
 "metadata": {
  "anaconda-cloud": {},
  "kernelspec": {
   "display_name": "Python [default]",
   "language": "python",
   "name": "python2"
  },
  "language_info": {
   "codemirror_mode": {
    "name": "ipython",
    "version": 2
   },
   "file_extension": ".py",
   "mimetype": "text/x-python",
   "name": "python",
   "nbconvert_exporter": "python",
   "pygments_lexer": "ipython2",
   "version": "2.7.12"
  }
 },
 "nbformat": 4,
 "nbformat_minor": 1
}
