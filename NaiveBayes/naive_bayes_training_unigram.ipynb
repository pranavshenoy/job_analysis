{
 "cells": [
  {
   "cell_type": "code",
   "execution_count": 1,
   "metadata": {
    "collapsed": false
   },
   "outputs": [],
   "source": [
    "import nltk\n",
    "import random\n",
    "import os\n",
    "import json\n",
    "from nltk.stem import  PorterStemmer\n",
    "import random\n",
    "import pickle"
   ]
  },
  {
   "cell_type": "code",
   "execution_count": 2,
   "metadata": {
    "collapsed": false
   },
   "outputs": [],
   "source": [
    "def load_dataset():  \n",
    "    dataset=[]\n",
    "    for root, dirs, files in os.walk('../Dataset'):\n",
    "        for directory in dirs:\n",
    "            for root_f, dirs_f, files_f in os.walk(os.path.join(root,directory)):\n",
    "                for each_file in files_f:\n",
    "                    with open(os.path.join(root,directory)+'/'+each_file) as f:\n",
    "                        data_temp=json.load(f)    \n",
    "                    dataset+=[(sentence,each_file) for sentence in data_temp]\n",
    "    return dataset"
   ]
  },
  {
   "cell_type": "code",
   "execution_count": 3,
   "metadata": {
    "collapsed": true
   },
   "outputs": [],
   "source": [
    "#initialising porterstemmer\n",
    "ps=PorterStemmer()"
   ]
  },
  {
   "cell_type": "code",
   "execution_count": 4,
   "metadata": {
    "collapsed": false
   },
   "outputs": [],
   "source": [
    "def to_unigram(data):\n",
    "    dataset=[]\n",
    "    dataset+=[([items for items in sentence.split()],polarity) for sentence,polarity in data]    \n",
    "    return dataset    "
   ]
  },
  {
   "cell_type": "code",
   "execution_count": 5,
   "metadata": {
    "collapsed": false
   },
   "outputs": [],
   "source": [
    "def get_words(x):    #returns all the words in the  data set\n",
    "    vocab = []\n",
    "    for sentence,polarity in x:  \n",
    "        vocab.extend(sentence.split())\n",
    "    return vocab"
   ]
  },
  {
   "cell_type": "code",
   "execution_count": 6,
   "metadata": {
    "collapsed": false
   },
   "outputs": [],
   "source": [
    "#execution\n",
    "labeled_data=load_dataset()    #loading labeled sentences\n",
    "random.shuffle(labeled_data)\n",
    "vocab=set(get_words(labeled_data)) #getting words \n",
    "vocab=set([ps.stem(word) for word in vocab])   #stemming\n",
    "#with open('vocab_unigram','w') as f:\n",
    "#    json.dump(vocab,f)\n",
    "#labeled_data=to_unigram(labeled_data)    #converting to unigram"
   ]
  },
  {
   "cell_type": "code",
   "execution_count": 7,
   "metadata": {
    "collapsed": false
   },
   "outputs": [
    {
     "name": "stdout",
     "output_type": "stream",
     "text": [
      "(u'would work support engin shore cf analysi provid process work live project client', 'sli_pos')\n"
     ]
    }
   ],
   "source": [
    "#bigrams\n",
    "print labeled_data[100]"
   ]
  },
  {
   "cell_type": "code",
   "execution_count": 8,
   "metadata": {
    "collapsed": false
   },
   "outputs": [
    {
     "name": "stdout",
     "output_type": "stream",
     "text": [
      "201378\n"
     ]
    }
   ],
   "source": [
    "print len(labeled_data)"
   ]
  },
  {
   "cell_type": "code",
   "execution_count": 10,
   "metadata": {
    "collapsed": false
   },
   "outputs": [
    {
     "name": "stdout",
     "output_type": "stream",
     "text": [
      "6493\n"
     ]
    }
   ],
   "source": [
    "print len(vocab)"
   ]
  },
  {
   "cell_type": "code",
   "execution_count": 11,
   "metadata": {
    "collapsed": true
   },
   "outputs": [],
   "source": [
    "def extract_features(document):       #features are bag of words. document is a list of words of a sentence \n",
    "    features = {}\n",
    "    for word in vocab:\n",
    "        features['contains(%s)' % word] = (word in document)\n",
    "    return features        "
   ]
  },
  {
   "cell_type": "code",
   "execution_count": 12,
   "metadata": {
    "collapsed": false
   },
   "outputs": [],
   "source": [
    "train_test = nltk.classify.apply_features(extract_features, labeled_data)"
   ]
  },
  {
   "cell_type": "code",
   "execution_count": 20,
   "metadata": {
    "collapsed": false
   },
   "outputs": [],
   "source": [
    "#dividing into training and test data\n",
    "train_set=train_test[:-10000]\n",
    "test_set=train_test[-1000:]"
   ]
  },
  {
   "cell_type": "code",
   "execution_count": null,
   "metadata": {
    "collapsed": false
   },
   "outputs": [],
   "source": []
  },
  {
   "cell_type": "code",
   "execution_count": null,
   "metadata": {
    "collapsed": false
   },
   "outputs": [],
   "source": [
    "classifier = nltk.NaiveBayesClassifier.train(train_set)"
   ]
  },
  {
   "cell_type": "code",
   "execution_count": 16,
   "metadata": {
    "collapsed": false
   },
   "outputs": [
    {
     "data": {
      "text/plain": [
       "0.165"
      ]
     },
     "execution_count": 16,
     "metadata": {},
     "output_type": "execute_result"
    }
   ],
   "source": [
    "with open('naive_bayes_unigram_model') as f:\n",
    "    classifier=pickle.load(f)\n",
    "nltk.classify.accuracy(classifier, test_set)"
   ]
  },
  {
   "cell_type": "code",
   "execution_count": 27,
   "metadata": {
    "collapsed": false
   },
   "outputs": [
    {
     "name": "stdout",
     "output_type": "stream",
     "text": [
      "Most Informative Features\n",
      "       contains(horribl) = True              neg : pos    =   1957.1 : 1.0\n",
      "       contains(terribl) = True              neg : neutra =   1565.5 : 1.0\n",
      "          contains(bore) = True              neg : pos    =   1428.4 : 1.0\n",
      "           contains(bad) = True              neg : pos    =   1254.9 : 1.0\n",
      "      contains(unfortun) = True              neg : pos    =    657.3 : 1.0\n",
      "          contains(hard) = True           sli_ne : pos    =    559.7 : 1.0\n",
      "      contains(everyday) = True           sli_ne : pos    =    519.0 : 1.0\n",
      "          contains(sick) = True              neg : pos    =    460.5 : 1.0\n",
      "           contains(due) = True           sli_ne : pos    =    455.2 : 1.0\n",
      "        contains(tediou) = True              neg : sli_po =    428.6 : 1.0\n",
      "         contains(heavi) = True           sli_ne : pos    =    408.8 : 1.0\n",
      "         contains(littl) = True           sli_ne : pos    =    395.1 : 1.0\n",
      "         contains(great) = True              pos : neg    =    387.4 : 1.0\n",
      "          contains(hate) = True              neg : sli_po =    369.8 : 1.0\n",
      "         contains(typic) = True           sli_ne : pos    =    333.7 : 1.0\n",
      "          contains(slow) = True           sli_ne : pos    =    330.1 : 1.0\n",
      "          contains(poor) = True              neg : pos    =    272.9 : 1.0\n",
      "          contains(good) = True              pos : neg    =    246.8 : 1.0\n",
      "         contains(angri) = True              neg : sli_po =    232.7 : 1.0\n",
      "          contains(best) = True              pos : neutra =    225.3 : 1.0\n",
      "          contains(lift) = True           sli_ne : pos    =    199.1 : 1.0\n",
      "        contains(random) = True              neg : pos    =    194.6 : 1.0\n",
      "       contains(destroy) = True           sli_ne : pos    =    193.4 : 1.0\n",
      "          contains(late) = True           sli_ne : pos    =    182.5 : 1.0\n",
      "         contains(badli) = True              neg : sli_po =    175.5 : 1.0\n",
      "         contains(dirti) = True              neg : sli_po =    175.5 : 1.0\n",
      "         contains(worst) = True              neg : neutra =    174.6 : 1.0\n",
      "          contains(fail) = True              neg : neutra =    174.5 : 1.0\n",
      "         contains(spent) = True           sli_ne : pos    =    171.3 : 1.0\n",
      "       contains(tiresom) = True              neg : sli_po =    167.4 : 1.0\n",
      "        contains(nearli) = True              neg : pos    =    165.2 : 1.0\n",
      "        contains(unfair) = True              neg : sli_po =    164.6 : 1.0\n",
      "         contains(wrong) = True              neg : sli_po =    161.2 : 1.0\n",
      "         contains(faint) = True              neg : pos    =    157.9 : 1.0\n",
      "         contains(happi) = True              pos : neutra =    157.8 : 1.0\n",
      "          contains(acut) = True              pos : sli_po =    156.8 : 1.0\n",
      "          contains(fair) = True              pos : neutra =    156.4 : 1.0\n",
      "          contains(less) = True           sli_ne : pos    =    155.2 : 1.0\n",
      "        contains(afraid) = True              neg : sli_po =    151.0 : 1.0\n",
      "         contains(crazi) = True              neg : sli_po =    150.3 : 1.0\n",
      "          contains(amaz) = True              pos : neutra =    148.8 : 1.0\n",
      "        contains(imposs) = True              neg : sli_po =    147.8 : 1.0\n",
      "          contains(wide) = True           sli_ne : pos    =    146.7 : 1.0\n",
      "          contains(cold) = True              neg : sli_po =    145.6 : 1.0\n",
      "        contains(center) = True           sli_ne : pos    =    126.1 : 1.0\n",
      "           contains(sad) = True              neg : sli_po =    125.8 : 1.0\n",
      "      contains(scenario) = True           sli_po : pos    =    124.7 : 1.0\n",
      "         contains(miser) = True              neg : neutra =    119.0 : 1.0\n",
      "        contains(awesom) = True              pos : neutra =    118.1 : 1.0\n",
      "       contains(perfect) = True              pos : sli_ne =    117.5 : 1.0\n",
      "       contains(complic) = True              neg : pos    =    116.8 : 1.0\n",
      "        contains(outsid) = True           neutra : pos    =    116.0 : 1.0\n",
      "        contains(troubl) = True           sli_ne : pos    =    111.8 : 1.0\n",
      "       contains(depress) = True              neg : sli_po =    110.2 : 1.0\n",
      "         contains(annoy) = True              neg : neutra =    108.3 : 1.0\n",
      "        contains(stupid) = True              neg : sli_po =    106.7 : 1.0\n",
      "        contains(capabl) = True           sli_ne : pos    =    106.0 : 1.0\n",
      "        contains(wonder) = True              pos : sli_ne =    103.0 : 1.0\n",
      "        contains(danger) = True              neg : sli_po =    102.1 : 1.0\n",
      "        contains(casual) = True              neg : sli_po =    101.3 : 1.0\n",
      "         contains(entir) = True           neutra : pos    =    101.1 : 1.0\n",
      "        contains(desper) = True              neg : sli_po =     95.5 : 1.0\n",
      "         contains(insan) = True              neg : neutra =     88.6 : 1.0\n",
      "           contains(cut) = True              neg : pos    =     87.7 : 1.0\n",
      "       contains(useless) = True              neg : sli_po =     85.7 : 1.0\n",
      "          contains(love) = True              pos : neg    =     85.5 : 1.0\n",
      "       contains(fantast) = True           sli_po : neutra =     84.7 : 1.0\n",
      "        contains(strong) = True              pos : neutra =     84.1 : 1.0\n",
      "         contains(enjoy) = True           sli_po : neutra =     83.2 : 1.0\n",
      "        contains(poorli) = True           sli_ne : sli_po =     82.7 : 1.0\n",
      "       contains(exhaust) = True           sli_ne : sli_po =     82.7 : 1.0\n",
      "        contains(invalu) = True           neutra : pos    =     80.3 : 1.0\n",
      "        contains(higher) = True           sli_po : pos    =     80.3 : 1.0\n",
      "         contains(excel) = True              pos : neutra =     79.1 : 1.0\n",
      "    contains(disappoint) = True              neg : sli_po =     79.0 : 1.0\n",
      "     contains(difficult) = True              neg : sli_po =     77.8 : 1.0\n",
      "        contains(seriou) = True           sli_ne : pos    =     77.8 : 1.0\n",
      "         contains(weird) = True              neg : sli_po =     77.6 : 1.0\n",
      "         contains(shoot) = True           sli_ne : pos    =     77.2 : 1.0\n",
      "        contains(latest) = True           sli_po : sli_ne =     77.2 : 1.0\n",
      "        contains(variou) = True           neutra : pos    =     77.0 : 1.0\n",
      "       contains(complex) = True           sli_ne : pos    =     75.8 : 1.0\n",
      "       contains(multipl) = True           neutra : pos    =     74.0 : 1.0\n",
      "        contains(decent) = True           sli_po : pos    =     73.1 : 1.0\n",
      "          contains(nice) = True              pos : neutra =     70.5 : 1.0\n",
      "      contains(careless) = True              neg : sli_po =     66.1 : 1.0\n",
      "         contains(readi) = True           sli_po : pos    =     65.9 : 1.0\n",
      "         contains(remot) = True           sli_ne : pos    =     64.9 : 1.0\n",
      "          contains(rare) = True           sli_po : pos    =     63.9 : 1.0\n",
      "           contains(add) = True              neg : pos    =     62.4 : 1.0\n",
      "           contains(neg) = True           sli_ne : pos    =     61.0 : 1.0\n",
      "         contains(proud) = True              pos : neutra =     58.8 : 1.0\n",
      "        contains(brutal) = True              neg : sli_po =     57.7 : 1.0\n",
      "           contains(edg) = True              neg : pos    =     57.7 : 1.0\n",
      "          contains(okay) = True           sli_po : sli_ne =     57.4 : 1.0\n",
      "         contains(silli) = True              neg : neutra =     55.8 : 1.0\n",
      "          contains(fast) = True           sli_po : neg    =     55.7 : 1.0\n",
      "          contains(fine) = True           sli_po : neutra =     55.5 : 1.0\n",
      "       contains(societi) = True              neg : pos    =     55.1 : 1.0\n",
      "       contains(traffic) = True              neg : pos    =     55.1 : 1.0\n",
      "None\n"
     ]
    }
   ],
   "source": [
    "print classifier.show_most_informative_features(100)"
   ]
  },
  {
   "cell_type": "code",
   "execution_count": 4,
   "metadata": {
    "collapsed": false
   },
   "outputs": [],
   "source": [
    "#save  the model\n",
    "#with open('naive_bayes_unigram_model','w') as f:\n",
    "#    pickle.dump(classifier,f)"
   ]
  },
  {
   "cell_type": "code",
   "execution_count": 2,
   "metadata": {
    "collapsed": false
   },
   "outputs": [],
   "source": [
    "#load the model\n",
    "with open('naive_bayes_unigram_model') as f:\n",
    "    classifier=pickle.load(f)"
   ]
  },
  {
   "cell_type": "code",
   "execution_count": 25,
   "metadata": {
    "collapsed": false
   },
   "outputs": [
    {
     "data": {
      "text/plain": [
       "'neg'"
      ]
     },
     "execution_count": 25,
     "metadata": {},
     "output_type": "execute_result"
    }
   ],
   "source": [
    "classifier.classify(test_set[0][0])"
   ]
  },
  {
   "cell_type": "code",
   "execution_count": 21,
   "metadata": {
    "collapsed": false
   },
   "outputs": [
    {
     "name": "stdout",
     "output_type": "stream",
     "text": [
      "neg: 0.585660\n",
      "sli_pos: 0.035267\n",
      "sli_neg: 0.230902\n",
      "neutral: 0.123239\n",
      "pos: 0.024931\n"
     ]
    }
   ],
   "source": [
    "dist = classifier.prob_classify(extract_features(sen.split()))\n",
    "for label in dist.samples():\n",
    "    print(\"%s: %f\" % (label, dist.prob(label)))"
   ]
  },
  {
   "cell_type": "code",
   "execution_count": 18,
   "metadata": {
    "collapsed": false
   },
   "outputs": [
    {
     "data": {
      "text/plain": [
       "2"
      ]
     },
     "execution_count": 18,
     "metadata": {},
     "output_type": "execute_result"
    }
   ],
   "source": [
    "max(1,2)"
   ]
  },
  {
   "cell_type": "code",
   "execution_count": 22,
   "metadata": {
    "collapsed": false
   },
   "outputs": [
    {
     "name": "stdout",
     "output_type": "stream",
     "text": [
      "neg: 0.585660\n",
      "sli_pos: 0.035267\n",
      "sli_neg: 0.230902\n",
      "neutral: 0.123239\n",
      "pos: 0.024931\n",
      "0.585660041903\n"
     ]
    }
   ],
   "source": [
    "polarity=0\n",
    "for label in dist.samples():\n",
    "    print(\"%s: %f\" % (label, dist.prob(label)))\n",
    "    polarity=max(polarity,dist.prob(label))\n",
    "print polarity"
   ]
  },
  {
   "cell_type": "code",
   "execution_count": 14,
   "metadata": {
    "collapsed": false
   },
   "outputs": [
    {
     "data": {
      "text/plain": [
       "(u'fix time leav', 'neutral')"
      ]
     },
     "execution_count": 14,
     "metadata": {},
     "output_type": "execute_result"
    }
   ],
   "source": [
    "labeled_data[0]"
   ]
  },
  {
   "cell_type": "code",
   "execution_count": 64,
   "metadata": {
    "collapsed": true
   },
   "outputs": [],
   "source": []
  },
  {
   "cell_type": "code",
   "execution_count": 65,
   "metadata": {
    "collapsed": true
   },
   "outputs": [],
   "source": []
  },
  {
   "cell_type": "code",
   "execution_count": null,
   "metadata": {
    "collapsed": false
   },
   "outputs": [],
   "source": []
  },
  {
   "cell_type": "code",
   "execution_count": 70,
   "metadata": {
    "collapsed": false
   },
   "outputs": [],
   "source": []
  },
  {
   "cell_type": "code",
   "execution_count": null,
   "metadata": {
    "collapsed": false
   },
   "outputs": [],
   "source": []
  },
  {
   "cell_type": "code",
   "execution_count": null,
   "metadata": {
    "collapsed": false
   },
   "outputs": [],
   "source": []
  },
  {
   "cell_type": "code",
   "execution_count": null,
   "metadata": {
    "collapsed": true
   },
   "outputs": [],
   "source": []
  }
 ],
 "metadata": {
  "anaconda-cloud": {},
  "kernelspec": {
   "display_name": "Python [default]",
   "language": "python",
   "name": "python2"
  },
  "language_info": {
   "codemirror_mode": {
    "name": "ipython",
    "version": 2
   },
   "file_extension": ".py",
   "mimetype": "text/x-python",
   "name": "python",
   "nbconvert_exporter": "python",
   "pygments_lexer": "ipython2",
   "version": "2.7.12"
  }
 },
 "nbformat": 4,
 "nbformat_minor": 1
}
