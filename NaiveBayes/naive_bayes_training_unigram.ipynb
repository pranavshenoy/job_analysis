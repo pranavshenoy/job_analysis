{
 "cells": [
  {
   "cell_type": "code",
   "execution_count": 1,
   "metadata": {
    "collapsed": false
   },
   "outputs": [],
   "source": [
    "import nltk\n",
    "import random\n",
    "import os\n",
    "import json\n",
    "from nltk.stem import  PorterStemmer\n",
    "import random\n",
    "import pickle"
   ]
  },
  {
   "cell_type": "code",
   "execution_count": 2,
   "metadata": {
    "collapsed": true
   },
   "outputs": [],
   "source": [
    "ps=PorterStemmer()"
   ]
  },
  {
   "cell_type": "code",
   "execution_count": 3,
   "metadata": {
    "collapsed": false
   },
   "outputs": [],
   "source": [
    "def load_dataset():  \n",
    "    dataset=[]\n",
    "    for root, dirs, files in os.walk('../Dataset'):\n",
    "        for directory in dirs:\n",
    "            for root_f, dirs_f, files_f in os.walk(os.path.join(root,directory)):\n",
    "                for each_file in files_f:\n",
    "                    with open(os.path.join(root,directory)+'/'+each_file) as f:\n",
    "                        data_temp=json.load(f)    \n",
    "                    if(each_file == 'pos' or each_file == 'sli_pos'):\n",
    "                        dataset+=[(sentence,'pos') for sentence in data_temp]\n",
    "                    elif(each_file == 'neg' or each_file == 'sli_neg'):\n",
    "                        dataset+=[(sentence,'neg') for sentence in data_temp]\n",
    "                    elif(each_file == 'neutral'):\n",
    "                        dataset+=[(sentence,'neutral') for sentence in data_temp]\n",
    "    return dataset"
   ]
  },
  {
   "cell_type": "code",
   "execution_count": 4,
   "metadata": {
    "collapsed": false
   },
   "outputs": [],
   "source": [
    "def to_unigram(data):\n",
    "    dataset=[]\n",
    "    dataset+=[([items for items in sentence.split()],polarity) for sentence,polarity in data]    \n",
    "    return dataset    "
   ]
  },
  {
   "cell_type": "code",
   "execution_count": 5,
   "metadata": {
    "collapsed": false
   },
   "outputs": [],
   "source": [
    "#execution\n",
    "labeled_data=load_dataset()    #loading labeled sentences\n",
    "random.shuffle(labeled_data)\n",
    "labeled_data=to_unigram(labeled_data)    #converting to unigram"
   ]
  },
  {
   "cell_type": "code",
   "execution_count": 6,
   "metadata": {
    "collapsed": true
   },
   "outputs": [],
   "source": [
    "#loading vocab\n",
    "with open('vocab') as f:\n",
    "    vocab=json.load(f)"
   ]
  },
  {
   "cell_type": "code",
   "execution_count": 7,
   "metadata": {
    "collapsed": false
   },
   "outputs": [
    {
     "name": "stdout",
     "output_type": "stream",
     "text": [
      "([u'never', u'gave', u'chance', u'superiors', u'question', u'work'], 'neutral')\n"
     ]
    }
   ],
   "source": [
    "print labeled_data[1744]"
   ]
  },
  {
   "cell_type": "code",
   "execution_count": 8,
   "metadata": {
    "collapsed": false
   },
   "outputs": [
    {
     "name": "stdout",
     "output_type": "stream",
     "text": [
      "179644\n"
     ]
    }
   ],
   "source": [
    "print len(labeled_data)"
   ]
  },
  {
   "cell_type": "code",
   "execution_count": 9,
   "metadata": {
    "collapsed": false
   },
   "outputs": [
    {
     "name": "stdout",
     "output_type": "stream",
     "text": [
      "Length Of Vocab : 307\n"
     ]
    }
   ],
   "source": [
    "print 'Length Of Vocab : ' + str(len(vocab))"
   ]
  },
  {
   "cell_type": "code",
   "execution_count": 10,
   "metadata": {
    "collapsed": false
   },
   "outputs": [
    {
     "data": {
      "text/plain": [
       "[u'ridicul',\n",
       " u'lack',\n",
       " u'poorli',\n",
       " u'bright',\n",
       " u'unorgan',\n",
       " u'abil',\n",
       " u'rough',\n",
       " u'hate',\n",
       " u'enthusiast',\n",
       " u'slow']"
      ]
     },
     "execution_count": 10,
     "metadata": {},
     "output_type": "execute_result"
    }
   ],
   "source": [
    "vocab[:10]"
   ]
  },
  {
   "cell_type": "code",
   "execution_count": 11,
   "metadata": {
    "collapsed": true
   },
   "outputs": [],
   "source": [
    "def extract_features(document):       #features are bag of words. document is a list of words of a sentence \n",
    "    features = {}\n",
    "    document= [ps.stem(word) for word in document]\n",
    "    for word in vocab:\n",
    "        features['contains(%s)' % word] = (word in document)\n",
    "    return features        "
   ]
  },
  {
   "cell_type": "code",
   "execution_count": 12,
   "metadata": {
    "collapsed": false
   },
   "outputs": [],
   "source": [
    "train_test = nltk.classify.apply_features(extract_features, labeled_data)"
   ]
  },
  {
   "cell_type": "code",
   "execution_count": 13,
   "metadata": {
    "collapsed": false
   },
   "outputs": [],
   "source": [
    "#dividing into training and test data\n",
    "train_set=train_test[:-10000]\n",
    "test_set=train_test[-10000:]"
   ]
  },
  {
   "cell_type": "code",
   "execution_count": 14,
   "metadata": {
    "collapsed": false
   },
   "outputs": [
    {
     "name": "stdout",
     "output_type": "stream",
     "text": [
      "([u'mind', u'teaching', u'anything', u'want', u'learn', u'fields', u'offer'], 'neutral')\n"
     ]
    },
    {
     "data": {
      "text/plain": [
       "({u'contains(abil)': False,\n",
       "  u'contains(abl)': False,\n",
       "  u'contains(activ)': False,\n",
       "  u'contains(affect)': False,\n",
       "  u'contains(afraid)': False,\n",
       "  u'contains(allow)': False,\n",
       "  u'contains(amaz)': False,\n",
       "  u'contains(ambiti)': False,\n",
       "  u'contains(angri)': False,\n",
       "  u'contains(angrili)': False,\n",
       "  u'contains(apprais)': False,\n",
       "  u'contains(appreci)': False,\n",
       "  u'contains(attract)': False,\n",
       "  u'contains(avail)': False,\n",
       "  u'contains(award)': False,\n",
       "  u'contains(awesom)': False,\n",
       "  u'contains(bad)': False,\n",
       "  u'contains(badli)': False,\n",
       "  u'contains(balanc)': False,\n",
       "  u'contains(benefit)': False,\n",
       "  u'contains(best)': False,\n",
       "  u'contains(better)': False,\n",
       "  u'contains(bore)': False,\n",
       "  u'contains(break)': False,\n",
       "  u'contains(bright)': False,\n",
       "  u'contains(brilliant)': False,\n",
       "  u'contains(broken)': False,\n",
       "  u'contains(brutal)': False,\n",
       "  u'contains(bunch)': False,\n",
       "  u'contains(busi)': False,\n",
       "  u'contains(cannot)': False,\n",
       "  u'contains(cant)': False,\n",
       "  u'contains(challeng)': False,\n",
       "  u'contains(comfort)': False,\n",
       "  u'contains(commun)': False,\n",
       "  u'contains(compens)': False,\n",
       "  u'contains(competit)': False,\n",
       "  u'contains(complaint)': False,\n",
       "  u'contains(complic)': False,\n",
       "  u'contains(con)': False,\n",
       "  u'contains(confus)': False,\n",
       "  u'contains(consist)': False,\n",
       "  u'contains(cool)': False,\n",
       "  u'contains(corpor)': False,\n",
       "  u'contains(crazi)': False,\n",
       "  u'contains(crisi)': False,\n",
       "  u'contains(critic)': False,\n",
       "  u'contains(danger)': False,\n",
       "  u'contains(dead)': False,\n",
       "  u'contains(decreas)': False,\n",
       "  u'contains(depend)': False,\n",
       "  u'contains(depress)': False,\n",
       "  u'contains(desper)': False,\n",
       "  u'contains(develop)': False,\n",
       "  u'contains(difficult)': False,\n",
       "  u'contains(dirti)': False,\n",
       "  u'contains(disadvantag)': False,\n",
       "  u'contains(disappoint)': False,\n",
       "  u'contains(disast)': False,\n",
       "  u'contains(discount)': False,\n",
       "  u'contains(disgust)': False,\n",
       "  u'contains(disturb)': False,\n",
       "  u'contains(easi)': False,\n",
       "  u'contains(effect)': False,\n",
       "  u'contains(empti)': False,\n",
       "  u'contains(encourag)': False,\n",
       "  u'contains(end)': False,\n",
       "  u'contains(enhanc)': False,\n",
       "  u'contains(enjoy)': False,\n",
       "  u'contains(enthusiast)': False,\n",
       "  u'contains(environ)': False,\n",
       "  u'contains(ethic)': False,\n",
       "  u'contains(excel)': False,\n",
       "  u'contains(excess)': False,\n",
       "  u'contains(execut)': False,\n",
       "  u'contains(exhaust)': False,\n",
       "  u'contains(expens)': False,\n",
       "  u'contains(experienc)': False,\n",
       "  u'contains(extrem)': False,\n",
       "  u'contains(fail)': False,\n",
       "  u'contains(failur)': False,\n",
       "  u'contains(fair)': False,\n",
       "  u'contains(fairli)': False,\n",
       "  u'contains(fake)': False,\n",
       "  u'contains(fall)': False,\n",
       "  u'contains(fals)': False,\n",
       "  u'contains(fantast)': False,\n",
       "  u'contains(fast)': False,\n",
       "  u'contains(fault)': False,\n",
       "  u'contains(fire)': False,\n",
       "  u'contains(flexibl)': False,\n",
       "  u'contains(focu)': False,\n",
       "  u'contains(forc)': False,\n",
       "  u'contains(free)': False,\n",
       "  u'contains(freedom)': False,\n",
       "  u'contains(fresh)': False,\n",
       "  u'contains(friend)': False,\n",
       "  u'contains(friendli)': False,\n",
       "  u'contains(frustrat)': False,\n",
       "  u'contains(fun)': False,\n",
       "  u'contains(gain)': False,\n",
       "  u'contains(gave)': False,\n",
       "  u'contains(get)': False,\n",
       "  u'contains(good)': False,\n",
       "  u'contains(great)': False,\n",
       "  u'contains(greatest)': False,\n",
       "  u'contains(greatli)': False,\n",
       "  u'contains(grow)': False,\n",
       "  u'contains(happi)': False,\n",
       "  u'contains(harass)': False,\n",
       "  u'contains(hard)': False,\n",
       "  u'contains(harder)': False,\n",
       "  u'contains(hardest)': False,\n",
       "  u'contains(hardli)': False,\n",
       "  u'contains(harsh)': False,\n",
       "  u'contains(hate)': False,\n",
       "  u'contains(healthi)': False,\n",
       "  u'contains(heartless)': False,\n",
       "  u'contains(heavili)': False,\n",
       "  u'contains(help)': False,\n",
       "  u'contains(highli)': False,\n",
       "  u'contains(hike)': False,\n",
       "  u'contains(hire)': False,\n",
       "  u'contains(honest)': False,\n",
       "  u'contains(honestli)': False,\n",
       "  u'contains(horribl)': False,\n",
       "  u'contains(huge)': False,\n",
       "  u'contains(idea)': False,\n",
       "  u'contains(ignor)': False,\n",
       "  u'contains(ill)': False,\n",
       "  u'contains(illeg)': False,\n",
       "  u'contains(impati)': False,\n",
       "  u'contains(import)': False,\n",
       "  u'contains(imposs)': False,\n",
       "  u'contains(impress)': False,\n",
       "  u'contains(improv)': False,\n",
       "  u'contains(incent)': False,\n",
       "  u'contains(includ)': False,\n",
       "  u'contains(incompet)': False,\n",
       "  u'contains(inconsist)': False,\n",
       "  u'contains(incred)': False,\n",
       "  u'contains(inexperienc)': False,\n",
       "  u'contains(initi)': False,\n",
       "  u'contains(innov)': False,\n",
       "  u'contains(insult)': False,\n",
       "  u'contains(insur)': False,\n",
       "  u'contains(interest)': False,\n",
       "  u'contains(irrat)': False,\n",
       "  u'contains(irrelev)': False,\n",
       "  u'contains(joy)': False,\n",
       "  u'contains(kind)': False,\n",
       "  u'contains(knowledg)': False,\n",
       "  u'contains(lack)': False,\n",
       "  u'contains(last)': False,\n",
       "  u'contains(late)': False,\n",
       "  u'contains(lazi)': False,\n",
       "  u'contains(least)': False,\n",
       "  u'contains(leav)': False,\n",
       "  u'contains(less)': False,\n",
       "  u'contains(like)': False,\n",
       "  u'contains(limit)': False,\n",
       "  u'contains(littl)': False,\n",
       "  u'contains(longer)': False,\n",
       "  u'contains(lose)': False,\n",
       "  u'contains(lot)': False,\n",
       "  u'contains(love)': False,\n",
       "  u'contains(low)': False,\n",
       "  u'contains(luck)': False,\n",
       "  u'contains(lucki)': False,\n",
       "  u'contains(mad)': False,\n",
       "  u'contains(maintain)': False,\n",
       "  u'contains(mani)': False,\n",
       "  u'contains(mental)': False,\n",
       "  u'contains(mentor)': False,\n",
       "  u'contains(mind)': True,\n",
       "  u'contains(minim)': False,\n",
       "  u'contains(minimum)': False,\n",
       "  u'contains(miser)': False,\n",
       "  u'contains(miss)': False,\n",
       "  u'contains(motiv)': False,\n",
       "  u'contains(mundan)': False,\n",
       "  u'contains(neg)': False,\n",
       "  u'contains(never)': False,\n",
       "  u'contains(nice)': False,\n",
       "  u'contains(non)': False,\n",
       "  u'contains(noth)': False,\n",
       "  u'contains(offer)': True,\n",
       "  u'contains(okay)': False,\n",
       "  u'contains(oper)': False,\n",
       "  u'contains(opportun)': False,\n",
       "  u'contains(overtim)': False,\n",
       "  u'contains(past)': False,\n",
       "  u'contains(patienc)': False,\n",
       "  u'contains(peac)': False,\n",
       "  u'contains(perfect)': False,\n",
       "  u'contains(perform)': False,\n",
       "  u'contains(perk)': False,\n",
       "  u'contains(pleasant)': False,\n",
       "  u'contains(pleasur)': False,\n",
       "  u'contains(poor)': False,\n",
       "  u'contains(poorli)': False,\n",
       "  u'contains(posit)': False,\n",
       "  u'contains(pressur)': False,\n",
       "  u'contains(pro)': False,\n",
       "  u'contains(problem)': False,\n",
       "  u'contains(product)': False,\n",
       "  u'contains(profession)': False,\n",
       "  u'contains(promot)': False,\n",
       "  u'contains(proud)': False,\n",
       "  u'contains(provid)': False,\n",
       "  u'contains(quit)': False,\n",
       "  u'contains(realli)': False,\n",
       "  u'contains(recommend)': False,\n",
       "  u'contains(redund)': False,\n",
       "  u'contains(relax)': False,\n",
       "  u'contains(repetit)': False,\n",
       "  u'contains(requir)': False,\n",
       "  u'contains(respect)': False,\n",
       "  u'contains(reward)': False,\n",
       "  u'contains(ridicul)': False,\n",
       "  u'contains(right)': False,\n",
       "  u'contains(rough)': False,\n",
       "  u'contains(rude)': False,\n",
       "  u'contains(sad)': False,\n",
       "  u'contains(sadli)': False,\n",
       "  u'contains(safeti)': False,\n",
       "  u'contains(satisfact)': False,\n",
       "  u'contains(satisfactori)': False,\n",
       "  u'contains(satisfi)': False,\n",
       "  u'contains(scari)': False,\n",
       "  u'contains(scope)': False,\n",
       "  u'contains(seriou)': False,\n",
       "  u'contains(serious)': False,\n",
       "  u'contains(shi)': False,\n",
       "  u'contains(shift)': False,\n",
       "  u'contains(short)': False,\n",
       "  u'contains(sick)': False,\n",
       "  u'contains(simpl)': False,\n",
       "  u'contains(sincer)': False,\n",
       "  u'contains(skill)': False,\n",
       "  u'contains(slave)': False,\n",
       "  u'contains(slow)': False,\n",
       "  u'contains(slowli)': False,\n",
       "  u'contains(small)': False,\n",
       "  u'contains(smart)': False,\n",
       "  u'contains(smile)': False,\n",
       "  u'contains(solv)': False,\n",
       "  u'contains(sorri)': False,\n",
       "  u'contains(spirit)': False,\n",
       "  u'contains(stabl)': False,\n",
       "  u'contains(start)': False,\n",
       "  u'contains(stress)': False,\n",
       "  u'contains(strong)': False,\n",
       "  u'contains(struggl)': False,\n",
       "  u'contains(stupid)': False,\n",
       "  u'contains(succeed)': False,\n",
       "  u'contains(success)': False,\n",
       "  u'contains(suck)': False,\n",
       "  u'contains(suitabl)': False,\n",
       "  u'contains(support)': False,\n",
       "  u'contains(sure)': False,\n",
       "  u'contains(surviv)': False,\n",
       "  u'contains(take)': False,\n",
       "  u'contains(talent)': False,\n",
       "  u'contains(teamwork)': False,\n",
       "  u'contains(tediou)': False,\n",
       "  u'contains(terribl)': False,\n",
       "  u'contains(tight)': False,\n",
       "  u'contains(tire)': False,\n",
       "  u'contains(told)': False,\n",
       "  u'contains(top)': False,\n",
       "  u'contains(tough)': False,\n",
       "  u'contains(toughest)': False,\n",
       "  u'contains(transpar)': False,\n",
       "  u'contains(tri)': False,\n",
       "  u'contains(troubl)': False,\n",
       "  u'contains(truli)': False,\n",
       "  u'contains(unabl)': False,\n",
       "  u'contains(unbeliev)': False,\n",
       "  u'contains(uncomfort)': False,\n",
       "  u'contains(understand)': False,\n",
       "  u'contains(unfair)': False,\n",
       "  u'contains(unfairli)': False,\n",
       "  u'contains(unfortun)': False,\n",
       "  u'contains(unfriendli)': False,\n",
       "  u'contains(unhappi)': False,\n",
       "  u'contains(unless)': False,\n",
       "  u'contains(unnecessari)': False,\n",
       "  u'contains(unnecessarili)': False,\n",
       "  u'contains(unorgan)': False,\n",
       "  u'contains(unpleas)': False,\n",
       "  u'contains(unpredict)': False,\n",
       "  u'contains(unrealist)': False,\n",
       "  u'contains(useless)': False,\n",
       "  u'contains(warn)': False,\n",
       "  u'contains(wast)': False,\n",
       "  u'contains(weak)': False,\n",
       "  u'contains(weird)': False,\n",
       "  u'contains(welcom)': False,\n",
       "  u'contains(well)': False,\n",
       "  u'contains(will)': False,\n",
       "  u'contains(wise)': False,\n",
       "  u'contains(wish)': False,\n",
       "  u'contains(wonder)': False,\n",
       "  u'contains(workload)': False,\n",
       "  u'contains(worst)': False,\n",
       "  u'contains(wrong)': False},\n",
       " 'neutral')"
      ]
     },
     "execution_count": 14,
     "metadata": {},
     "output_type": "execute_result"
    }
   ],
   "source": [
    "print labeled_data[10] \n",
    "train_set[10]"
   ]
  },
  {
   "cell_type": "code",
   "execution_count": null,
   "metadata": {
    "collapsed": false
   },
   "outputs": [],
   "source": [
    "classifier = nltk.NaiveBayesClassifier.train(train_set)\n",
    "with open('senti_naive_bayes_unigram_model','w') as f:\n",
    "    pickle.dump(classifier,f)"
   ]
  },
  {
   "cell_type": "code",
   "execution_count": null,
   "metadata": {
    "collapsed": false
   },
   "outputs": [],
   "source": [
    "#with open('naive_bayes_unigram_model') as f:\n",
    "#    classifier=pickle.load(f)\n",
    "accuracy=nltk.classify.accuracy(classifier, test_set)\n",
    "with open('senti_accuracy_unigram_model','w') as f:\n",
    "    json.dump(accuracy,f)"
   ]
  },
  {
   "cell_type": "code",
   "execution_count": 38,
   "metadata": {
    "collapsed": false
   },
   "outputs": [
    {
     "name": "stdout",
     "output_type": "stream",
     "text": [
      "Accuracy : 0.8336\n"
     ]
    }
   ],
   "source": [
    "print 'Accuracy : '+ str(accuracy)"
   ]
  },
  {
   "cell_type": "code",
   "execution_count": 39,
   "metadata": {
    "collapsed": false,
    "scrolled": false
   },
   "outputs": [
    {
     "name": "stdout",
     "output_type": "stream",
     "text": [
      "Most Informative Features\n",
      "         contains(great) = True              pos : neg    =   1634.1 : 1.0\n",
      "       contains(terribl) = True              neg : pos    =    432.6 : 1.0\n",
      "       contains(horribl) = True              neg : pos    =    279.7 : 1.0\n",
      "         contains(worst) = True              neg : pos    =    278.1 : 1.0\n",
      "        contains(unfair) = True              neg : pos    =    223.1 : 1.0\n",
      "       contains(exhaust) = True              neg : pos    =    164.1 : 1.0\n",
      "          contains(best) = True              pos : neutra =    159.2 : 1.0\n",
      "          contains(fail) = True              neg : pos    =    158.2 : 1.0\n",
      "     contains(unrealist) = True              neg : pos    =    149.4 : 1.0\n",
      "          contains(amaz) = True              pos : neutra =    145.4 : 1.0\n",
      "          contains(good) = True              pos : neg    =    145.3 : 1.0\n",
      "         contains(miser) = True              neg : pos    =    134.6 : 1.0\n",
      "        contains(imposs) = True              neg : pos    =    125.5 : 1.0\n",
      "        contains(ambiti) = True              pos : neutra =    122.3 : 1.0\n",
      "          contains(nice) = True              pos : neutra =    107.8 : 1.0\n",
      "         contains(crazi) = True              neg : pos    =    102.6 : 1.0\n",
      "          contains(bore) = True              neg : neutra =    102.1 : 1.0\n",
      "          contains(love) = True              pos : neutra =    101.9 : 1.0\n",
      "        contains(slowli) = True              neg : pos    =     97.7 : 1.0\n",
      "          contains(hate) = True              neg : pos    =     97.1 : 1.0\n",
      "        contains(strong) = True              pos : neg    =     92.7 : 1.0\n",
      "           contains(ill) = True              neg : pos    =     90.4 : 1.0\n",
      "     contains(uncomfort) = True              neg : pos    =     90.4 : 1.0\n",
      "         contains(harsh) = True              neg : pos    =     90.4 : 1.0\n",
      "          contains(rude) = True              neg : neutra =     87.2 : 1.0\n"
     ]
    }
   ],
   "source": [
    "classifier.show_most_informative_features(25)"
   ]
  },
  {
   "cell_type": "code",
   "execution_count": 41,
   "metadata": {
    "collapsed": false,
    "scrolled": true
   },
   "outputs": [
    {
     "data": {
      "text/plain": [
       "'neg'"
      ]
     },
     "execution_count": 41,
     "metadata": {},
     "output_type": "execute_result"
    }
   ],
   "source": [
    "classifier.classify(extract_features('very uncomfortable in working'.split()))"
   ]
  },
  {
   "cell_type": "code",
   "execution_count": null,
   "metadata": {
    "collapsed": false
   },
   "outputs": [],
   "source": []
  },
  {
   "cell_type": "code",
   "execution_count": null,
   "metadata": {
    "collapsed": true
   },
   "outputs": [],
   "source": []
  },
  {
   "cell_type": "code",
   "execution_count": null,
   "metadata": {
    "collapsed": true
   },
   "outputs": [],
   "source": []
  },
  {
   "cell_type": "code",
   "execution_count": null,
   "metadata": {
    "collapsed": false
   },
   "outputs": [],
   "source": []
  },
  {
   "cell_type": "code",
   "execution_count": null,
   "metadata": {
    "collapsed": false
   },
   "outputs": [],
   "source": []
  },
  {
   "cell_type": "code",
   "execution_count": null,
   "metadata": {
    "collapsed": false
   },
   "outputs": [],
   "source": []
  },
  {
   "cell_type": "code",
   "execution_count": null,
   "metadata": {
    "collapsed": false
   },
   "outputs": [],
   "source": []
  },
  {
   "cell_type": "code",
   "execution_count": null,
   "metadata": {
    "collapsed": true
   },
   "outputs": [],
   "source": []
  }
 ],
 "metadata": {
  "anaconda-cloud": {},
  "kernelspec": {
   "display_name": "Python [default]",
   "language": "python",
   "name": "python2"
  },
  "language_info": {
   "codemirror_mode": {
    "name": "ipython",
    "version": 2
   },
   "file_extension": ".py",
   "mimetype": "text/x-python",
   "name": "python",
   "nbconvert_exporter": "python",
   "pygments_lexer": "ipython2",
   "version": "2.7.12"
  }
 },
 "nbformat": 4,
 "nbformat_minor": 1
}
