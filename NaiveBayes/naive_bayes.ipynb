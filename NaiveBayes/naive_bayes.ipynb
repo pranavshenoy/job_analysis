{
 "cells": [
  {
   "cell_type": "code",
   "execution_count": 29,
   "metadata": {
    "collapsed": true
   },
   "outputs": [],
   "source": [
    "\n",
    "import nltk\n",
    "import random\n"
   ]
  },
  {
   "cell_type": "code",
   "execution_count": 30,
   "metadata": {
    "collapsed": false
   },
   "outputs": [],
   "source": [
    "#formats the dataset -- combines sentences with the category(label)\n",
    "def format(fname,strip,category):\n",
    "    f=open(fname,\"r\").read().split(';')\n",
    "    data=[]   #list \n",
    "    f[0]=f[0].strip(\"\\xef\\xbb\\xbf\")\n",
    "    for s in f:\n",
    "        s=s.strip(strip)\n",
    "        s=s.strip(';')\n",
    "        data.append([s,category])\n",
    "    return data\n"
   ]
  },
  {
   "cell_type": "code",
   "execution_count": 31,
   "metadata": {
    "collapsed": false
   },
   "outputs": [],
   "source": [
    "data_temp= format('pos/pros.txt','\\n','positive')+format('neg/cons.txt','\\n','negative')  # calling for formatting  pos and neg\n",
    "data=[]\n",
    "random.shuffle(data_temp)\n",
    "#breaking a sentence into words\n",
    "for (words, sentiment) in data_temp:\n",
    "    words_filtered = [e.lower() for e in words.split()]\n",
    "    data.append((words_filtered, sentiment))\n"
   ]
  },
  {
   "cell_type": "code",
   "execution_count": null,
   "metadata": {
    "collapsed": true
   },
   "outputs": [],
   "source": []
  },
  {
   "cell_type": "code",
   "execution_count": 32,
   "metadata": {
    "collapsed": false
   },
   "outputs": [],
   "source": [
    "def get_words(x):    #returns all the words in the  data set\n",
    "    all_words = []\n",
    "    for (words, sentiment) in x:\n",
    "      all_words.extend(words)\n",
    "    return all_words\n",
    "\n",
    "def extract_features(document):       #each sentences contains a list of words and true/false \n",
    "    document_words = set(document)    #indicating whether the word is present in the sentence or not\n",
    "    features = {}\n",
    "    for word in word_features:\n",
    "         features['contains(%s)' % word] = (word in document_words)\n",
    "    return features\n",
    "\n",
    "word_features = set(get_words(data)) #unique set of words\n"
   ]
  },
  {
   "cell_type": "code",
   "execution_count": null,
   "metadata": {
    "collapsed": false
   },
   "outputs": [],
   "source": []
  },
  {
   "cell_type": "code",
   "execution_count": 33,
   "metadata": {
    "collapsed": false
   },
   "outputs": [],
   "source": [
    "train_test = nltk.classify.apply_features(extract_features, data)\n",
    "#print  train_test\n",
    "train_set=train_test[:200]\n",
    "test_set=train_test[201:]"
   ]
  },
  {
   "cell_type": "code",
   "execution_count": 34,
   "metadata": {
    "collapsed": true
   },
   "outputs": [],
   "source": [
    "classifier = nltk.NaiveBayesClassifier.train(train_set)"
   ]
  },
  {
   "cell_type": "code",
   "execution_count": 35,
   "metadata": {
    "collapsed": false
   },
   "outputs": [
    {
     "data": {
      "text/plain": [
       "0.7540983606557377"
      ]
     },
     "execution_count": 35,
     "metadata": {},
     "output_type": "execute_result"
    }
   ],
   "source": [
    "nltk.classify.accuracy(classifier, test_set)"
   ]
  },
  {
   "cell_type": "code",
   "execution_count": 37,
   "metadata": {
    "collapsed": false
   },
   "outputs": [
    {
     "data": {
      "text/plain": [
       "'positive'"
      ]
     },
     "execution_count": 37,
     "metadata": {},
     "output_type": "execute_result"
    }
   ],
   "source": [
    "sample='i love company'\n",
    "classifier.classify(extract_features(sample.split()))"
   ]
  },
  {
   "cell_type": "code",
   "execution_count": 185,
   "metadata": {
    "collapsed": false
   },
   "outputs": [
    {
     "name": "stdout",
     "output_type": "stream",
     "text": [
      "Most Informative Features\n",
      "          contains(life) = True           positi : negati =      9.0 : 1.0\n",
      "   contains(environment) = True           positi : negati =      6.9 : 1.0\n",
      "          contains(good) = True           positi : negati =      6.0 : 1.0\n",
      "      contains(learning) = True           positi : negati =      5.4 : 1.0\n",
      "         contains(great) = True           positi : negati =      5.4 : 1.0\n",
      "    contains(management) = True           negati : positi =      5.0 : 1.0\n",
      "          contains(more) = True           positi : negati =      4.2 : 1.0\n",
      "        contains(things) = True           positi : negati =      4.2 : 1.0\n",
      "            contains(no) = True           negati : positi =      3.9 : 1.0\n",
      "            contains(at) = True           negati : positi =      3.5 : 1.0\n",
      "        contains(growth) = True           negati : positi =      3.5 : 1.0\n",
      "           contains(lot) = True           positi : negati =      3.4 : 1.0\n",
      "           contains(new) = True           positi : negati =      3.2 : 1.0\n",
      "  contains(technologies) = True           positi : negati =      3.2 : 1.0\n",
      "         contains(place) = True           positi : negati =      3.2 : 1.0\n",
      "          contains(work) = True           positi : negati =      3.1 : 1.0\n",
      "          contains(year) = True           positi : negati =      3.0 : 1.0\n",
      "          contains(food) = True           positi : negati =      3.0 : 1.0\n",
      "            contains(so) = True           positi : negati =      3.0 : 1.0\n",
      "   contains(opportunity) = True           positi : negati =      3.0 : 1.0\n",
      "       contains(culture) = True           positi : negati =      2.8 : 1.0\n",
      "        contains(people) = True           negati : positi =      2.8 : 1.0\n",
      "            contains(be) = True           negati : positi =      2.8 : 1.0\n",
      "            contains(if) = True           positi : negati =      2.5 : 1.0\n",
      "           contains(not) = True           negati : positi =      2.5 : 1.0\n",
      "None\n"
     ]
    }
   ],
   "source": [
    "print classifier.show_most_informative_features(25)"
   ]
  },
  {
   "cell_type": "code",
   "execution_count": null,
   "metadata": {
    "collapsed": true
   },
   "outputs": [],
   "source": []
  },
  {
   "cell_type": "code",
   "execution_count": null,
   "metadata": {
    "collapsed": true
   },
   "outputs": [],
   "source": []
  }
 ],
 "metadata": {
  "anaconda-cloud": {},
  "kernelspec": {
   "display_name": "Python [default]",
   "language": "python",
   "name": "python2"
  },
  "language_info": {
   "codemirror_mode": {
    "name": "ipython",
    "version": 2
   },
   "file_extension": ".py",
   "mimetype": "text/x-python",
   "name": "python",
   "nbconvert_exporter": "python",
   "pygments_lexer": "ipython2",
   "version": "2.7.12"
  }
 },
 "nbformat": 4,
 "nbformat_minor": 1
}
