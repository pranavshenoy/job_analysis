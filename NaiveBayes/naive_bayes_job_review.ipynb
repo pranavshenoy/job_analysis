{
 "cells": [
  {
   "cell_type": "code",
   "execution_count": 32,
   "metadata": {
    "collapsed": true
   },
   "outputs": [],
   "source": [
    "import nltk\n",
    "import random\n",
    "import os\n",
    "import json\n",
    "from nltk.stem import  PorterStemmer\n",
    "from nltk.corpus import words"
   ]
  },
  {
   "cell_type": "code",
   "execution_count": 46,
   "metadata": {
    "collapsed": false
   },
   "outputs": [],
   "source": [
    "def load_dataset():  \n",
    "    dataset=[]\n",
    "    for root, dirs, files in os.walk('../Dataset'):\n",
    "        for directory in dirs:\n",
    "            for root_f, dirs_f, files_f in os.walk(os.path.join(root,directory)):\n",
    "                for each_file in files_f:\n",
    "                    print directory+each_file\n",
    "                    with open(os.path.join(root,directory)+'/'+each_file) as f:\n",
    "                        data_temp=json.load(f)    \n",
    "                    dataset+=[(sentence.split(),each_file) for sentence in data_temp]    \n",
    "    return dataset"
   ]
  },
  {
   "cell_type": "code",
   "execution_count": 47,
   "metadata": {
    "collapsed": true
   },
   "outputs": [],
   "source": [
    "def get_words(x):    #returns all the words in the  data set\n",
    "    vocab = []\n",
    "    for (words, sentiment) in x:\n",
    "        vocab.extend(words)\n",
    "    return vocab"
   ]
  },
  {
   "cell_type": "code",
   "execution_count": 48,
   "metadata": {
    "collapsed": true
   },
   "outputs": [],
   "source": [
    "#ps=PorterStemmer()"
   ]
  },
  {
   "cell_type": "code",
   "execution_count": 49,
   "metadata": {
    "collapsed": false
   },
   "outputs": [
    {
     "name": "stdout",
     "output_type": "stream",
     "text": [
      "Aspect7sli_pos\n"
     ]
    },
    {
     "ename": "ValueError",
     "evalue": "Unterminated string starting at: line 1 column 294865 (char 294864)",
     "output_type": "error",
     "traceback": [
      "\u001b[0;31m---------------------------------------------------------------------------\u001b[0m",
      "\u001b[0;31mValueError\u001b[0m                                Traceback (most recent call last)",
      "\u001b[0;32m<ipython-input-49-c62f92ebd16e>\u001b[0m in \u001b[0;36m<module>\u001b[0;34m()\u001b[0m\n\u001b[1;32m      1\u001b[0m \u001b[0;31m#execution\u001b[0m\u001b[0;34m\u001b[0m\u001b[0;34m\u001b[0m\u001b[0m\n\u001b[0;32m----> 2\u001b[0;31m \u001b[0mlabeled_data\u001b[0m\u001b[0;34m=\u001b[0m\u001b[0mload_dataset\u001b[0m\u001b[0;34m(\u001b[0m\u001b[0;34m)\u001b[0m\u001b[0;34m\u001b[0m\u001b[0m\n\u001b[0m\u001b[1;32m      3\u001b[0m \u001b[0mvocab\u001b[0m\u001b[0;34m=\u001b[0m\u001b[0mset\u001b[0m\u001b[0;34m(\u001b[0m\u001b[0mget_words\u001b[0m\u001b[0;34m(\u001b[0m\u001b[0mlabeled_data\u001b[0m\u001b[0;34m)\u001b[0m\u001b[0;34m)\u001b[0m\u001b[0;34m\u001b[0m\u001b[0m\n\u001b[1;32m      4\u001b[0m \u001b[0;31m#vocab=[ps.stem(word) for word in words.words()]\u001b[0m\u001b[0;34m\u001b[0m\u001b[0;34m\u001b[0m\u001b[0m\n",
      "\u001b[0;32m<ipython-input-46-c48960e865f4>\u001b[0m in \u001b[0;36mload_dataset\u001b[0;34m()\u001b[0m\n\u001b[1;32m      7\u001b[0m                     \u001b[0;32mprint\u001b[0m \u001b[0mdirectory\u001b[0m\u001b[0;34m+\u001b[0m\u001b[0meach_file\u001b[0m\u001b[0;34m\u001b[0m\u001b[0m\n\u001b[1;32m      8\u001b[0m                     \u001b[0;32mwith\u001b[0m \u001b[0mopen\u001b[0m\u001b[0;34m(\u001b[0m\u001b[0mos\u001b[0m\u001b[0;34m.\u001b[0m\u001b[0mpath\u001b[0m\u001b[0;34m.\u001b[0m\u001b[0mjoin\u001b[0m\u001b[0;34m(\u001b[0m\u001b[0mroot\u001b[0m\u001b[0;34m,\u001b[0m\u001b[0mdirectory\u001b[0m\u001b[0;34m)\u001b[0m\u001b[0;34m+\u001b[0m\u001b[0;34m'/'\u001b[0m\u001b[0;34m+\u001b[0m\u001b[0meach_file\u001b[0m\u001b[0;34m)\u001b[0m \u001b[0;32mas\u001b[0m \u001b[0mf\u001b[0m\u001b[0;34m:\u001b[0m\u001b[0;34m\u001b[0m\u001b[0m\n\u001b[0;32m----> 9\u001b[0;31m                         \u001b[0mdata_temp\u001b[0m\u001b[0;34m=\u001b[0m\u001b[0mjson\u001b[0m\u001b[0;34m.\u001b[0m\u001b[0mload\u001b[0m\u001b[0;34m(\u001b[0m\u001b[0mf\u001b[0m\u001b[0;34m)\u001b[0m\u001b[0;34m\u001b[0m\u001b[0m\n\u001b[0m\u001b[1;32m     10\u001b[0m                     \u001b[0mdataset\u001b[0m\u001b[0;34m+=\u001b[0m\u001b[0;34m[\u001b[0m\u001b[0;34m(\u001b[0m\u001b[0msentence\u001b[0m\u001b[0;34m.\u001b[0m\u001b[0msplit\u001b[0m\u001b[0;34m(\u001b[0m\u001b[0;34m)\u001b[0m\u001b[0;34m,\u001b[0m\u001b[0meach_file\u001b[0m\u001b[0;34m)\u001b[0m \u001b[0;32mfor\u001b[0m \u001b[0msentence\u001b[0m \u001b[0;32min\u001b[0m \u001b[0mdata_temp\u001b[0m\u001b[0;34m]\u001b[0m\u001b[0;34m\u001b[0m\u001b[0m\n\u001b[1;32m     11\u001b[0m     \u001b[0;32mreturn\u001b[0m \u001b[0mdataset\u001b[0m\u001b[0;34m\u001b[0m\u001b[0m\n",
      "\u001b[0;32m/home/pranav/anaconda2/lib/python2.7/json/__init__.pyc\u001b[0m in \u001b[0;36mload\u001b[0;34m(fp, encoding, cls, object_hook, parse_float, parse_int, parse_constant, object_pairs_hook, **kw)\u001b[0m\n\u001b[1;32m    289\u001b[0m         \u001b[0mparse_float\u001b[0m\u001b[0;34m=\u001b[0m\u001b[0mparse_float\u001b[0m\u001b[0;34m,\u001b[0m \u001b[0mparse_int\u001b[0m\u001b[0;34m=\u001b[0m\u001b[0mparse_int\u001b[0m\u001b[0;34m,\u001b[0m\u001b[0;34m\u001b[0m\u001b[0m\n\u001b[1;32m    290\u001b[0m         \u001b[0mparse_constant\u001b[0m\u001b[0;34m=\u001b[0m\u001b[0mparse_constant\u001b[0m\u001b[0;34m,\u001b[0m \u001b[0mobject_pairs_hook\u001b[0m\u001b[0;34m=\u001b[0m\u001b[0mobject_pairs_hook\u001b[0m\u001b[0;34m,\u001b[0m\u001b[0;34m\u001b[0m\u001b[0m\n\u001b[0;32m--> 291\u001b[0;31m         **kw)\n\u001b[0m\u001b[1;32m    292\u001b[0m \u001b[0;34m\u001b[0m\u001b[0m\n\u001b[1;32m    293\u001b[0m \u001b[0;34m\u001b[0m\u001b[0m\n",
      "\u001b[0;32m/home/pranav/anaconda2/lib/python2.7/json/__init__.pyc\u001b[0m in \u001b[0;36mloads\u001b[0;34m(s, encoding, cls, object_hook, parse_float, parse_int, parse_constant, object_pairs_hook, **kw)\u001b[0m\n\u001b[1;32m    337\u001b[0m             \u001b[0mparse_int\u001b[0m \u001b[0;32mis\u001b[0m \u001b[0mNone\u001b[0m \u001b[0;32mand\u001b[0m \u001b[0mparse_float\u001b[0m \u001b[0;32mis\u001b[0m \u001b[0mNone\u001b[0m \u001b[0;32mand\u001b[0m\u001b[0;34m\u001b[0m\u001b[0m\n\u001b[1;32m    338\u001b[0m             parse_constant is None and object_pairs_hook is None and not kw):\n\u001b[0;32m--> 339\u001b[0;31m         \u001b[0;32mreturn\u001b[0m \u001b[0m_default_decoder\u001b[0m\u001b[0;34m.\u001b[0m\u001b[0mdecode\u001b[0m\u001b[0;34m(\u001b[0m\u001b[0ms\u001b[0m\u001b[0;34m)\u001b[0m\u001b[0;34m\u001b[0m\u001b[0m\n\u001b[0m\u001b[1;32m    340\u001b[0m     \u001b[0;32mif\u001b[0m \u001b[0mcls\u001b[0m \u001b[0;32mis\u001b[0m \u001b[0mNone\u001b[0m\u001b[0;34m:\u001b[0m\u001b[0;34m\u001b[0m\u001b[0m\n\u001b[1;32m    341\u001b[0m         \u001b[0mcls\u001b[0m \u001b[0;34m=\u001b[0m \u001b[0mJSONDecoder\u001b[0m\u001b[0;34m\u001b[0m\u001b[0m\n",
      "\u001b[0;32m/home/pranav/anaconda2/lib/python2.7/json/decoder.pyc\u001b[0m in \u001b[0;36mdecode\u001b[0;34m(self, s, _w)\u001b[0m\n\u001b[1;32m    362\u001b[0m \u001b[0;34m\u001b[0m\u001b[0m\n\u001b[1;32m    363\u001b[0m         \"\"\"\n\u001b[0;32m--> 364\u001b[0;31m         \u001b[0mobj\u001b[0m\u001b[0;34m,\u001b[0m \u001b[0mend\u001b[0m \u001b[0;34m=\u001b[0m \u001b[0mself\u001b[0m\u001b[0;34m.\u001b[0m\u001b[0mraw_decode\u001b[0m\u001b[0;34m(\u001b[0m\u001b[0ms\u001b[0m\u001b[0;34m,\u001b[0m \u001b[0midx\u001b[0m\u001b[0;34m=\u001b[0m\u001b[0m_w\u001b[0m\u001b[0;34m(\u001b[0m\u001b[0ms\u001b[0m\u001b[0;34m,\u001b[0m \u001b[0;36m0\u001b[0m\u001b[0;34m)\u001b[0m\u001b[0;34m.\u001b[0m\u001b[0mend\u001b[0m\u001b[0;34m(\u001b[0m\u001b[0;34m)\u001b[0m\u001b[0;34m)\u001b[0m\u001b[0;34m\u001b[0m\u001b[0m\n\u001b[0m\u001b[1;32m    365\u001b[0m         \u001b[0mend\u001b[0m \u001b[0;34m=\u001b[0m \u001b[0m_w\u001b[0m\u001b[0;34m(\u001b[0m\u001b[0ms\u001b[0m\u001b[0;34m,\u001b[0m \u001b[0mend\u001b[0m\u001b[0;34m)\u001b[0m\u001b[0;34m.\u001b[0m\u001b[0mend\u001b[0m\u001b[0;34m(\u001b[0m\u001b[0;34m)\u001b[0m\u001b[0;34m\u001b[0m\u001b[0m\n\u001b[1;32m    366\u001b[0m         \u001b[0;32mif\u001b[0m \u001b[0mend\u001b[0m \u001b[0;34m!=\u001b[0m \u001b[0mlen\u001b[0m\u001b[0;34m(\u001b[0m\u001b[0ms\u001b[0m\u001b[0;34m)\u001b[0m\u001b[0;34m:\u001b[0m\u001b[0;34m\u001b[0m\u001b[0m\n",
      "\u001b[0;32m/home/pranav/anaconda2/lib/python2.7/json/decoder.pyc\u001b[0m in \u001b[0;36mraw_decode\u001b[0;34m(self, s, idx)\u001b[0m\n\u001b[1;32m    378\u001b[0m         \"\"\"\n\u001b[1;32m    379\u001b[0m         \u001b[0;32mtry\u001b[0m\u001b[0;34m:\u001b[0m\u001b[0;34m\u001b[0m\u001b[0m\n\u001b[0;32m--> 380\u001b[0;31m             \u001b[0mobj\u001b[0m\u001b[0;34m,\u001b[0m \u001b[0mend\u001b[0m \u001b[0;34m=\u001b[0m \u001b[0mself\u001b[0m\u001b[0;34m.\u001b[0m\u001b[0mscan_once\u001b[0m\u001b[0;34m(\u001b[0m\u001b[0ms\u001b[0m\u001b[0;34m,\u001b[0m \u001b[0midx\u001b[0m\u001b[0;34m)\u001b[0m\u001b[0;34m\u001b[0m\u001b[0m\n\u001b[0m\u001b[1;32m    381\u001b[0m         \u001b[0;32mexcept\u001b[0m \u001b[0mStopIteration\u001b[0m\u001b[0;34m:\u001b[0m\u001b[0;34m\u001b[0m\u001b[0m\n\u001b[1;32m    382\u001b[0m             \u001b[0;32mraise\u001b[0m \u001b[0mValueError\u001b[0m\u001b[0;34m(\u001b[0m\u001b[0;34m\"No JSON object could be decoded\"\u001b[0m\u001b[0;34m)\u001b[0m\u001b[0;34m\u001b[0m\u001b[0m\n",
      "\u001b[0;31mValueError\u001b[0m: Unterminated string starting at: line 1 column 294865 (char 294864)"
     ]
    }
   ],
   "source": [
    "#execution\n",
    "labeled_data=load_dataset()\n",
    "vocab=set(get_words(labeled_data))\n",
    "#vocab=[ps.stem(word) for word in words.words()]"
   ]
  },
  {
   "cell_type": "code",
   "execution_count": 28,
   "metadata": {
    "collapsed": false
   },
   "outputs": [
    {
     "data": {
      "text/plain": [
       "[([u'reviewing', u'backing'], 'neutral'),\n",
       " ([u're-priortizing'], 'neutral'),\n",
       " ([u'followed', u'by', u'swimming', u'through', u'into'], 'neutral'),\n",
       " ([u'replying', u'to', u'urgent', u'e-mail'], 'neutral'),\n",
       " ([u'rest',\n",
       "   u'of',\n",
       "   u'the',\n",
       "   u'days',\n",
       "   u'goes',\n",
       "   u'in',\n",
       "   u'attending',\n",
       "   u'schedule',\n",
       "   u'meetings'],\n",
       "  'neutral'),\n",
       " ([u'reviewing', u'project', u'status'], 'neutral'),\n",
       " ([u'address', u'any', u'roadblocks'], 'neutral'),\n",
       " ([u'one',\n",
       "   u'need',\n",
       "   u'to',\n",
       "   u'really',\n",
       "   u'work',\n",
       "   u'hard',\n",
       "   u'not',\n",
       "   u'to',\n",
       "   u'find',\n",
       "   u'what',\n",
       "   u'they',\n",
       "   u'will',\n",
       "   u'not',\n",
       "   u'get',\n",
       "   u'in',\n",
       "   u'ism'],\n",
       "  'neutral'),\n",
       " ([u'peers'], 'neutral'),\n",
       " ([u'needs',\n",
       "   u'ton',\n",
       "   u'load',\n",
       "   u'of',\n",
       "   u'communication',\n",
       "   u'to',\n",
       "   u'keep',\n",
       "   u'all',\n",
       "   u'in',\n",
       "   u'lynch'],\n",
       "  'neutral'),\n",
       " ([], 'neutral'),\n",
       " ([u'same', u'as', u'of', u'ism', u'india', u'put,ltd'], 'neutral'),\n",
       " ([u'as', u'it', u'was', u'internal', u'movement'], 'neutral'),\n",
       " ([u'what',\n",
       "   u'changed',\n",
       "   u'only',\n",
       "   u'is',\n",
       "   u'name',\n",
       "   u'else',\n",
       "   u'everything',\n",
       "   u'remain',\n",
       "   u'same'],\n",
       "  'neutral'),\n",
       " ([u'now',\n",
       "   u'we',\n",
       "   u'are',\n",
       "   u'part',\n",
       "   u'corporate',\n",
       "   u'instead',\n",
       "   u'of',\n",
       "   u'po',\n",
       "   u'tag',\n",
       "   u'specifically'],\n",
       "  'neutral'),\n",
       " ([], 'neutral'),\n",
       " ([u'with',\n",
       "   u'its',\n",
       "   u'global',\n",
       "   u'presence',\n",
       "   u'ism',\n",
       "   u'is',\n",
       "   u'an',\n",
       "   u'international',\n",
       "   u'brand',\n",
       "   u'which',\n",
       "   u'has',\n",
       "   u'the',\n",
       "   u'potential',\n",
       "   u'to',\n",
       "   u'attract',\n",
       "   u'talents',\n",
       "   u'all',\n",
       "   u'across',\n",
       "   u'the',\n",
       "   u'globe'],\n",
       "  'neutral'),\n",
       " ([], 'neutral'),\n",
       " ([u'i', u'am', u'working', u'here', u'for', u'around', u'years'], 'neutral'),\n",
       " ([u'ism', u'is', u\"employee's\", u'company'], 'neutral'),\n",
       " ([], 'neutral'),\n",
       " ([u'the',\n",
       "   u'international',\n",
       "   u'business',\n",
       "   u'machines',\n",
       "   u'corporation',\n",
       "   u'(ism)',\n",
       "   u'is',\n",
       "   u'an',\n",
       "   u'american',\n",
       "   u'multinational',\n",
       "   u'technology'],\n",
       "  'neutral'),\n",
       " ([u'consulting', u'corporation'], 'neutral'),\n",
       " ([u'with', u'headquarters', u'in', u'among'], 'neutral'),\n",
       " ([u'ism', u'manufactures'], 'neutral'),\n",
       " ([u'markets', u'computer', u'hardware'], 'neutral'),\n",
       " ([u'software'], 'neutral'),\n",
       " ([u'costing'], 'neutral'),\n",
       " ([u'consulting',\n",
       "   u'services',\n",
       "   u'in',\n",
       "   u'areas',\n",
       "   u'ranging',\n",
       "   u'from',\n",
       "   u'mainframe',\n",
       "   u'computers',\n",
       "   u'to',\n",
       "   u'nanotechnology'],\n",
       "  'neutral'),\n",
       " ([], 'neutral'),\n",
       " ([u'ism', u'is', u'well', u'known', u'it', u'company', u'worldwide'],\n",
       "  'neutral'),\n",
       " ([u'co', u'operative'], 'neutral'),\n",
       " ([u'grow', u'in', u'respective', u'domain'], 'neutral'),\n",
       " ([], 'neutral'),\n",
       " ([u'passion'], 'neutral'),\n",
       " ([], 'neutral'),\n",
       " ([u'business', u'analysis'], 'neutral'),\n",
       " ([u'data', u'migration/teach', u'migration', u'planning'], 'neutral'),\n",
       " ([u'test', u'strategy', u'building'], 'neutral'),\n",
       " ([u'test', u'planning'], 'neutral'),\n",
       " ([u'provides', u'a', u'amicable'], 'neutral'),\n",
       " ([], 'neutral'),\n",
       " ([], 'neutral'),\n",
       " ([u'it', u'includes', u'network'], 'neutral'),\n",
       " ([u'server'], 'neutral'),\n",
       " ([u'handling', u'excavations'], 'neutral'),\n",
       " ([u'fortifications', u'i', u'completed', u'with', u'ism', u'til'], 'neutral'),\n",
       " ([u'iso27001-2013'], 'neutral'),\n",
       " ([u'prince', u'2'], 'neutral'),\n",
       " ([u'hardest',\n",
       "   u'part',\n",
       "   u'of',\n",
       "   u'job',\n",
       "   u'to',\n",
       "   u'handle',\n",
       "   u'the',\n",
       "   u'service',\n",
       "   u'provides'],\n",
       "  'neutral'),\n",
       " ([u'like', u'at&amp;t', u'for', u'network'], 'neutral'),\n",
       " ([u'internal', u'support', u'tears', u'for', u'server', u'&amp;', u'desktop'],\n",
       "  'neutral'),\n",
       " ([], 'neutral'),\n",
       " ([u'not', u'just', u'make', u'money'], 'neutral'),\n",
       " ([u'lose', u'track', u'of', u'your', u'progress'], 'neutral'),\n",
       " ([], 'neutral'),\n",
       " ([u'performer'], 'neutral'),\n",
       " ([], 'neutral'),\n",
       " ([u'facing',\n",
       "   u'difficulty',\n",
       "   u'to',\n",
       "   u'work',\n",
       "   u'in',\n",
       "   u'night',\n",
       "   u'shifts',\n",
       "   u'as',\n",
       "   u'it',\n",
       "   u'is',\n",
       "   u'affecting',\n",
       "   u'my',\n",
       "   u'health',\n",
       "   u'after',\n",
       "   u'serving',\n",
       "   u'the',\n",
       "   u'industry',\n",
       "   u'for',\n",
       "   u'11',\n",
       "   u'years',\n",
       "   u'in',\n",
       "   u'the',\n",
       "   u'same',\n",
       "   u'organization'],\n",
       "  'neutral'),\n",
       " ([u'also',\n",
       "   u'the',\n",
       "   u'process',\n",
       "   u'has',\n",
       "   u'not',\n",
       "   u'been',\n",
       "   u'renewed',\n",
       "   u'by',\n",
       "   u'the',\n",
       "   u'company',\n",
       "   u'as',\n",
       "   u'ism',\n",
       "   u'does',\n",
       "   u'not',\n",
       "   u'want',\n",
       "   u'to',\n",
       "   u'continue',\n",
       "   u'in',\n",
       "   u'the',\n",
       "   u'it',\n",
       "   u'helpless',\n",
       "   u'industry'],\n",
       "  'neutral'),\n",
       " ([u'hence',\n",
       "   u'not',\n",
       "   u'rendering',\n",
       "   u'the',\n",
       "   u'contracts',\n",
       "   u'even',\n",
       "   u'if',\n",
       "   u'the',\n",
       "   u'client',\n",
       "   u'wishes',\n",
       "   u'to',\n",
       "   u'do',\n",
       "   u'so'],\n",
       "  'neutral'),\n",
       " ([u'they',\n",
       "   u'already',\n",
       "   u'had',\n",
       "   u'disposed',\n",
       "   u'their',\n",
       "   u'domestic',\n",
       "   u'business',\n",
       "   u'2',\n",
       "   u'years',\n",
       "   u'back',\n",
       "   u'to',\n",
       "   u'concentric'],\n",
       "  'neutral'),\n",
       " ([u'now',\n",
       "   u'plan',\n",
       "   u'to',\n",
       "   u'dispose',\n",
       "   u'the',\n",
       "   u'international',\n",
       "   u'to',\n",
       "   u'cognizant'],\n",
       "  'neutral'),\n",
       " ([u'hence', u'have', u'left', u'the', u'organisation'], 'neutral'),\n",
       " ([u'have',\n",
       "   u'worked',\n",
       "   u'into',\n",
       "   u'medical',\n",
       "   u'transcription',\n",
       "   u'as',\n",
       "   u'my',\n",
       "   u'fist',\n",
       "   u'job'],\n",
       "  'neutral'),\n",
       " ([u'written',\n",
       "   u'english',\n",
       "   u'along',\n",
       "   u'with',\n",
       "   u'the',\n",
       "   u'knowledge',\n",
       "   u'of',\n",
       "   u'conventional',\n",
       "   u'tying'],\n",
       "  'neutral'),\n",
       " ([u'i',\n",
       "   u'have',\n",
       "   u'decided',\n",
       "   u'to',\n",
       "   u'venture',\n",
       "   u'myself',\n",
       "   u'into',\n",
       "   u'work',\n",
       "   u'from',\n",
       "   u'home'],\n",
       "  'neutral'),\n",
       " ([u'gain', u'money', u'out', u'of', u'it', u'to', u'meet', u'my', u'needs'],\n",
       "  'neutral'),\n",
       " ([u'i',\n",
       "   u'can',\n",
       "   u'venture',\n",
       "   u'into',\n",
       "   u'this',\n",
       "   u'as',\n",
       "   u'my',\n",
       "   u'wife',\n",
       "   u'is',\n",
       "   u'still',\n",
       "   u'working'],\n",
       "  'neutral'),\n",
       " ([u'is', u'a', u'big', u'support'], 'neutral'),\n",
       " ([], 'neutral'),\n",
       " ([], 'neutral'),\n",
       " ([u'video', u'conferences', u'as', u'well'], 'neutral'),\n",
       " ([], 'neutral'),\n",
       " ([u'virtual', u'class'], 'neutral'),\n",
       " ([u'person', u'training', u'classes'], 'neutral'),\n",
       " ([u'organisation'], 'neutral'),\n",
       " ([], 'neutral'),\n",
       " ([u'ism', u'gas'], 'neutral'),\n",
       " ([u'grow'], 'neutral'),\n",
       " ([], 'neutral'),\n",
       " ([u'process', u'based', u'company'], 'neutral'),\n",
       " ([], 'neutral'),\n",
       " ([u'just', u'grate'], 'neutral'),\n",
       " ([u'intensive', u'i', u'can', u'say', u'anything'], 'neutral'),\n",
       " ([], 'neutral'),\n",
       " ([u'with',\n",
       "   u'its',\n",
       "   u'global',\n",
       "   u'presence',\n",
       "   u'ism',\n",
       "   u'is',\n",
       "   u'an',\n",
       "   u'international',\n",
       "   u'brand',\n",
       "   u'which',\n",
       "   u'has',\n",
       "   u'the',\n",
       "   u'potential',\n",
       "   u'to',\n",
       "   u'attract',\n",
       "   u'talents',\n",
       "   u'all',\n",
       "   u'across',\n",
       "   u'the',\n",
       "   u'globe'],\n",
       "  'neutral'),\n",
       " ([u\"i'm\",\n",
       "   u'working',\n",
       "   u'as',\n",
       "   u'a',\n",
       "   u'customer',\n",
       "   u'service',\n",
       "   u'associate',\n",
       "   u'with',\n",
       "   u'email',\n",
       "   u'profile'],\n",
       "  'neutral'),\n",
       " ([u'right',\n",
       "   u'now',\n",
       "   u'looking',\n",
       "   u'for',\n",
       "   u'change',\n",
       "   u'due',\n",
       "   u'to',\n",
       "   u'rational',\n",
       "   u'shifts'],\n",
       "  'neutral'),\n",
       " ([u'no', u'fixed', u'week', u'off'], 'neutral'),\n",
       " ([], 'neutral'),\n",
       " ([u'based', u'on', u'the', u'projects'], 'neutral'),\n",
       " ([u'the', u'client', u'requirement'], 'neutral'),\n",
       " ([u'have', u'to', u'travel', u'a', u'lot'], 'neutral'),\n",
       " ([u'i',\n",
       "   u'am',\n",
       "   u'the',\n",
       "   u'boss',\n",
       "   u'as',\n",
       "   u'i',\n",
       "   u'am',\n",
       "   u'the',\n",
       "   u'master',\n",
       "   u'of',\n",
       "   u'the',\n",
       "   u'product'],\n",
       "  'neutral'),\n",
       " ([u'exploring', u'the', u'client', u'issues'], 'neutral'),\n",
       " ([], 'neutral'),\n",
       " ([u'people'], 'neutral'),\n",
       " ([], 'neutral'),\n",
       " ([u'worked', u'as', u'senior', u'executive', u'in', u'customer', u'support'],\n",
       "  'neutral')]"
      ]
     },
     "execution_count": 28,
     "metadata": {},
     "output_type": "execute_result"
    }
   ],
   "source": [
    "labeled_data[20000:50100]"
   ]
  },
  {
   "cell_type": "code",
   "execution_count": 128,
   "metadata": {
    "collapsed": false
   },
   "outputs": [
    {
     "data": {
      "text/plain": [
       "19907"
      ]
     },
     "execution_count": 128,
     "metadata": {},
     "output_type": "execute_result"
    }
   ],
   "source": [
    "len(vocab)"
   ]
  },
  {
   "cell_type": "code",
   "execution_count": 129,
   "metadata": {
    "collapsed": true
   },
   "outputs": [],
   "source": [
    "def extract_features(document):       #each sentences contains a list of words and true/false \n",
    "    features = {}\n",
    "    for word in vocab:\n",
    "         features['contains(%s)' % word] = (word in document)\n",
    "    return features        "
   ]
  },
  {
   "cell_type": "code",
   "execution_count": 134,
   "metadata": {
    "collapsed": false
   },
   "outputs": [],
   "source": [
    "train_test = nltk.classify.apply_features(extract_features, labeled_data)"
   ]
  },
  {
   "cell_type": "code",
   "execution_count": 159,
   "metadata": {
    "collapsed": false
   },
   "outputs": [],
   "source": [
    "train_set=train_test[0:1000]\n",
    "test_set=train_test[-1000:]"
   ]
  },
  {
   "cell_type": "code",
   "execution_count": 150,
   "metadata": {
    "collapsed": false
   },
   "outputs": [],
   "source": [
    "classifier = nltk.NaiveBayesClassifier.train(train_set)"
   ]
  },
  {
   "cell_type": "code",
   "execution_count": 152,
   "metadata": {
    "collapsed": false
   },
   "outputs": [],
   "source": [
    "#nltk.classify.accuracy(classifier, test_set)"
   ]
  },
  {
   "cell_type": "code",
   "execution_count": 160,
   "metadata": {
    "collapsed": false
   },
   "outputs": [
    {
     "data": {
      "text/plain": [
       "'sli_pos'"
      ]
     },
     "execution_count": 160,
     "metadata": {},
     "output_type": "execute_result"
    }
   ],
   "source": [
    "sample='a good company'\n",
    "classifier.classify(extract_features(sample.split()))"
   ]
  },
  {
   "cell_type": "code",
   "execution_count": 156,
   "metadata": {
    "collapsed": false
   },
   "outputs": [
    {
     "name": "stdout",
     "output_type": "stream",
     "text": [
      "Most Informative Features\n",
      "None\n"
     ]
    }
   ],
   "source": [
    "print classifier.show_most_informative_features(25)"
   ]
  },
  {
   "cell_type": "code",
   "execution_count": null,
   "metadata": {
    "collapsed": true
   },
   "outputs": [],
   "source": []
  }
 ],
 "metadata": {
  "anaconda-cloud": {},
  "kernelspec": {
   "display_name": "Python [default]",
   "language": "python",
   "name": "python2"
  },
  "language_info": {
   "codemirror_mode": {
    "name": "ipython",
    "version": 2
   },
   "file_extension": ".py",
   "mimetype": "text/x-python",
   "name": "python",
   "nbconvert_exporter": "python",
   "pygments_lexer": "ipython2",
   "version": "2.7.12"
  }
 },
 "nbformat": 4,
 "nbformat_minor": 1
}
