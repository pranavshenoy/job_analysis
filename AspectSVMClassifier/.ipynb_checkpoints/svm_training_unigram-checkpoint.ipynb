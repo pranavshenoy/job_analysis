{
 "cells": [
  {
   "cell_type": "code",
   "execution_count": 1,
   "metadata": {
    "collapsed": false
   },
   "outputs": [],
   "source": [
    "import nltk\n",
    "import random\n",
    "import os\n",
    "from sklearn.feature_extraction.text import CountVectorizer\n",
    "from sklearn import svm\n",
    "import json\n",
    "import pickle\n",
    "from sklearn.metrics import accuracy_score, f1_score"
   ]
  },
  {
   "cell_type": "code",
   "execution_count": 2,
   "metadata": {
    "collapsed": false
   },
   "outputs": [],
   "source": [
    "label_map={'Aspect1':1 ,'Aspect2':2 ,'Aspect3':3 ,'Aspect4':4 ,'Aspect5':5,'Aspect6':6 ,'Aspect7':7}"
   ]
  },
  {
   "cell_type": "code",
   "execution_count": 3,
   "metadata": {
    "collapsed": false
   },
   "outputs": [],
   "source": [
    "def load_dataset():  \n",
    "    dataset=[]\n",
    "    for root, dirs, files in os.walk('../Dataset'):\n",
    "        for directory in dirs:\n",
    "            for root_f, dirs_f, files_f in os.walk(os.path.join(root,directory)):\n",
    "                for each_file in files_f:\n",
    "                    with open(os.path.join(root,directory)+'/'+each_file) as f:\n",
    "                        data_temp=json.load(f)    \n",
    "                    dataset+=[(sentence,label_map[directory]) for sentence in data_temp]\n",
    "    return dataset"
   ]
  },
  {
   "cell_type": "code",
   "execution_count": 4,
   "metadata": {
    "collapsed": false
   },
   "outputs": [],
   "source": [
    "def get_words(x):    #returns all the words in the  data set\n",
    "    vocab = []\n",
    "    for sentence,polarity in x:  \n",
    "        vocab.extend(sentence.split())\n",
    "    return vocab"
   ]
  },
  {
   "cell_type": "code",
   "execution_count": 5,
   "metadata": {
    "collapsed": false
   },
   "outputs": [],
   "source": [
    "#execution\n",
    "labeled_data=load_dataset()    #loading labeled sentences\n",
    "random.shuffle(labeled_data)\n",
    "vocab=set(get_words(labeled_data)) #getting words "
   ]
  },
  {
   "cell_type": "code",
   "execution_count": 6,
   "metadata": {
    "collapsed": false
   },
   "outputs": [
    {
     "name": "stdout",
     "output_type": "stream",
     "text": [
      "[(u'benefit good', 7), (u'manag spot', 3), (u'day slow', 7), (u'manag sometim', 3), (u'pick scan day love work', 7), (u'great place work special enjoy meet peopl walk life', 4), (u'learn manag difficult task', 3), (u'happi work', 7), (u'product done time proper task schedul person manag', 4), (u'reward technolog capabl', 2)]\n"
     ]
    }
   ],
   "source": [
    "#bigrams\n",
    "print labeled_data[:10]"
   ]
  },
  {
   "cell_type": "code",
   "execution_count": 7,
   "metadata": {
    "collapsed": false
   },
   "outputs": [
    {
     "name": "stdout",
     "output_type": "stream",
     "text": [
      "201378\n"
     ]
    }
   ],
   "source": [
    "print len(labeled_data)"
   ]
  },
  {
   "cell_type": "code",
   "execution_count": 9,
   "metadata": {
    "collapsed": false
   },
   "outputs": [
    {
     "name": "stdout",
     "output_type": "stream",
     "text": [
      "6544\n"
     ]
    }
   ],
   "source": [
    "print len(vocab)"
   ]
  },
  {
   "cell_type": "code",
   "execution_count": 10,
   "metadata": {
    "collapsed": false
   },
   "outputs": [],
   "source": [
    "vectorizer = CountVectorizer(vocabulary=vocab,min_df=1)\n",
    "corpus=[sentence for sentence,pol in labeled_data]\n",
    "features=vectorizer.fit_transform(corpus[:60000])\n",
    "labels=[label for sentence,label in labeled_data[:60000]]"
   ]
  },
  {
   "cell_type": "code",
   "execution_count": 17,
   "metadata": {
    "collapsed": false
   },
   "outputs": [],
   "source": [
    "classifier=svm.SVC()\n",
    "#classifier.kernel='linear'"
   ]
  },
  {
   "cell_type": "code",
   "execution_count": 18,
   "metadata": {
    "collapsed": false
   },
   "outputs": [
    {
     "data": {
      "text/plain": [
       "SVC(C=1.0, cache_size=200, class_weight=None, coef0=0.0,\n",
       "  decision_function_shape=None, degree=3, gamma='auto', kernel='rbf',\n",
       "  max_iter=-1, probability=False, random_state=None, shrinking=True,\n",
       "  tol=0.001, verbose=False)"
      ]
     },
     "execution_count": 18,
     "metadata": {},
     "output_type": "execute_result"
    }
   ],
   "source": [
    "classifier.fit(features[:25000],labels[:25000])\n",
    "#with open('svc_unigram_model','w') as f:\n",
    "#    pickle.dump(classifier,f)"
   ]
  },
  {
   "cell_type": "code",
   "execution_count": 19,
   "metadata": {
    "collapsed": false
   },
   "outputs": [],
   "source": [
    "#accuracy\n",
    "with open('svc_unigram_model') as f:\n",
    "    classifier=pickle.load(f)\n",
    "features_test=vectorizer.fit_transform(corpus[50000:55000])\n",
    "predicted = classifier.predict(features_test)\n",
    "accuracy=accuracy_score(labels[50000:55000],predicted)\n",
    "with open('accuracy_svc_unigram','w') as f:\n",
    "    json.dump(accuracy,f) "
   ]
  },
  {
   "cell_type": "code",
   "execution_count": 21,
   "metadata": {
    "collapsed": false
   },
   "outputs": [
    {
     "name": "stdout",
     "output_type": "stream",
     "text": [
      "85.5\n"
     ]
    }
   ],
   "source": [
    "accuracy"
   ]
  },
  {
   "cell_type": "code",
   "execution_count": 21,
   "metadata": {
    "collapsed": false
   },
   "outputs": [
    {
     "name": "stdout",
     "output_type": "stream",
     "text": [
      "neg: 0.585660\n",
      "sli_pos: 0.035267\n",
      "sli_neg: 0.230902\n",
      "neutral: 0.123239\n",
      "pos: 0.024931\n"
     ]
    }
   ],
   "source": [
    "dist = classifier.prob_classify(extract_features(sen.split()))\n",
    "for label in dist.samples():\n",
    "    print(\"%s: %f\" % (label, dist.prob(label)))"
   ]
  },
  {
   "cell_type": "code",
   "execution_count": 22,
   "metadata": {
    "collapsed": false
   },
   "outputs": [
    {
     "name": "stdout",
     "output_type": "stream",
     "text": [
      "neg: 0.585660\n",
      "sli_pos: 0.035267\n",
      "sli_neg: 0.230902\n",
      "neutral: 0.123239\n",
      "pos: 0.024931\n",
      "0.585660041903\n"
     ]
    }
   ],
   "source": [
    "polarity=0\n",
    "for label in dist.samples():\n",
    "    print(\"%s: %f\" % (label, dist.prob(label)))\n",
    "    polarity=max(polarity,dist.prob(label))\n",
    "print polarity"
   ]
  },
  {
   "cell_type": "code",
   "execution_count": null,
   "metadata": {
    "collapsed": false
   },
   "outputs": [],
   "source": []
  },
  {
   "cell_type": "code",
   "execution_count": null,
   "metadata": {
    "collapsed": true
   },
   "outputs": [],
   "source": []
  }
 ],
 "metadata": {
  "anaconda-cloud": {},
  "kernelspec": {
   "display_name": "Python [default]",
   "language": "python",
   "name": "python2"
  },
  "language_info": {
   "codemirror_mode": {
    "name": "ipython",
    "version": 2
   },
   "file_extension": ".py",
   "mimetype": "text/x-python",
   "name": "python",
   "nbconvert_exporter": "python",
   "pygments_lexer": "ipython2",
   "version": "2.7.12"
  }
 },
 "nbformat": 4,
 "nbformat_minor": 1
}
