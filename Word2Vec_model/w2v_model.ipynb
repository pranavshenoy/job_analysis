{
 "cells": [
  {
   "cell_type": "code",
   "execution_count": 2,
   "metadata": {
    "collapsed": true
   },
   "outputs": [],
   "source": [
    "import json\n",
    "import gensim\n",
    "import nltk\n",
    "import re\n",
    "import numpy as np\n",
    "import os\n",
    "import enchant\n",
    "from nltk.tokenize import RegexpTokenizer"
   ]
  },
  {
   "cell_type": "code",
   "execution_count": 5,
   "metadata": {
    "collapsed": false
   },
   "outputs": [],
   "source": [
    "#fetch all reviews\n",
    "data=[]\n",
    "for root, dirs, files in os.walk('../Reviews/'):\n",
    "    for name in dirs:                             #all review folders\n",
    "        with open('../Reviews/'+name+'/review.txt') as f:\n",
    "            data=data+json.load(f)\n",
    "dataset=[]\n",
    "dataset=np.asarray(data)\n",
    "dataset=np.concatenate(dataset)               #contains all the reviews"
   ]
  },
  {
   "cell_type": "code",
   "execution_count": 6,
   "metadata": {
    "collapsed": false
   },
   "outputs": [],
   "source": [
    "#initialising dictionary, tokenizer, stemmer\n",
    "dictionary = enchant.Dict(\"en_US\")\n",
    "tokenizer=RegexpTokenizer('[a-zA-Z]+')"
   ]
  },
  {
   "cell_type": "code",
   "execution_count": 7,
   "metadata": {
    "collapsed": true
   },
   "outputs": [],
   "source": [
    "def preprocess(sentence):\n",
    "    dataset=[]\n",
    "    #print 'sentence : '+sentence\n",
    "    temp=tokenizer.tokenize(sentence)\n",
    "    #print 'tokenizer : '+str(temp)\n",
    "    only_english=[word for word in temp if dictionary.check(word)== True]  # remove non-english words\n",
    "    #print 'removed all non-english words : '+str(only_english)\n",
    "    return  only_english           # returns tokens"
   ]
  },
  {
   "cell_type": "code",
   "execution_count": 8,
   "metadata": {
    "collapsed": true
   },
   "outputs": [],
   "source": [
    "def tokenize_review(review):                # for tokenizing single reviews\n",
    "    review=review.lower()\n",
    "    review_tokens=[]\n",
    "    review=review.replace('.',',')        \n",
    "    #print 'Review : '+review\n",
    "    sentences=re.split(' and | but |, ',review) \n",
    "    for sentence in sentences:\n",
    "        #print ' '\n",
    "        temp=preprocess(sentence)\n",
    "        if(len(temp)>1):\n",
    "            review_tokens.append(temp)\n",
    "    return review_tokens"
   ]
  },
  {
   "cell_type": "code",
   "execution_count": 53,
   "metadata": {
    "collapsed": false,
    "scrolled": true
   },
   "outputs": [
    {
     "name": "stdout",
     "output_type": "stream",
     "text": [
      "Review :  yes,it's a good company to work on and learn new things in your track,lot of opportunities provided by the company to learn cross module experience, it also has a good work life balance \n",
      " \n",
      "sentence :  yes,it's a good company to work on\n",
      "tokenizer : [u'yes', u'it', u's', u'a', u'good', u'company', u'to', u'work', u'on']\n",
      "removed all non-english words : [u'yes', u'it', u's', u'a', u'good', u'company', u'to', u'work', u'on']\n",
      " \n",
      "sentence : learn new things in your track,lot of opportunities provided by the company to learn cross module experience\n",
      "tokenizer : [u'learn', u'new', u'things', u'in', u'your', u'track', u'lot', u'of', u'opportunities', u'provided', u'by', u'the', u'company', u'to', u'learn', u'cross', u'module', u'experience']\n",
      "removed all non-english words : [u'learn', u'new', u'things', u'in', u'your', u'track', u'lot', u'of', u'opportunities', u'provided', u'by', u'the', u'company', u'to', u'learn', u'cross', u'module', u'experience']\n",
      " \n",
      "sentence : it also has a good work life balance \n",
      "tokenizer : [u'it', u'also', u'has', u'a', u'good', u'work', u'life', u'balance']\n",
      "removed all non-english words : [u'it', u'also', u'has', u'a', u'good', u'work', u'life', u'balance']\n"
     ]
    },
    {
     "data": {
      "text/plain": [
       "[[u'yes', u'it', u's', u'a', u'good', u'company', u'to', u'work', u'on'],\n",
       " [u'learn',\n",
       "  u'new',\n",
       "  u'things',\n",
       "  u'in',\n",
       "  u'your',\n",
       "  u'track',\n",
       "  u'lot',\n",
       "  u'of',\n",
       "  u'opportunities',\n",
       "  u'provided',\n",
       "  u'by',\n",
       "  u'the',\n",
       "  u'company',\n",
       "  u'to',\n",
       "  u'learn',\n",
       "  u'cross',\n",
       "  u'module',\n",
       "  u'experience'],\n",
       " [u'it', u'also', u'has', u'a', u'good', u'work', u'life', u'balance']]"
      ]
     },
     "execution_count": 53,
     "metadata": {},
     "output_type": "execute_result"
    }
   ],
   "source": [
    "#only for displaying\n",
    "tokenize_review(dataset[77])"
   ]
  },
  {
   "cell_type": "code",
   "execution_count": 9,
   "metadata": {
    "collapsed": true
   },
   "outputs": [],
   "source": [
    "def tokenize_all(dataset):               # for tokenizing all the reviews\n",
    "    tokens=[]\n",
    "    for review in dataset:\n",
    "        tokens=tokens+tokenize_review(review)\n",
    "    return tokens    "
   ]
  },
  {
   "cell_type": "code",
   "execution_count": 10,
   "metadata": {
    "collapsed": false
   },
   "outputs": [],
   "source": [
    "#'tokens' contain all the tokens\n",
    "tokens=tokenize_all(dataset)"
   ]
  },
  {
   "cell_type": "code",
   "execution_count": 11,
   "metadata": {
    "collapsed": true
   },
   "outputs": [],
   "source": [
    "#storing entire tokens to a a file\n",
    "#with open('tokens.txt','w') as f:\n",
    "#    json.dump(tokens,f)     "
   ]
  },
  {
   "cell_type": "code",
   "execution_count": 12,
   "metadata": {
    "collapsed": false,
    "scrolled": true
   },
   "outputs": [
    {
     "data": {
      "text/plain": [
       "475332"
      ]
     },
     "execution_count": 12,
     "metadata": {},
     "output_type": "execute_result"
    }
   ],
   "source": [
    "len(tokens)"
   ]
  },
  {
   "cell_type": "code",
   "execution_count": 13,
   "metadata": {
    "collapsed": false
   },
   "outputs": [],
   "source": [
    "# training word2vec\n",
    "model = gensim.models.Word2Vec(tokens, min_count=5, workers=2)\n",
    "model.save('model')              #saves the model"
   ]
  },
  {
   "cell_type": "code",
   "execution_count": 6,
   "metadata": {
    "collapsed": false
   },
   "outputs": [
    {
     "data": {
      "text/plain": [
       "[(u'compensation', 0.8923154473304749),\n",
       " (u'hike', 0.7944278717041016),\n",
       " (u'pay', 0.783841609954834),\n",
       " (u'wages', 0.7133928537368774),\n",
       " (u'hikes', 0.7015707492828369),\n",
       " (u'salaries', 0.6739672422409058),\n",
       " (u'wage', 0.6642293930053711),\n",
       " (u'remuneration', 0.6438825726509094),\n",
       " (u'increment', 0.6369696855545044),\n",
       " (u'raises', 0.6115041971206665)]"
      ]
     },
     "execution_count": 6,
     "metadata": {},
     "output_type": "execute_result"
    }
   ],
   "source": [
    "#testing most_similar\n",
    "model.most_similar('salary')"
   ]
  },
  {
   "cell_type": "code",
   "execution_count": 5,
   "metadata": {
    "collapsed": false
   },
   "outputs": [],
   "source": [
    "# testing load feature\n",
    "#model=gensim.models.Word2Vec.load('model')"
   ]
  },
  {
   "cell_type": "code",
   "execution_count": null,
   "metadata": {
    "collapsed": true
   },
   "outputs": [],
   "source": []
  }
 ],
 "metadata": {
  "anaconda-cloud": {},
  "kernelspec": {
   "display_name": "Python [default]",
   "language": "python",
   "name": "python2"
  },
  "language_info": {
   "codemirror_mode": {
    "name": "ipython",
    "version": 2
   },
   "file_extension": ".py",
   "mimetype": "text/x-python",
   "name": "python",
   "nbconvert_exporter": "python",
   "pygments_lexer": "ipython2",
   "version": "2.7.12"
  }
 },
 "nbformat": 4,
 "nbformat_minor": 1
}
